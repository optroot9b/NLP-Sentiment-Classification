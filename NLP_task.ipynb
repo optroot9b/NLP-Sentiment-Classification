{
 "cells": [
  {
   "cell_type": "markdown",
   "metadata": {},
   "source": [
    "# NLP Sentiment Classification Project"
   ]
  },
  {
   "cell_type": "markdown",
   "metadata": {},
   "source": [
    "## Data Loading and Exploratory Data Analysis"
   ]
  },
  {
   "cell_type": "code",
   "metadata": {
    "ExecuteTime": {
     "end_time": "2024-06-14T14:49:50.245434Z",
     "start_time": "2024-06-14T14:49:50.007520Z"
    }
   },
   "source": [
    "import pandas as pd\n",
    "import numpy as np\n",
    "df = pd.read_csv('yelp.csv')"
   ],
   "outputs": [],
   "execution_count": 1
  },
  {
   "cell_type": "markdown",
   "metadata": {},
   "source": [
    "### Display the first 10 rows of the dataset"
   ]
  },
  {
   "cell_type": "code",
   "metadata": {
    "ExecuteTime": {
     "end_time": "2024-06-14T14:49:50.266615Z",
     "start_time": "2024-06-14T14:49:50.251442Z"
    }
   },
   "source": [
    "df.head(10)"
   ],
   "outputs": [
    {
     "data": {
      "text/plain": [
       "              business_id        date               review_id  stars  \\\n",
       "0  9yKzy9PApeiPPOUJEtnvkg  2011-01-26  fWKvX83p0-ka4JS3dc6E5A      5   \n",
       "1  ZRJwVLyzEJq1VAihDhYiow  2011-07-27  IjZ33sJrzXqU-0X6U8NwyA      5   \n",
       "2  6oRAC4uyJCsJl1X0WZpVSA  2012-06-14  IESLBzqUCLdSzSqm0eCSxQ      4   \n",
       "3  _1QQZuf4zZOyFCvXc0o6Vg  2010-05-27  G-WvGaISbqqaMHlNnByodA      5   \n",
       "4  6ozycU1RpktNG2-1BroVtw  2012-01-05  1uJFq2r5QfJG_6ExMRCaGw      5   \n",
       "5  -yxfBYGB6SEqszmxJxd97A  2007-12-13  m2CKSsepBCoRYWxiRUsxAg      4   \n",
       "6  zp713qNhx8d9KCJJnrw1xA  2010-02-12  riFQ3vxNpP4rWLk_CSri2A      5   \n",
       "7  hW0Ne_HTHEAgGF1rAdmR-g  2012-07-12  JL7GXJ9u4YMx7Rzs05NfiQ      4   \n",
       "8  wNUea3IXZWD63bbOQaOH-g  2012-08-17  XtnfnYmnJYi71yIuGsXIUA      4   \n",
       "9  nMHhuYan8e3cONo3PornJA  2010-08-11  jJAIXA46pU1swYyRCdfXtQ      5   \n",
       "\n",
       "                                                text    type  \\\n",
       "0  My wife took me here on my birthday for breakf...  review   \n",
       "1  I have no idea why some people give bad review...  review   \n",
       "2  love the gyro plate. Rice is so good and I als...  review   \n",
       "3  Rosie, Dakota, and I LOVE Chaparral Dog Park!!...  review   \n",
       "4  General Manager Scott Petello is a good egg!!!...  review   \n",
       "5  Quiessence is, simply put, beautiful.  Full wi...  review   \n",
       "6  Drop what you're doing and drive here. After I...  review   \n",
       "7  Luckily, I didn't have to travel far to make m...  review   \n",
       "8  Definitely come for Happy hour! Prices are ama...  review   \n",
       "9  Nobuo shows his unique talents with everything...  review   \n",
       "\n",
       "                  user_id  cool  useful  funny  \n",
       "0  rLtl8ZkDX5vH5nAx9C3q5Q     2       5      0  \n",
       "1  0a2KyEL0d3Yb1V6aivbIuQ     0       0      0  \n",
       "2  0hT2KtfLiobPvh6cDC8JQg     0       1      0  \n",
       "3  uZetl9T0NcROGOyFfughhg     1       2      0  \n",
       "4  vYmM4KTsC8ZfQBg-j5MWkw     0       0      0  \n",
       "5  sqYN3lNgvPbPCTRsMFu27g     4       3      1  \n",
       "6  wFweIWhv2fREZV_dYkz_1g     7       7      4  \n",
       "7  1ieuYcKS7zeAv_U15AB13A     0       1      0  \n",
       "8  Vh_DlizgGhSqQh4qfZ2h6A     0       0      0  \n",
       "9  sUNkXg8-KFtCMQDV6zRzQg     0       1      0  "
      ],
      "text/html": [
       "<div>\n",
       "<style scoped>\n",
       "    .dataframe tbody tr th:only-of-type {\n",
       "        vertical-align: middle;\n",
       "    }\n",
       "\n",
       "    .dataframe tbody tr th {\n",
       "        vertical-align: top;\n",
       "    }\n",
       "\n",
       "    .dataframe thead th {\n",
       "        text-align: right;\n",
       "    }\n",
       "</style>\n",
       "<table border=\"1\" class=\"dataframe\">\n",
       "  <thead>\n",
       "    <tr style=\"text-align: right;\">\n",
       "      <th></th>\n",
       "      <th>business_id</th>\n",
       "      <th>date</th>\n",
       "      <th>review_id</th>\n",
       "      <th>stars</th>\n",
       "      <th>text</th>\n",
       "      <th>type</th>\n",
       "      <th>user_id</th>\n",
       "      <th>cool</th>\n",
       "      <th>useful</th>\n",
       "      <th>funny</th>\n",
       "    </tr>\n",
       "  </thead>\n",
       "  <tbody>\n",
       "    <tr>\n",
       "      <th>0</th>\n",
       "      <td>9yKzy9PApeiPPOUJEtnvkg</td>\n",
       "      <td>2011-01-26</td>\n",
       "      <td>fWKvX83p0-ka4JS3dc6E5A</td>\n",
       "      <td>5</td>\n",
       "      <td>My wife took me here on my birthday for breakf...</td>\n",
       "      <td>review</td>\n",
       "      <td>rLtl8ZkDX5vH5nAx9C3q5Q</td>\n",
       "      <td>2</td>\n",
       "      <td>5</td>\n",
       "      <td>0</td>\n",
       "    </tr>\n",
       "    <tr>\n",
       "      <th>1</th>\n",
       "      <td>ZRJwVLyzEJq1VAihDhYiow</td>\n",
       "      <td>2011-07-27</td>\n",
       "      <td>IjZ33sJrzXqU-0X6U8NwyA</td>\n",
       "      <td>5</td>\n",
       "      <td>I have no idea why some people give bad review...</td>\n",
       "      <td>review</td>\n",
       "      <td>0a2KyEL0d3Yb1V6aivbIuQ</td>\n",
       "      <td>0</td>\n",
       "      <td>0</td>\n",
       "      <td>0</td>\n",
       "    </tr>\n",
       "    <tr>\n",
       "      <th>2</th>\n",
       "      <td>6oRAC4uyJCsJl1X0WZpVSA</td>\n",
       "      <td>2012-06-14</td>\n",
       "      <td>IESLBzqUCLdSzSqm0eCSxQ</td>\n",
       "      <td>4</td>\n",
       "      <td>love the gyro plate. Rice is so good and I als...</td>\n",
       "      <td>review</td>\n",
       "      <td>0hT2KtfLiobPvh6cDC8JQg</td>\n",
       "      <td>0</td>\n",
       "      <td>1</td>\n",
       "      <td>0</td>\n",
       "    </tr>\n",
       "    <tr>\n",
       "      <th>3</th>\n",
       "      <td>_1QQZuf4zZOyFCvXc0o6Vg</td>\n",
       "      <td>2010-05-27</td>\n",
       "      <td>G-WvGaISbqqaMHlNnByodA</td>\n",
       "      <td>5</td>\n",
       "      <td>Rosie, Dakota, and I LOVE Chaparral Dog Park!!...</td>\n",
       "      <td>review</td>\n",
       "      <td>uZetl9T0NcROGOyFfughhg</td>\n",
       "      <td>1</td>\n",
       "      <td>2</td>\n",
       "      <td>0</td>\n",
       "    </tr>\n",
       "    <tr>\n",
       "      <th>4</th>\n",
       "      <td>6ozycU1RpktNG2-1BroVtw</td>\n",
       "      <td>2012-01-05</td>\n",
       "      <td>1uJFq2r5QfJG_6ExMRCaGw</td>\n",
       "      <td>5</td>\n",
       "      <td>General Manager Scott Petello is a good egg!!!...</td>\n",
       "      <td>review</td>\n",
       "      <td>vYmM4KTsC8ZfQBg-j5MWkw</td>\n",
       "      <td>0</td>\n",
       "      <td>0</td>\n",
       "      <td>0</td>\n",
       "    </tr>\n",
       "    <tr>\n",
       "      <th>5</th>\n",
       "      <td>-yxfBYGB6SEqszmxJxd97A</td>\n",
       "      <td>2007-12-13</td>\n",
       "      <td>m2CKSsepBCoRYWxiRUsxAg</td>\n",
       "      <td>4</td>\n",
       "      <td>Quiessence is, simply put, beautiful.  Full wi...</td>\n",
       "      <td>review</td>\n",
       "      <td>sqYN3lNgvPbPCTRsMFu27g</td>\n",
       "      <td>4</td>\n",
       "      <td>3</td>\n",
       "      <td>1</td>\n",
       "    </tr>\n",
       "    <tr>\n",
       "      <th>6</th>\n",
       "      <td>zp713qNhx8d9KCJJnrw1xA</td>\n",
       "      <td>2010-02-12</td>\n",
       "      <td>riFQ3vxNpP4rWLk_CSri2A</td>\n",
       "      <td>5</td>\n",
       "      <td>Drop what you're doing and drive here. After I...</td>\n",
       "      <td>review</td>\n",
       "      <td>wFweIWhv2fREZV_dYkz_1g</td>\n",
       "      <td>7</td>\n",
       "      <td>7</td>\n",
       "      <td>4</td>\n",
       "    </tr>\n",
       "    <tr>\n",
       "      <th>7</th>\n",
       "      <td>hW0Ne_HTHEAgGF1rAdmR-g</td>\n",
       "      <td>2012-07-12</td>\n",
       "      <td>JL7GXJ9u4YMx7Rzs05NfiQ</td>\n",
       "      <td>4</td>\n",
       "      <td>Luckily, I didn't have to travel far to make m...</td>\n",
       "      <td>review</td>\n",
       "      <td>1ieuYcKS7zeAv_U15AB13A</td>\n",
       "      <td>0</td>\n",
       "      <td>1</td>\n",
       "      <td>0</td>\n",
       "    </tr>\n",
       "    <tr>\n",
       "      <th>8</th>\n",
       "      <td>wNUea3IXZWD63bbOQaOH-g</td>\n",
       "      <td>2012-08-17</td>\n",
       "      <td>XtnfnYmnJYi71yIuGsXIUA</td>\n",
       "      <td>4</td>\n",
       "      <td>Definitely come for Happy hour! Prices are ama...</td>\n",
       "      <td>review</td>\n",
       "      <td>Vh_DlizgGhSqQh4qfZ2h6A</td>\n",
       "      <td>0</td>\n",
       "      <td>0</td>\n",
       "      <td>0</td>\n",
       "    </tr>\n",
       "    <tr>\n",
       "      <th>9</th>\n",
       "      <td>nMHhuYan8e3cONo3PornJA</td>\n",
       "      <td>2010-08-11</td>\n",
       "      <td>jJAIXA46pU1swYyRCdfXtQ</td>\n",
       "      <td>5</td>\n",
       "      <td>Nobuo shows his unique talents with everything...</td>\n",
       "      <td>review</td>\n",
       "      <td>sUNkXg8-KFtCMQDV6zRzQg</td>\n",
       "      <td>0</td>\n",
       "      <td>1</td>\n",
       "      <td>0</td>\n",
       "    </tr>\n",
       "  </tbody>\n",
       "</table>\n",
       "</div>"
      ]
     },
     "execution_count": 2,
     "metadata": {},
     "output_type": "execute_result"
    }
   ],
   "execution_count": 2
  },
  {
   "cell_type": "markdown",
   "metadata": {},
   "source": [
    "### Print out the dataset columns"
   ]
  },
  {
   "cell_type": "code",
   "metadata": {
    "ExecuteTime": {
     "end_time": "2024-06-14T14:49:50.272789Z",
     "start_time": "2024-06-14T14:49:50.267622Z"
    }
   },
   "source": [
    "print(df.columns)"
   ],
   "outputs": [
    {
     "name": "stdout",
     "output_type": "stream",
     "text": [
      "Index(['business_id', 'date', 'review_id', 'stars', 'text', 'type', 'user_id',\n",
      "       'cool', 'useful', 'funny'],\n",
      "      dtype='object')\n"
     ]
    }
   ],
   "execution_count": 3
  },
  {
   "cell_type": "markdown",
   "metadata": {},
   "source": [
    "### Provide a summary of the dataset"
   ]
  },
  {
   "cell_type": "code",
   "metadata": {
    "ExecuteTime": {
     "end_time": "2024-06-14T14:49:50.288110Z",
     "start_time": "2024-06-14T14:49:50.273797Z"
    }
   },
   "source": [
    "df.info()"
   ],
   "outputs": [
    {
     "name": "stdout",
     "output_type": "stream",
     "text": [
      "<class 'pandas.core.frame.DataFrame'>\n",
      "RangeIndex: 10000 entries, 0 to 9999\n",
      "Data columns (total 10 columns):\n",
      " #   Column       Non-Null Count  Dtype \n",
      "---  ------       --------------  ----- \n",
      " 0   business_id  10000 non-null  object\n",
      " 1   date         10000 non-null  object\n",
      " 2   review_id    10000 non-null  object\n",
      " 3   stars        10000 non-null  int64 \n",
      " 4   text         10000 non-null  object\n",
      " 5   type         10000 non-null  object\n",
      " 6   user_id      10000 non-null  object\n",
      " 7   cool         10000 non-null  int64 \n",
      " 8   useful       10000 non-null  int64 \n",
      " 9   funny        10000 non-null  int64 \n",
      "dtypes: int64(4), object(6)\n",
      "memory usage: 781.4+ KB\n"
     ]
    }
   ],
   "execution_count": 4
  },
  {
   "cell_type": "markdown",
   "metadata": {},
   "source": [
    "### Plot a histogram to check the reviews' text length"
   ]
  },
  {
   "cell_type": "code",
   "metadata": {
    "ExecuteTime": {
     "end_time": "2024-06-14T14:49:50.666101Z",
     "start_time": "2024-06-14T14:49:50.289100Z"
    }
   },
   "source": [
    "from matplotlib import pyplot as plt\n",
    "df.text.str.len().hist(bins=100)\n",
    "plt.xlabel(\"Length\")\n",
    "plt.ylabel(\"Count\")\n",
    "plt.title(\"Distribution of Review Text Length\")\n",
    "plt.show()"
   ],
   "outputs": [
    {
     "data": {
      "text/plain": [
       "<Figure size 640x480 with 1 Axes>"
      ],
      "image/png": "[encoded data removed]"
     },
     "metadata": {},
     "output_type": "display_data"
    }
   ],
   "execution_count": 5
  },
  {
   "cell_type": "markdown",
   "metadata": {},
   "source": [
    "### Display random review ratings and their text representation."
   ]
  },
  {
   "cell_type": "code",
   "metadata": {
    "ExecuteTime": {
     "end_time": "2024-06-14T14:49:50.674640Z",
     "start_time": "2024-06-14T14:49:50.668100Z"
    }
   },
   "source": [
    "N = 200\n",
    "print(\"Sample review rating:\", df.iloc[N].stars)\n",
    "print(\"Sample review text:\", df.iloc[N].text)"
   ],
   "outputs": [
    {
     "name": "stdout",
     "output_type": "stream",
     "text": [
      "Sample review rating: 5\n",
      "Sample review text: Who dosen't like Cosco, I love this place. The pizza is cheap and good.\n"
     ]
    }
   ],
   "execution_count": 6
  },
  {
   "cell_type": "markdown",
   "metadata": {},
   "source": [
    "### Analyze the distribution of reviews across different rating categories using visualizations"
   ]
  },
  {
   "cell_type": "code",
   "metadata": {
    "ExecuteTime": {
     "end_time": "2024-06-14T14:49:51.112436Z",
     "start_time": "2024-06-14T14:49:50.679153Z"
    }
   },
   "source": [
    "import seaborn as sns\n",
    "sns.displot(df[\"stars\"])\n",
    "plt.title(\"Distribution of Ratings\")\n",
    "plt.show()"
   ],
   "outputs": [
    {
     "data": {
      "text/plain": [
       "<Figure size 500x500 with 1 Axes>"
      ],
      "image/png": "[encoded data removed]"
     },
     "metadata": {},
     "output_type": "display_data"
    }
   ],
   "execution_count": 7
  },
  {
   "cell_type": "markdown",
   "metadata": {},
   "source": [
    "### Data Preprocessing"
   ]
  },
  {
   "cell_type": "code",
   "metadata": {
    "ExecuteTime": {
     "end_time": "2024-06-14T14:49:51.234953Z",
     "start_time": "2024-06-14T14:49:51.113435Z"
    }
   },
   "source": [
    "df = pd.read_csv('yelp.csv')"
   ],
   "outputs": [],
   "execution_count": 8
  },
  {
   "cell_type": "markdown",
   "metadata": {},
   "source": [
    "### Map 1-star reviews to represent negative sentiment (0) and 5-star reviews to represent positive sentiment (1)."
   ]
  },
  {
   "cell_type": "code",
   "metadata": {
    "ExecuteTime": {
     "end_time": "2024-06-14T14:49:51.246466Z",
     "start_time": "2024-06-14T14:49:51.236467Z"
    }
   },
   "source": [
    "df = df[(df[\"stars\"] == 1) | (df[\"stars\"] == 5)]\n",
    "df[\"label\"] = df[\"stars\"].map({1: 0, 5: 1})\n",
    "\n",
    "X_Data = df[\"text\"]\n",
    "Y_Data = df[\"label\"]"
   ],
   "outputs": [],
   "execution_count": 9
  },
  {
   "cell_type": "markdown",
   "metadata": {},
   "source": [
    "## Convert text data into numerical representations using the sentence transformer model"
   ]
  },
  {
   "cell_type": "code",
   "metadata": {
    "ExecuteTime": {
     "end_time": "2024-06-14T14:49:57.411987Z",
     "start_time": "2024-06-14T14:49:51.247466Z"
    }
   },
   "source": [
    "from typing import List \n",
    "import sentence_transformers\n",
    "from sentence_transformers import SentenceTransformer\n",
    "sentence_transformer = SentenceTransformer(\"all-MiniLM-L6-v2\")\n",
    "\n",
    "\n",
    "def get_text_embeddings(encoder, text: List[str]) -> List[np.ndarray]:\n",
    "    return encoder.encode(text)"
   ],
   "outputs": [
    {
     "name": "stderr",
     "output_type": "stream",
     "text": [
      "C:\\python\\Lib\\site-packages\\huggingface_hub\\file_download.py:1132: FutureWarning: `resume_download` is deprecated and will be removed in version 1.0.0. Downloads always resume when possible. If you want to force a new download, use `force_download=True`.\n",
      "  warnings.warn(\n"
     ]
    }
   ],
   "execution_count": 10
  },
  {
   "cell_type": "code",
   "metadata": {
    "ExecuteTime": {
     "end_time": "2024-06-14T14:49:57.416215Z",
     "start_time": "2024-06-14T14:49:57.412986Z"
    }
   },
   "source": [
    "texts = df.text.tolist()"
   ],
   "outputs": [],
   "execution_count": 11
  },
  {
   "cell_type": "code",
   "metadata": {
    "ExecuteTime": {
     "end_time": "2024-06-14T14:51:50.333010Z",
     "start_time": "2024-06-14T14:49:57.417212Z"
    }
   },
   "source": [
    "embeddings = get_text_embeddings(sentence_transformer, texts)"
   ],
   "outputs": [],
   "execution_count": 12
  },
  {
   "cell_type": "markdown",
   "metadata": {},
   "source": [
    "### Check the shape, embedding length, and norm of the numerical representations"
   ]
  },
  {
   "cell_type": "code",
   "metadata": {
    "ExecuteTime": {
     "end_time": "2024-06-14T14:51:50.339683Z",
     "start_time": "2024-06-14T14:51:50.334008Z"
    }
   },
   "source": [
    "embeddings.shape"
   ],
   "outputs": [
    {
     "data": {
      "text/plain": [
       "(4086, 384)"
      ]
     },
     "execution_count": 13,
     "metadata": {},
     "output_type": "execute_result"
    }
   ],
   "execution_count": 13
  },
  {
   "cell_type": "code",
   "metadata": {
    "ExecuteTime": {
     "end_time": "2024-06-14T14:51:50.348938Z",
     "start_time": "2024-06-14T14:51:50.340692Z"
    }
   },
   "source": [
    "len(embeddings[0])"
   ],
   "outputs": [
    {
     "data": {
      "text/plain": [
       "384"
      ]
     },
     "execution_count": 14,
     "metadata": {},
     "output_type": "execute_result"
    }
   ],
   "execution_count": 14
  },
  {
   "cell_type": "code",
   "metadata": {
    "ExecuteTime": {
     "end_time": "2024-06-14T14:51:50.356873Z",
     "start_time": "2024-06-14T14:51:50.349945Z"
    }
   },
   "source": [
    "np.linalg.norm(embeddings[0])"
   ],
   "outputs": [
    {
     "data": {
      "text/plain": [
       "0.99999994"
      ]
     },
     "execution_count": 15,
     "metadata": {},
     "output_type": "execute_result"
    }
   ],
   "execution_count": 15
  },
  {
   "cell_type": "code",
   "metadata": {
    "ExecuteTime": {
     "end_time": "2024-06-14T14:51:50.365727Z",
     "start_time": "2024-06-14T14:51:50.357880Z"
    }
   },
   "source": [
    "df = df.assign(embeddings = [e for e in embeddings])"
   ],
   "outputs": [],
   "execution_count": 16
  },
  {
   "cell_type": "markdown",
   "metadata": {},
   "source": [
    "### Store the sentence embedding DataFrame in feather format for efficient data handling"
   ]
  },
  {
   "cell_type": "code",
   "metadata": {
    "ExecuteTime": {
     "end_time": "2024-06-14T14:51:50.441404Z",
     "start_time": "2024-06-14T14:51:50.366734Z"
    }
   },
   "source": [
    "df.reset_index(inplace=True)\n",
    "df.to_feather(\"yelp_with_embeddings.bin\")"
   ],
   "outputs": [],
   "execution_count": 17
  },
  {
   "cell_type": "markdown",
   "metadata": {},
   "source": "## Neural Network Model"
  },
  {
   "cell_type": "code",
   "metadata": {
    "ExecuteTime": {
     "end_time": "2024-06-14T14:51:50.448897Z",
     "start_time": "2024-06-14T14:51:50.442412Z"
    }
   },
   "source": [
    "import torch\n",
    "import torch.nn as nn\n",
    "\n",
    "class SentimentClassifier(nn.Module):\n",
    "    def __init__(self, input_dim=384, hidden_dim1=128, hidden_dim2=64,  output_dim=1):\n",
    "        super(SentimentClassifier, self).__init__()\n",
    "        self.model = nn.Sequential(\n",
    "            nn.Linear(input_dim, hidden_dim1),\n",
    "            nn.BatchNorm1d(hidden_dim1),\n",
    "            nn.ReLU(),\n",
    "            nn.Linear(hidden_dim1, hidden_dim2),\n",
    "            nn.BatchNorm1d(hidden_dim2),\n",
    "            nn.ReLU(),\n",
    "            nn.Linear(hidden_dim2, output_dim),\n",
    "            nn.Sigmoid()\n",
    "        )\n",
    "\n",
    "    def forward(self, x):\n",
    "        return self.model(x)"
   ],
   "outputs": [],
   "execution_count": 18
  },
  {
   "cell_type": "code",
   "metadata": {
    "ExecuteTime": {
     "end_time": "2024-06-14T14:51:50.473313Z",
     "start_time": "2024-06-14T14:51:50.449904Z"
    }
   },
   "source": [
    "df = pd.read_feather(\"yelp_with_embeddings.bin\")"
   ],
   "outputs": [],
   "execution_count": 19
  },
  {
   "cell_type": "markdown",
   "metadata": {},
   "source": [
    "### Use numerical representations of text reviews for model input"
   ]
  },
  {
   "cell_type": "code",
   "metadata": {
    "ExecuteTime": {
     "end_time": "2024-06-14T14:51:50.482796Z",
     "start_time": "2024-06-14T14:51:50.474317Z"
    }
   },
   "source": "df.embeddings[0]",
   "outputs": [
    {
     "data": {
      "text/plain": [
       "array([-2.69870870e-02,  1.21111218e-02,  1.03444263e-01,  5.85587248e-02,\n",
       "       -6.46284223e-02, -1.29983127e-02, -6.94513842e-02, -4.23906259e-02,\n",
       "       -4.72875647e-02, -7.47565776e-02,  2.75893311e-04, -1.09934276e-02,\n",
       "       -2.56671179e-02, -6.28251210e-02, -1.99138708e-02, -7.65453056e-02,\n",
       "        1.74198315e-01, -1.34243011e-01, -1.75687019e-02, -4.12424356e-02,\n",
       "       -1.09441169e-01, -4.82605211e-02,  4.82458770e-02, -1.33555774e-02,\n",
       "        5.59582375e-02,  5.01586609e-02,  2.06091125e-02,  4.79414314e-02,\n",
       "       -4.90631424e-02, -4.00309227e-02, -2.74517313e-02,  6.48624748e-02,\n",
       "       -4.05024402e-02, -4.38724458e-03, -2.46323515e-02,  4.45185751e-02,\n",
       "        9.24157351e-02, -1.14275217e-01,  5.28180040e-02, -3.53384792e-04,\n",
       "        2.43185665e-02, -4.42525595e-02,  5.36391996e-02, -2.23462954e-02,\n",
       "        2.35288702e-02,  4.34743753e-03, -1.30336974e-02,  4.99515906e-02,\n",
       "       -1.54166203e-02, -6.97716419e-03, -2.35754829e-02,  2.09900853e-03,\n",
       "        3.75692360e-02, -8.62444565e-02, -6.85300771e-03,  7.78977126e-02,\n",
       "       -6.73900694e-02, -7.37164393e-02, -1.78264380e-02, -1.08248647e-03,\n",
       "       -4.81574126e-02,  2.11569108e-02,  1.25666568e-02,  2.10619848e-02,\n",
       "        1.33452937e-02, -1.33137733e-01, -7.90682733e-02, -1.23439701e-02,\n",
       "        8.68085027e-03, -4.87615494e-03, -8.34083036e-02,  3.24232206e-02,\n",
       "        8.48386660e-02,  3.38213928e-02, -3.81159633e-02,  2.02525612e-02,\n",
       "        5.58056086e-02, -8.65466818e-02, -1.29947504e-02, -2.25701965e-02,\n",
       "        1.92524791e-02, -5.19389547e-02, -2.12009507e-03,  8.10813829e-02,\n",
       "       -6.65412769e-02, -6.95661902e-02,  7.98043758e-02,  1.16713673e-01,\n",
       "        3.33146639e-02, -4.78454232e-02,  5.78733981e-02,  2.74902601e-02,\n",
       "       -2.92248745e-02, -1.36976968e-02, -1.76375806e-02,  5.38569456e-03,\n",
       "       -8.98408145e-02, -5.90610988e-02, -3.49838324e-02,  3.21381539e-02,\n",
       "       -3.93620543e-02,  8.48296285e-02,  4.43563350e-02, -6.20669462e-02,\n",
       "       -1.30068511e-04,  5.10621350e-03,  2.08826419e-02,  6.01842999e-02,\n",
       "        7.63391377e-03, -3.17821912e-02,  6.22825418e-03,  9.52724367e-02,\n",
       "       -1.64803974e-02, -4.66069281e-02, -3.33437286e-02,  1.49613386e-02,\n",
       "        6.32259473e-02, -7.10855797e-02, -3.43911201e-02, -2.74256337e-02,\n",
       "       -6.71126321e-03,  8.93264115e-02,  1.63291162e-03,  1.61891636e-02,\n",
       "       -6.07838742e-02,  6.01697750e-02,  8.37860554e-02,  1.08792122e-33,\n",
       "       -5.23586534e-02,  9.48508680e-02,  3.99545766e-02,  2.43400913e-02,\n",
       "        1.02559730e-01, -8.24143086e-03, -3.53336148e-03, -5.14878854e-02,\n",
       "        6.05714321e-03,  6.08335249e-02,  1.68852508e-03, -6.24875119e-03,\n",
       "        2.31646951e-02,  2.64757313e-02,  4.08719778e-02, -1.72427026e-04,\n",
       "       -6.91120103e-02,  2.49039922e-02, -5.93046891e-03,  3.31235267e-02,\n",
       "       -3.50613035e-02, -1.83450021e-02, -4.10192972e-03, -2.08919146e-03,\n",
       "       -1.49178226e-02, -2.23000664e-02,  2.40941662e-02,  5.24160676e-02,\n",
       "       -1.51020824e-03, -1.21143172e-02,  4.43210006e-02, -1.91542022e-02,\n",
       "       -1.27714658e-02, -7.34671503e-02, -1.75793543e-02,  3.28858346e-02,\n",
       "       -1.08002257e-02, -7.25252032e-02, -4.67049703e-03,  4.90710847e-02,\n",
       "       -4.67787459e-02, -2.22252831e-02,  5.75229200e-03,  3.90564688e-02,\n",
       "       -1.88768376e-02, -9.38069448e-03,  3.57262529e-02,  4.19932827e-02,\n",
       "       -2.24531032e-02, -2.17912421e-02, -4.18910310e-02, -4.32465188e-02,\n",
       "        1.19772162e-02,  5.02807945e-02, -2.84597259e-02,  4.77354079e-02,\n",
       "        2.06664838e-02,  3.79457930e-03,  1.43183768e-01, -2.64689196e-02,\n",
       "        4.77422550e-02,  4.04453762e-02, -7.64873847e-02, -5.94600216e-02,\n",
       "       -6.22086525e-02, -1.90598704e-02,  2.88135149e-02, -3.67795378e-02,\n",
       "       -1.15083558e-02,  4.27131690e-02,  8.02865401e-02, -2.01732665e-02,\n",
       "        2.76312086e-04, -2.20895465e-02,  4.97051664e-02,  6.66928440e-02,\n",
       "       -5.04576899e-02, -2.26664841e-02,  1.21341586e-01, -3.60040553e-02,\n",
       "        1.53523594e-01,  2.51945462e-02, -5.34851104e-02, -4.90947478e-02,\n",
       "       -1.75985247e-02,  4.56682444e-02, -4.62493636e-02, -5.00789247e-02,\n",
       "        4.55314778e-02,  6.57503605e-02, -2.70161335e-03, -3.66258249e-02,\n",
       "        8.09207559e-02, -2.11647153e-02, -4.50422987e-02, -1.76122096e-33,\n",
       "       -5.11902152e-04, -3.41145485e-03, -8.19503367e-02,  6.53516576e-02,\n",
       "        4.61371103e-03, -5.55519424e-02, -5.73518090e-02,  1.49508687e-02,\n",
       "       -1.04390951e-02, -7.69057795e-02, -1.48242284e-02,  5.28385378e-02,\n",
       "        6.80353269e-02, -6.84601348e-03, -5.40470034e-02,  5.61820380e-02,\n",
       "        6.70744851e-02,  5.70619889e-02,  9.75797921e-02, -1.13525338e-01,\n",
       "       -4.81670760e-02,  7.31434301e-02, -7.21328845e-03,  2.60968935e-02,\n",
       "       -2.57502180e-02,  1.05358876e-01,  4.85394523e-02,  4.23888601e-02,\n",
       "       -1.02623656e-01, -9.14595276e-02, -1.84928495e-02, -3.12113483e-02,\n",
       "        7.05306232e-02, -3.65404715e-03,  2.27574762e-02,  1.29115418e-01,\n",
       "        1.83602665e-02, -1.22089656e-02, -1.93492845e-02,  3.65776159e-02,\n",
       "       -1.71085410e-02, -9.65994596e-03, -9.28642508e-03,  6.32369071e-02,\n",
       "       -1.32902162e-02,  1.47010870e-02, -8.49920046e-03, -6.10401221e-02,\n",
       "       -9.65383369e-03,  4.10977304e-02,  1.02282083e-02,  1.02466485e-02,\n",
       "       -1.32318409e-02, -3.49525735e-02,  2.64835227e-02,  4.26833518e-03,\n",
       "       -3.38668823e-02, -8.55213925e-02, -1.41457282e-03, -3.26240232e-04,\n",
       "       -7.66112953e-02,  1.98751595e-02, -1.86676648e-03,  3.13633643e-02,\n",
       "        1.11508153e-01, -3.28328907e-02, -1.02160424e-02, -7.56185278e-02,\n",
       "       -1.21610062e-02,  8.71014968e-03, -1.43655106e-01, -1.04567586e-02,\n",
       "       -4.77621034e-02, -1.73839275e-02,  2.76217982e-02,  5.86192310e-03,\n",
       "        5.10645136e-02, -3.41733396e-02, -3.51570770e-02,  6.53292704e-03,\n",
       "       -2.28358135e-02, -1.35072144e-02, -5.67931728e-03, -5.22089144e-03,\n",
       "        3.17015946e-02,  2.01924108e-02, -5.33554740e-02, -3.50575000e-02,\n",
       "       -2.07526125e-02,  8.81289169e-02,  1.90305971e-02,  5.38337976e-02,\n",
       "       -2.02797409e-02, -3.04705091e-02,  7.48808682e-02, -4.84263225e-08,\n",
       "        1.17822483e-01,  3.36281098e-02, -2.31636204e-02,  7.11729378e-02,\n",
       "        8.49576443e-02, -1.03741437e-01,  2.63556838e-02, -3.89546975e-02,\n",
       "        3.22070383e-02,  2.40321290e-02, -9.93174091e-02,  9.69236344e-02,\n",
       "       -3.23087610e-02, -1.99861228e-02, -5.35256788e-03,  2.55814847e-02,\n",
       "        6.63374662e-02,  3.58618274e-02, -3.74887325e-02,  1.23788873e-02,\n",
       "        4.59758118e-02,  7.71509558e-02,  1.60807390e-02, -7.58518055e-02,\n",
       "        5.55181243e-02,  4.70231697e-02,  2.45538224e-02, -7.11072329e-03,\n",
       "       -4.37854603e-03,  3.87967303e-02, -4.69578765e-02,  2.03480311e-02,\n",
       "       -2.31245495e-02,  2.31186226e-02, -6.86042905e-02, -4.95294891e-02,\n",
       "       -5.35814464e-02, -2.26034727e-02,  2.91960803e-03, -6.31514937e-02,\n",
       "       -8.98132399e-02, -1.58953015e-02, -7.54073039e-02, -3.02532967e-02,\n",
       "       -6.91728592e-02,  1.25562372e-02, -7.69963712e-02,  1.97452772e-02,\n",
       "       -7.86292180e-02,  5.87889701e-02, -5.94749078e-02, -1.56359915e-02,\n",
       "        4.31361087e-02,  6.69538826e-02,  1.68508831e-02,  1.61678568e-02,\n",
       "        2.93122930e-03, -2.61992905e-02,  8.97893086e-02,  3.39937471e-02,\n",
       "       -1.13160480e-02,  1.02929855e-02, -6.73349872e-02,  5.14033949e-03],\n",
       "      dtype=float32)"
      ]
     },
     "execution_count": 20,
     "metadata": {},
     "output_type": "execute_result"
    }
   ],
   "execution_count": 20
  },
  {
   "cell_type": "code",
   "metadata": {
    "ExecuteTime": {
     "end_time": "2024-06-14T14:51:50.490976Z",
     "start_time": "2024-06-14T14:51:50.483803Z"
    }
   },
   "source": "df.embeddings[0].shape",
   "outputs": [
    {
     "data": {
      "text/plain": [
       "(384,)"
      ]
     },
     "execution_count": 21,
     "metadata": {},
     "output_type": "execute_result"
    }
   ],
   "execution_count": 21
  },
  {
   "cell_type": "code",
   "metadata": {
    "ExecuteTime": {
     "end_time": "2024-06-14T14:51:50.500557Z",
     "start_time": "2024-06-14T14:51:50.494985Z"
    }
   },
   "source": "df.shape",
   "outputs": [
    {
     "data": {
      "text/plain": [
       "(4086, 13)"
      ]
     },
     "execution_count": 22,
     "metadata": {},
     "output_type": "execute_result"
    }
   ],
   "execution_count": 22
  },
  {
   "cell_type": "markdown",
   "metadata": {},
   "source": [
    "### Split data into training, validation, and tests sets"
   ]
  },
  {
   "cell_type": "code",
   "metadata": {
    "ExecuteTime": {
     "end_time": "2024-06-14T14:51:50.523199Z",
     "start_time": "2024-06-14T14:51:50.501566Z"
    }
   },
   "source": [
    "from sklearn.model_selection import train_test_split\n",
    "\n",
    "train_val_df, test_df = train_test_split(df, test_size=0.2, random_state=42)\n",
    "train_df, val_df = train_test_split(train_val_df, test_size=0.2, random_state=42)"
   ],
   "outputs": [],
   "execution_count": 23
  },
  {
   "cell_type": "markdown",
   "metadata": {},
   "source": "## Model Training and Validation"
  },
  {
   "metadata": {
    "ExecuteTime": {
     "end_time": "2024-06-14T14:52:19.304863Z",
     "start_time": "2024-06-14T14:51:50.524198Z"
    }
   },
   "cell_type": "code",
   "source": [
    "from torchmetrics import Accuracy\n",
    "from tqdm.notebook import tqdm\n",
    "from torch.utils.tensorboard import SummaryWriter\n",
    "from sklearn.metrics import f1_score\n",
    "from torch.optim import AdamW\n",
    "from torch.nn import BCEWithLogitsLoss\n",
    "from torch.optim.lr_scheduler import CosineAnnealingLR\n",
    "import torch.nn.utils as nn_utils\n",
    "\n",
    "# Setup    \n",
    "writer = SummaryWriter() # Records all details during the training of a model which can be visualized with tensorboard\n",
    "model = SentimentClassifier() # Neural Network Feedforward Model\n",
    "loss_function = BCEWithLogitsLoss() # Loss function that combines a Sigmoid layer and Binary Cross Entropy Loss in one single class\n",
    "optimizer = AdamW(model.parameters(), lr=0.0001, weight_decay=0.001) # Adam optimizer with weight decay regularization, AdamW adds L2 penalty paramater\n",
    "scheduler = CosineAnnealingLR(optimizer, T_max=40) # Learning rate scheduler with high learning rate and decreases it in a cosine pattern until it reaches close to zero at the end of training\n",
    "\n",
    "\n",
    "batch_size = 64 # Specifies the number of training examples in one forward/backward pass\n",
    "num_epochs = 40 # Defines the number times that the learning algorithm will work through the entire training dataset\n",
    "losses = [] # List to store the loss values during the training process\n",
    "\n",
    "\n",
    "# Training and Validation Loop\n",
    "for epoch in range(num_epochs): # Starts a loop that will iterate for a specified number of training epochs. \n",
    "    model.train()  # Set the model to training mode\n",
    "    for i in range(0, len(train_df), batch_size): # Starts a loop over the training dataset in batches, where the size of each batch is batch_size\n",
    "         # Extract the features (batch_x) and the labels (batch_y) for the current batch from the training data frame\n",
    "        batch_x = np.array(train_df.embeddings[i:i + batch_size].tolist())\n",
    "        batch_y = np.array(train_df.label[i:i + batch_size].tolist())\n",
    "          # Convert the batches of features and labels into tensors\n",
    "        tensor_batch_x = torch.Tensor(batch_x)\n",
    "        tensor_batch_y = torch.Tensor(batch_y).reshape(-1, 1)  \n",
    "        \n",
    "        optimizer.zero_grad() # Clear the gradients to prevent gradient accumulation\n",
    "        predictions = model(tensor_batch_x) # Forward pass of the tensor batch x input \n",
    "        loss = loss_function(predictions, tensor_batch_y) # Output is compared with truth labels using loss function\n",
    "        loss.backward()  # Backward pass to compute gradients from the loss. Updates the gradients of model parameters\n",
    "        nn_utils.clip_grad_value_(model.parameters(), 1.0) # Gradient clipping which prevents the gradients from exploding\n",
    "        optimizer.step() # Optimization step that updates the weights of the neural network model\n",
    "        scheduler.step() # Steps the learning rate scheduler\n",
    "        losses.append(loss.item()) # Loss value is converted to numbers from a Tensor object and appends to the losses list\n",
    "        # Logs the loss value to a tensorboard\n",
    "        writer.add_scalar('Loss/train', loss.item(), epoch * len(train_df) + i)\n",
    "\n",
    "    # Validation\n",
    "    model.eval()  # Set the model to evaluation mode\n",
    "    accuracy_metric = Accuracy(task='binary')\n",
    "    \n",
    "    # Initialize three lists to store the true labels, the predicted labels, and the predicted probabilities\n",
    "    y_true = []\n",
    "    y_pred = []\n",
    "    y_pred_prob = []\n",
    "\n",
    "    with torch.no_grad(): # Ensures that gradient computation is deactivated\n",
    "        for _, eval_row in tqdm(val_df.iterrows(), desc='Evaluating', total=len(val_df)): # creates a progress bar for the evaluation of the model on validation dataset\n",
    "             # Extract the embeddings and label from each row of the dataframe, and feed the embeddings into the model to make a prediction\n",
    "            embeddings = torch.Tensor(np.array(eval_row.embeddings)).unsqueeze(0)\n",
    "            label = torch.Tensor([eval_row.label]).reshape(-1, 1)\n",
    "            prediction = model(embeddings).reshape(-1)\n",
    "             # Appends the true label, processed prediction, and raw prediction to their respective lists\n",
    "            y_true.append(eval_row.label)\n",
    "            y_pred.append(int(prediction >= 0.5))\n",
    "            y_pred_prob.append(prediction.item())  \n",
    "            # Update the accuracy metric with the current prediction and label\n",
    "            accuracy_metric.update(prediction, label.reshape(-1))\n",
    "\n",
    "    accuracy_value = accuracy_metric.compute().item()\n",
    "    f1_value = f1_score(y_true, y_pred)\n",
    "    \n",
    "    writer.add_scalar('Accuracy/eval', accuracy_value, epoch)\n",
    "    writer.add_scalar('F1/eval', f1_value, epoch)\n",
    "\n",
    "    print(f\"Epoch {epoch + 1}/{num_epochs} - Validation F1 Score: {f1_value:.2f}, Accuracy: {accuracy_value:.2f}\")"
   ],
   "outputs": [
    {
     "data": {
      "text/plain": [
       "Evaluating:   0%|          | 0/654 [00:00<?, ?it/s]"
      ],
      "application/vnd.jupyter.widget-view+json": {
       "version_major": 2,
       "version_minor": 0,
       "model_id": "41a96504fd9046139e30a637e4c22fe8"
      }
     },
     "metadata": {},
     "output_type": "display_data"
    },
    {
     "name": "stdout",
     "output_type": "stream",
     "text": [
      "Epoch 1/40 - Validation F1 Score: 0.01, Accuracy: 0.20\n"
     ]
    },
    {
     "data": {
      "text/plain": [
       "Evaluating:   0%|          | 0/654 [00:00<?, ?it/s]"
      ],
      "application/vnd.jupyter.widget-view+json": {
       "version_major": 2,
       "version_minor": 0,
       "model_id": "6a2bda55a1e049b7bab74a55019dada9"
      }
     },
     "metadata": {},
     "output_type": "display_data"
    },
    {
     "name": "stdout",
     "output_type": "stream",
     "text": [
      "Epoch 2/40 - Validation F1 Score: 0.82, Accuracy: 0.75\n"
     ]
    },
    {
     "data": {
      "text/plain": [
       "Evaluating:   0%|          | 0/654 [00:00<?, ?it/s]"
      ],
      "application/vnd.jupyter.widget-view+json": {
       "version_major": 2,
       "version_minor": 0,
       "model_id": "aab014a06b8845188e128ebb2d8039ca"
      }
     },
     "metadata": {},
     "output_type": "display_data"
    },
    {
     "name": "stdout",
     "output_type": "stream",
     "text": [
      "Epoch 3/40 - Validation F1 Score: 0.84, Accuracy: 0.78\n"
     ]
    },
    {
     "data": {
      "text/plain": [
       "Evaluating:   0%|          | 0/654 [00:00<?, ?it/s]"
      ],
      "application/vnd.jupyter.widget-view+json": {
       "version_major": 2,
       "version_minor": 0,
       "model_id": "817a9a937c14454c84e9b5e65de5bc8c"
      }
     },
     "metadata": {},
     "output_type": "display_data"
    },
    {
     "name": "stdout",
     "output_type": "stream",
     "text": [
      "Epoch 4/40 - Validation F1 Score: 0.87, Accuracy: 0.82\n"
     ]
    },
    {
     "data": {
      "text/plain": [
       "Evaluating:   0%|          | 0/654 [00:00<?, ?it/s]"
      ],
      "application/vnd.jupyter.widget-view+json": {
       "version_major": 2,
       "version_minor": 0,
       "model_id": "e5c06bc333554f16852fd140daa767bd"
      }
     },
     "metadata": {},
     "output_type": "display_data"
    },
    {
     "name": "stdout",
     "output_type": "stream",
     "text": [
      "Epoch 5/40 - Validation F1 Score: 0.88, Accuracy: 0.83\n"
     ]
    },
    {
     "data": {
      "text/plain": [
       "Evaluating:   0%|          | 0/654 [00:00<?, ?it/s]"
      ],
      "application/vnd.jupyter.widget-view+json": {
       "version_major": 2,
       "version_minor": 0,
       "model_id": "add6fa69b0914aa58956841a08e9af83"
      }
     },
     "metadata": {},
     "output_type": "display_data"
    },
    {
     "name": "stdout",
     "output_type": "stream",
     "text": [
      "Epoch 6/40 - Validation F1 Score: 0.90, Accuracy: 0.85\n"
     ]
    },
    {
     "data": {
      "text/plain": [
       "Evaluating:   0%|          | 0/654 [00:00<?, ?it/s]"
      ],
      "application/vnd.jupyter.widget-view+json": {
       "version_major": 2,
       "version_minor": 0,
       "model_id": "de547e72bc874899b72c81dd9f669c76"
      }
     },
     "metadata": {},
     "output_type": "display_data"
    },
    {
     "name": "stdout",
     "output_type": "stream",
     "text": [
      "Epoch 7/40 - Validation F1 Score: 0.90, Accuracy: 0.86\n"
     ]
    },
    {
     "data": {
      "text/plain": [
       "Evaluating:   0%|          | 0/654 [00:00<?, ?it/s]"
      ],
      "application/vnd.jupyter.widget-view+json": {
       "version_major": 2,
       "version_minor": 0,
       "model_id": "3a5842eacb164213a8f398e1569fe549"
      }
     },
     "metadata": {},
     "output_type": "display_data"
    },
    {
     "name": "stdout",
     "output_type": "stream",
     "text": [
      "Epoch 8/40 - Validation F1 Score: 0.91, Accuracy: 0.87\n"
     ]
    },
    {
     "data": {
      "text/plain": [
       "Evaluating:   0%|          | 0/654 [00:00<?, ?it/s]"
      ],
      "application/vnd.jupyter.widget-view+json": {
       "version_major": 2,
       "version_minor": 0,
       "model_id": "31fa3a673eca4a09a39b03ba89a79cd0"
      }
     },
     "metadata": {},
     "output_type": "display_data"
    },
    {
     "name": "stdout",
     "output_type": "stream",
     "text": [
      "Epoch 9/40 - Validation F1 Score: 0.92, Accuracy: 0.88\n"
     ]
    },
    {
     "data": {
      "text/plain": [
       "Evaluating:   0%|          | 0/654 [00:00<?, ?it/s]"
      ],
      "application/vnd.jupyter.widget-view+json": {
       "version_major": 2,
       "version_minor": 0,
       "model_id": "871a081a8ee040f184fb63b433908d15"
      }
     },
     "metadata": {},
     "output_type": "display_data"
    },
    {
     "name": "stdout",
     "output_type": "stream",
     "text": [
      "Epoch 10/40 - Validation F1 Score: 0.93, Accuracy: 0.89\n"
     ]
    },
    {
     "data": {
      "text/plain": [
       "Evaluating:   0%|          | 0/654 [00:00<?, ?it/s]"
      ],
      "application/vnd.jupyter.widget-view+json": {
       "version_major": 2,
       "version_minor": 0,
       "model_id": "712e747c73af42eeae72716ab1089b8a"
      }
     },
     "metadata": {},
     "output_type": "display_data"
    },
    {
     "name": "stdout",
     "output_type": "stream",
     "text": [
      "Epoch 11/40 - Validation F1 Score: 0.93, Accuracy: 0.90\n"
     ]
    },
    {
     "data": {
      "text/plain": [
       "Evaluating:   0%|          | 0/654 [00:00<?, ?it/s]"
      ],
      "application/vnd.jupyter.widget-view+json": {
       "version_major": 2,
       "version_minor": 0,
       "model_id": "248f8e8471df4eb6977464ad8233a142"
      }
     },
     "metadata": {},
     "output_type": "display_data"
    },
    {
     "name": "stdout",
     "output_type": "stream",
     "text": [
      "Epoch 12/40 - Validation F1 Score: 0.93, Accuracy: 0.90\n"
     ]
    },
    {
     "data": {
      "text/plain": [
       "Evaluating:   0%|          | 0/654 [00:00<?, ?it/s]"
      ],
      "application/vnd.jupyter.widget-view+json": {
       "version_major": 2,
       "version_minor": 0,
       "model_id": "073dbf505072401d9a867f19afde5afe"
      }
     },
     "metadata": {},
     "output_type": "display_data"
    },
    {
     "name": "stdout",
     "output_type": "stream",
     "text": [
      "Epoch 13/40 - Validation F1 Score: 0.93, Accuracy: 0.90\n"
     ]
    },
    {
     "data": {
      "text/plain": [
       "Evaluating:   0%|          | 0/654 [00:00<?, ?it/s]"
      ],
      "application/vnd.jupyter.widget-view+json": {
       "version_major": 2,
       "version_minor": 0,
       "model_id": "f45051eedaf94a1e8f0337feeb90e562"
      }
     },
     "metadata": {},
     "output_type": "display_data"
    },
    {
     "name": "stdout",
     "output_type": "stream",
     "text": [
      "Epoch 14/40 - Validation F1 Score: 0.94, Accuracy: 0.90\n"
     ]
    },
    {
     "data": {
      "text/plain": [
       "Evaluating:   0%|          | 0/654 [00:00<?, ?it/s]"
      ],
      "application/vnd.jupyter.widget-view+json": {
       "version_major": 2,
       "version_minor": 0,
       "model_id": "2880a07af0414633ad6cb9af07a229ff"
      }
     },
     "metadata": {},
     "output_type": "display_data"
    },
    {
     "name": "stdout",
     "output_type": "stream",
     "text": [
      "Epoch 15/40 - Validation F1 Score: 0.94, Accuracy: 0.91\n"
     ]
    },
    {
     "data": {
      "text/plain": [
       "Evaluating:   0%|          | 0/654 [00:00<?, ?it/s]"
      ],
      "application/vnd.jupyter.widget-view+json": {
       "version_major": 2,
       "version_minor": 0,
       "model_id": "1588fb22dbd04bef940734fa09ede491"
      }
     },
     "metadata": {},
     "output_type": "display_data"
    },
    {
     "name": "stdout",
     "output_type": "stream",
     "text": [
      "Epoch 16/40 - Validation F1 Score: 0.95, Accuracy: 0.92\n"
     ]
    },
    {
     "data": {
      "text/plain": [
       "Evaluating:   0%|          | 0/654 [00:00<?, ?it/s]"
      ],
      "application/vnd.jupyter.widget-view+json": {
       "version_major": 2,
       "version_minor": 0,
       "model_id": "18e8d8e69548439ea06508b787d7a9c0"
      }
     },
     "metadata": {},
     "output_type": "display_data"
    },
    {
     "name": "stdout",
     "output_type": "stream",
     "text": [
      "Epoch 17/40 - Validation F1 Score: 0.95, Accuracy: 0.92\n"
     ]
    },
    {
     "data": {
      "text/plain": [
       "Evaluating:   0%|          | 0/654 [00:00<?, ?it/s]"
      ],
      "application/vnd.jupyter.widget-view+json": {
       "version_major": 2,
       "version_minor": 0,
       "model_id": "f9617d2b49c44c62af54fa5a83c8dc5e"
      }
     },
     "metadata": {},
     "output_type": "display_data"
    },
    {
     "name": "stdout",
     "output_type": "stream",
     "text": [
      "Epoch 18/40 - Validation F1 Score: 0.95, Accuracy: 0.93\n"
     ]
    },
    {
     "data": {
      "text/plain": [
       "Evaluating:   0%|          | 0/654 [00:00<?, ?it/s]"
      ],
      "application/vnd.jupyter.widget-view+json": {
       "version_major": 2,
       "version_minor": 0,
       "model_id": "6c05de270951461f9fc2fa695ee0f6d5"
      }
     },
     "metadata": {},
     "output_type": "display_data"
    },
    {
     "name": "stdout",
     "output_type": "stream",
     "text": [
      "Epoch 19/40 - Validation F1 Score: 0.95, Accuracy: 0.93\n"
     ]
    },
    {
     "data": {
      "text/plain": [
       "Evaluating:   0%|          | 0/654 [00:00<?, ?it/s]"
      ],
      "application/vnd.jupyter.widget-view+json": {
       "version_major": 2,
       "version_minor": 0,
       "model_id": "1c85d6a232ab42e8b67b9f1209998f8a"
      }
     },
     "metadata": {},
     "output_type": "display_data"
    },
    {
     "name": "stdout",
     "output_type": "stream",
     "text": [
      "Epoch 20/40 - Validation F1 Score: 0.96, Accuracy: 0.93\n"
     ]
    },
    {
     "data": {
      "text/plain": [
       "Evaluating:   0%|          | 0/654 [00:00<?, ?it/s]"
      ],
      "application/vnd.jupyter.widget-view+json": {
       "version_major": 2,
       "version_minor": 0,
       "model_id": "de17ac2787fd4135ba58eb7565b25183"
      }
     },
     "metadata": {},
     "output_type": "display_data"
    },
    {
     "name": "stdout",
     "output_type": "stream",
     "text": [
      "Epoch 21/40 - Validation F1 Score: 0.96, Accuracy: 0.93\n"
     ]
    },
    {
     "data": {
      "text/plain": [
       "Evaluating:   0%|          | 0/654 [00:00<?, ?it/s]"
      ],
      "application/vnd.jupyter.widget-view+json": {
       "version_major": 2,
       "version_minor": 0,
       "model_id": "4c1a944511b04ba684a79a66a398830e"
      }
     },
     "metadata": {},
     "output_type": "display_data"
    },
    {
     "name": "stdout",
     "output_type": "stream",
     "text": [
      "Epoch 22/40 - Validation F1 Score: 0.96, Accuracy: 0.94\n"
     ]
    },
    {
     "data": {
      "text/plain": [
       "Evaluating:   0%|          | 0/654 [00:00<?, ?it/s]"
      ],
      "application/vnd.jupyter.widget-view+json": {
       "version_major": 2,
       "version_minor": 0,
       "model_id": "9a9feb9c67f74fb5ac92456848e8751c"
      }
     },
     "metadata": {},
     "output_type": "display_data"
    },
    {
     "name": "stdout",
     "output_type": "stream",
     "text": [
      "Epoch 23/40 - Validation F1 Score: 0.96, Accuracy: 0.94\n"
     ]
    },
    {
     "data": {
      "text/plain": [
       "Evaluating:   0%|          | 0/654 [00:00<?, ?it/s]"
      ],
      "application/vnd.jupyter.widget-view+json": {
       "version_major": 2,
       "version_minor": 0,
       "model_id": "598f610b6b4b497792efb6179f1d7e5f"
      }
     },
     "metadata": {},
     "output_type": "display_data"
    },
    {
     "name": "stdout",
     "output_type": "stream",
     "text": [
      "Epoch 24/40 - Validation F1 Score: 0.96, Accuracy: 0.94\n"
     ]
    },
    {
     "data": {
      "text/plain": [
       "Evaluating:   0%|          | 0/654 [00:00<?, ?it/s]"
      ],
      "application/vnd.jupyter.widget-view+json": {
       "version_major": 2,
       "version_minor": 0,
       "model_id": "127eeec1ce4a4698a3e110488eed7b95"
      }
     },
     "metadata": {},
     "output_type": "display_data"
    },
    {
     "name": "stdout",
     "output_type": "stream",
     "text": [
      "Epoch 25/40 - Validation F1 Score: 0.96, Accuracy: 0.94\n"
     ]
    },
    {
     "data": {
      "text/plain": [
       "Evaluating:   0%|          | 0/654 [00:00<?, ?it/s]"
      ],
      "application/vnd.jupyter.widget-view+json": {
       "version_major": 2,
       "version_minor": 0,
       "model_id": "5d62713b0f9a45c6ac00754c07cea7dd"
      }
     },
     "metadata": {},
     "output_type": "display_data"
    },
    {
     "name": "stdout",
     "output_type": "stream",
     "text": [
      "Epoch 26/40 - Validation F1 Score: 0.96, Accuracy: 0.94\n"
     ]
    },
    {
     "data": {
      "text/plain": [
       "Evaluating:   0%|          | 0/654 [00:00<?, ?it/s]"
      ],
      "application/vnd.jupyter.widget-view+json": {
       "version_major": 2,
       "version_minor": 0,
       "model_id": "b1f0348304be410c9d6a406e41357f0c"
      }
     },
     "metadata": {},
     "output_type": "display_data"
    },
    {
     "name": "stdout",
     "output_type": "stream",
     "text": [
      "Epoch 27/40 - Validation F1 Score: 0.96, Accuracy: 0.94\n"
     ]
    },
    {
     "data": {
      "text/plain": [
       "Evaluating:   0%|          | 0/654 [00:00<?, ?it/s]"
      ],
      "application/vnd.jupyter.widget-view+json": {
       "version_major": 2,
       "version_minor": 0,
       "model_id": "534a6c421ac2404cbd37861898eace5a"
      }
     },
     "metadata": {},
     "output_type": "display_data"
    },
    {
     "name": "stdout",
     "output_type": "stream",
     "text": [
      "Epoch 28/40 - Validation F1 Score: 0.96, Accuracy: 0.94\n"
     ]
    },
    {
     "data": {
      "text/plain": [
       "Evaluating:   0%|          | 0/654 [00:00<?, ?it/s]"
      ],
      "application/vnd.jupyter.widget-view+json": {
       "version_major": 2,
       "version_minor": 0,
       "model_id": "dd29602c082d4a30a6b4d0ff49bc47b0"
      }
     },
     "metadata": {},
     "output_type": "display_data"
    },
    {
     "name": "stdout",
     "output_type": "stream",
     "text": [
      "Epoch 29/40 - Validation F1 Score: 0.96, Accuracy: 0.94\n"
     ]
    },
    {
     "data": {
      "text/plain": [
       "Evaluating:   0%|          | 0/654 [00:00<?, ?it/s]"
      ],
      "application/vnd.jupyter.widget-view+json": {
       "version_major": 2,
       "version_minor": 0,
       "model_id": "3d3007c4c3474e08bdf0128402981aea"
      }
     },
     "metadata": {},
     "output_type": "display_data"
    },
    {
     "name": "stdout",
     "output_type": "stream",
     "text": [
      "Epoch 30/40 - Validation F1 Score: 0.96, Accuracy: 0.94\n"
     ]
    },
    {
     "data": {
      "text/plain": [
       "Evaluating:   0%|          | 0/654 [00:00<?, ?it/s]"
      ],
      "application/vnd.jupyter.widget-view+json": {
       "version_major": 2,
       "version_minor": 0,
       "model_id": "10e12cd83ade4ad488b3806ed5a897a5"
      }
     },
     "metadata": {},
     "output_type": "display_data"
    },
    {
     "name": "stdout",
     "output_type": "stream",
     "text": [
      "Epoch 31/40 - Validation F1 Score: 0.96, Accuracy: 0.94\n"
     ]
    },
    {
     "data": {
      "text/plain": [
       "Evaluating:   0%|          | 0/654 [00:00<?, ?it/s]"
      ],
      "application/vnd.jupyter.widget-view+json": {
       "version_major": 2,
       "version_minor": 0,
       "model_id": "3f42aa3a023b4333a986f88bdfe8a321"
      }
     },
     "metadata": {},
     "output_type": "display_data"
    },
    {
     "name": "stdout",
     "output_type": "stream",
     "text": [
      "Epoch 32/40 - Validation F1 Score: 0.96, Accuracy: 0.94\n"
     ]
    },
    {
     "data": {
      "text/plain": [
       "Evaluating:   0%|          | 0/654 [00:00<?, ?it/s]"
      ],
      "application/vnd.jupyter.widget-view+json": {
       "version_major": 2,
       "version_minor": 0,
       "model_id": "1e40ee5ca0424b5f9e44b071eda66ba0"
      }
     },
     "metadata": {},
     "output_type": "display_data"
    },
    {
     "name": "stdout",
     "output_type": "stream",
     "text": [
      "Epoch 33/40 - Validation F1 Score: 0.96, Accuracy: 0.94\n"
     ]
    },
    {
     "data": {
      "text/plain": [
       "Evaluating:   0%|          | 0/654 [00:00<?, ?it/s]"
      ],
      "application/vnd.jupyter.widget-view+json": {
       "version_major": 2,
       "version_minor": 0,
       "model_id": "baf3be845e4e47938e5ecc1f12265958"
      }
     },
     "metadata": {},
     "output_type": "display_data"
    },
    {
     "name": "stdout",
     "output_type": "stream",
     "text": [
      "Epoch 34/40 - Validation F1 Score: 0.96, Accuracy: 0.94\n"
     ]
    },
    {
     "data": {
      "text/plain": [
       "Evaluating:   0%|          | 0/654 [00:00<?, ?it/s]"
      ],
      "application/vnd.jupyter.widget-view+json": {
       "version_major": 2,
       "version_minor": 0,
       "model_id": "b50bc9574fc1439eb79cd62cae977187"
      }
     },
     "metadata": {},
     "output_type": "display_data"
    },
    {
     "name": "stdout",
     "output_type": "stream",
     "text": [
      "Epoch 35/40 - Validation F1 Score: 0.96, Accuracy: 0.94\n"
     ]
    },
    {
     "data": {
      "text/plain": [
       "Evaluating:   0%|          | 0/654 [00:00<?, ?it/s]"
      ],
      "application/vnd.jupyter.widget-view+json": {
       "version_major": 2,
       "version_minor": 0,
       "model_id": "fe82ca1eb4164b2faf5684ca8693bd2d"
      }
     },
     "metadata": {},
     "output_type": "display_data"
    },
    {
     "name": "stdout",
     "output_type": "stream",
     "text": [
      "Epoch 36/40 - Validation F1 Score: 0.96, Accuracy: 0.94\n"
     ]
    },
    {
     "data": {
      "text/plain": [
       "Evaluating:   0%|          | 0/654 [00:00<?, ?it/s]"
      ],
      "application/vnd.jupyter.widget-view+json": {
       "version_major": 2,
       "version_minor": 0,
       "model_id": "9fb6d36a0f384307bf7f6d2fee096e8f"
      }
     },
     "metadata": {},
     "output_type": "display_data"
    },
    {
     "name": "stdout",
     "output_type": "stream",
     "text": [
      "Epoch 37/40 - Validation F1 Score: 0.96, Accuracy: 0.94\n"
     ]
    },
    {
     "data": {
      "text/plain": [
       "Evaluating:   0%|          | 0/654 [00:00<?, ?it/s]"
      ],
      "application/vnd.jupyter.widget-view+json": {
       "version_major": 2,
       "version_minor": 0,
       "model_id": "e651374854324676aecb0ec77c94a45d"
      }
     },
     "metadata": {},
     "output_type": "display_data"
    },
    {
     "name": "stdout",
     "output_type": "stream",
     "text": [
      "Epoch 38/40 - Validation F1 Score: 0.96, Accuracy: 0.94\n"
     ]
    },
    {
     "data": {
      "text/plain": [
       "Evaluating:   0%|          | 0/654 [00:00<?, ?it/s]"
      ],
      "application/vnd.jupyter.widget-view+json": {
       "version_major": 2,
       "version_minor": 0,
       "model_id": "3611f7823ee9493787583852629214c0"
      }
     },
     "metadata": {},
     "output_type": "display_data"
    },
    {
     "name": "stdout",
     "output_type": "stream",
     "text": [
      "Epoch 39/40 - Validation F1 Score: 0.96, Accuracy: 0.94\n"
     ]
    },
    {
     "data": {
      "text/plain": [
       "Evaluating:   0%|          | 0/654 [00:00<?, ?it/s]"
      ],
      "application/vnd.jupyter.widget-view+json": {
       "version_major": 2,
       "version_minor": 0,
       "model_id": "caf40ec8b6e94e56bcc74f662a340522"
      }
     },
     "metadata": {},
     "output_type": "display_data"
    },
    {
     "name": "stdout",
     "output_type": "stream",
     "text": [
      "Epoch 40/40 - Validation F1 Score: 0.96, Accuracy: 0.94\n"
     ]
    }
   ],
   "execution_count": 24
  },
  {
   "metadata": {},
   "cell_type": "markdown",
   "source": "### Confusion Matrix using Heatmap function"
  },
  {
   "metadata": {
    "ExecuteTime": {
     "end_time": "2024-06-14T14:52:19.498600Z",
     "start_time": "2024-06-14T14:52:19.305871Z"
    }
   },
   "cell_type": "code",
   "source": [
    "from sklearn.metrics import confusion_matrix\n",
    "\n",
    "conf_matrix = confusion_matrix(y_true, y_pred)\n",
    "plt.figure(figsize=(10, 7))\n",
    "sns.heatmap(conf_matrix, annot=True, fmt='d', cmap='Blues')\n",
    "plt.ylabel('Actual label')\n",
    "plt.xlabel('Predicted label')\n",
    "plt.title(f'Confusion Matrix for Epoch {epoch + 1}')\n",
    "plt.show()"
   ],
   "outputs": [
    {
     "data": {
      "text/plain": [
       "<Figure size 1000x700 with 2 Axes>"
      ],
      "image/png": "[encoded data removed]"
     },
     "metadata": {},
     "output_type": "display_data"
    }
   ],
   "execution_count": 25
  },
  {
   "metadata": {},
   "cell_type": "markdown",
   "source": "### Save the weights and biases of the model into a binary file "
  },
  {
   "metadata": {
    "ExecuteTime": {
     "end_time": "2024-06-14T14:52:19.504657Z",
     "start_time": "2024-06-14T14:52:19.499608Z"
    }
   },
   "cell_type": "code",
   "source": "torch.save(model.state_dict(), \"sentiment_classifier.bin\")",
   "outputs": [],
   "execution_count": 26
  },
  {
   "metadata": {
    "ExecuteTime": {
     "end_time": "2024-06-14T14:52:19.524052Z",
     "start_time": "2024-06-14T14:52:19.505664Z"
    }
   },
   "cell_type": "code",
   "source": "test_df.reset_index().to_feather(\"test_df.bin\")",
   "outputs": [],
   "execution_count": 27
  },
  {
   "metadata": {
    "ExecuteTime": {
     "end_time": "2024-06-14T14:52:19.527197Z",
     "start_time": "2024-06-14T14:52:19.525058Z"
    }
   },
   "cell_type": "code",
   "source": "",
   "outputs": [],
   "execution_count": 27
  }
 ],
 "metadata": {
  "kernelspec": {
   "display_name": "Python 3",
   "language": "python",
   "name": "python3"
  },
  "language_info": {
   "codemirror_mode": {
    "name": "ipython",
    "version": 3
   },
   "file_extension": ".py",
   "mimetype": "text/x-python",
   "name": "python",
   "nbconvert_exporter": "python",
   "pygments_lexer": "ipython3",
   "version": "3.11.9"
  }
 },
 "nbformat": 4,
 "nbformat_minor": 2
}
