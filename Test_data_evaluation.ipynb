{
 "cells": [
  {
   "cell_type": "code",
   "id": "initial_id",
   "metadata": {
    "collapsed": true,
    "ExecuteTime": {
     "end_time": "2024-06-10T11:16:22.107507Z",
     "start_time": "2024-06-10T11:16:22.101383Z"
    }
   },
   "source": [
    "import torch\n",
    "import torch.nn as nn\n",
    "\n",
    "class SentimentClassifier(nn.Module):\n",
    "    def __init__(self, input_dim=384, hidden_dim1=256, hidden_dim2=128, hidden_dim3=64,  output_dim=1):\n",
    "        super(SentimentClassifier, self).__init__()\n",
    "        self.model = nn.Sequential(\n",
    "            nn.Linear(input_dim, hidden_dim1),\n",
    "            nn.BatchNorm1d(hidden_dim1),\n",
    "            nn.ReLU(),\n",
    "            nn.Linear(hidden_dim1, hidden_dim2),\n",
    "            nn.BatchNorm1d(hidden_dim2),\n",
    "            nn.ReLU(),\n",
    "            nn.Linear(hidden_dim2, hidden_dim3),\n",
    "            nn.BatchNorm1d(hidden_dim3),\n",
    "            nn.ReLU(),\n",
    "            nn.Linear(hidden_dim3, output_dim),\n",
    "            nn.Sigmoid()\n",
    "        )\n",
    "\n",
    "    def forward(self, x):\n",
    "        return self.model(x)"
   ],
   "outputs": [],
   "execution_count": 11
  },
  {
   "metadata": {},
   "cell_type": "markdown",
   "source": "### Load Model Weights",
   "id": "bbf17e5b1d8c3350"
  },
  {
   "metadata": {
    "ExecuteTime": {
     "end_time": "2024-06-10T11:16:37.836193Z",
     "start_time": "2024-06-10T11:16:37.831542Z"
    }
   },
   "cell_type": "code",
   "source": "state_dict = torch.load(\"sentiment_classifier.bin\")",
   "id": "9d284242cbcaea6f",
   "outputs": [],
   "execution_count": 12
  },
  {
   "metadata": {
    "ExecuteTime": {
     "end_time": "2024-06-10T11:16:43.761026Z",
     "start_time": "2024-06-10T11:16:43.753116Z"
    }
   },
   "cell_type": "code",
   "source": [
    "import pandas as pd \n",
    "test_df = pd.read_feather(\"test_df.bin\")"
   ],
   "id": "4a607ba9e33c30eb",
   "outputs": [],
   "execution_count": 13
  },
  {
   "metadata": {
    "ExecuteTime": {
     "end_time": "2024-06-10T11:16:53.203544Z",
     "start_time": "2024-06-10T11:16:53.196601Z"
    }
   },
   "cell_type": "code",
   "source": [
    "model = SentimentClassifier()\n",
    "model.load_state_dict(state_dict)"
   ],
   "id": "1106d5b6ae406c20",
   "outputs": [
    {
     "data": {
      "text/plain": [
       "<All keys matched successfully>"
      ]
     },
     "execution_count": 15,
     "metadata": {},
     "output_type": "execute_result"
    }
   ],
   "execution_count": 15
  },
  {
   "metadata": {},
   "cell_type": "markdown",
   "source": "## Evaluation on test data",
   "id": "51e7475750fb64ae"
  },
  {
   "metadata": {
    "ExecuteTime": {
     "end_time": "2024-06-10T11:20:23.252614Z",
     "start_time": "2024-06-10T11:20:21.720241Z"
    }
   },
   "cell_type": "code",
   "source": [
    "from torchmetrics import Accuracy\n",
    "from tqdm.notebook import tqdm\n",
    "from sklearn.metrics import f1_score, roc_auc_score\n",
    "\n",
    "model.eval()\n",
    "accuracy_metric_test = Accuracy(task='binary')\n",
    "\n",
    "y_true_test = []\n",
    "y_pred_test = []\n",
    "y_pred_prob_test = []\n",
    "\n",
    "with torch.no_grad():\n",
    "    for _, test_row in tqdm(test_df.iterrows(), desc='Evaluating on Test Data', total=len(test_df)):\n",
    "        embeddings = torch.Tensor(np.array(test_row.embeddings)).unsqueeze(0)\n",
    "        label = torch.Tensor([test_row.label]).reshape(-1, 1)\n",
    "        prediction = model(embeddings).reshape(-1)\n",
    "        \n",
    "        y_true_test.append(test_row.label)\n",
    "        y_pred_test.append(int(prediction >= 0.5))\n",
    "        y_pred_prob_test.append(prediction.item())\n",
    "        \n",
    "        accuracy_metric_test.update(prediction, label.reshape(-1))\n",
    "\n",
    "accuracy_value_test = accuracy_metric_test.compute().item()\n",
    "f1_value_test = f1_score(y_true_test, y_pred_test)\n",
    "roc_auc_value_test = roc_auc_score(y_true_test, y_pred_prob_test)\n",
    "\n",
    "print(f'Test Accuracy: {accuracy_value_test}')\n",
    "print(f'Test F1 Score: {f1_value_test}')\n",
    "print(f'Test ROC AUC Score: {roc_auc_value_test}')"
   ],
   "id": "eee77dcfbaff4a5c",
   "outputs": [
    {
     "data": {
      "text/plain": [
       "Evaluating on Test Data:   0%|          | 0/818 [00:00<?, ?it/s]"
      ],
      "application/vnd.jupyter.widget-view+json": {
       "version_major": 2,
       "version_minor": 0,
       "model_id": "36a0d32fd08a4971b482994914a70723"
      }
     },
     "metadata": {},
     "output_type": "display_data"
    },
    {
     "name": "stdout",
     "output_type": "stream",
     "text": [
      "Test Accuracy: 0.8973104953765869\n",
      "Test F1 Score: 0.9334389857369256\n",
      "Test ROC AUC Score: 0.9530156277307137\n"
     ]
    }
   ],
   "execution_count": 18
  },
  {
   "metadata": {},
   "cell_type": "code",
   "outputs": [],
   "execution_count": null,
   "source": "",
   "id": "dad337ebf5ce91d7"
  }
 ],
 "metadata": {
  "kernelspec": {
   "display_name": "Python 3",
   "language": "python",
   "name": "python3"
  },
  "language_info": {
   "codemirror_mode": {
    "name": "ipython",
    "version": 2
   },
   "file_extension": ".py",
   "mimetype": "text/x-python",
   "name": "python",
   "nbconvert_exporter": "python",
   "pygments_lexer": "ipython2",
   "version": "2.7.6"
  }
 },
 "nbformat": 4,
 "nbformat_minor": 5
}
