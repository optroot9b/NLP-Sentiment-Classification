{
 "cells": [
  {
   "cell_type": "markdown",
   "metadata": {},
   "source": "# NLP Sentiment Classification Project"
  },
  {
   "metadata": {},
   "cell_type": "markdown",
   "source": [
    "## Dataset Overview\n",
    "### Read the dataset and write it into a two-dimensional Dataframe using a pandas library"
   ]
  },
  {
   "cell_type": "code",
   "metadata": {
    "ExecuteTime": {
     "end_time": "2024-05-25T04:25:13.950152Z",
     "start_time": "2024-05-25T04:25:13.861921Z"
    }
   },
   "source": [
    "import pandas as pd\n",
    "import numpy as np\n",
    "df = pd.read_csv('yelp.csv')"
   ],
   "outputs": [],
   "execution_count": 2
  },
  {
   "metadata": {},
   "cell_type": "markdown",
   "source": "### Display the first 10 rows"
  },
  {
   "cell_type": "code",
   "metadata": {
    "ExecuteTime": {
     "end_time": "2024-05-25T04:25:14.160494Z",
     "start_time": "2024-05-25T04:25:14.148158Z"
    }
   },
   "source": "df.head(10)",
   "outputs": [
    {
     "data": {
      "text/plain": [
       "              business_id        date               review_id  stars  \\\n",
       "0  9yKzy9PApeiPPOUJEtnvkg  2011-01-26  fWKvX83p0-ka4JS3dc6E5A      5   \n",
       "1  ZRJwVLyzEJq1VAihDhYiow  2011-07-27  IjZ33sJrzXqU-0X6U8NwyA      5   \n",
       "2  6oRAC4uyJCsJl1X0WZpVSA  2012-06-14  IESLBzqUCLdSzSqm0eCSxQ      4   \n",
       "3  _1QQZuf4zZOyFCvXc0o6Vg  2010-05-27  G-WvGaISbqqaMHlNnByodA      5   \n",
       "4  6ozycU1RpktNG2-1BroVtw  2012-01-05  1uJFq2r5QfJG_6ExMRCaGw      5   \n",
       "5  -yxfBYGB6SEqszmxJxd97A  2007-12-13  m2CKSsepBCoRYWxiRUsxAg      4   \n",
       "6  zp713qNhx8d9KCJJnrw1xA  2010-02-12  riFQ3vxNpP4rWLk_CSri2A      5   \n",
       "7  hW0Ne_HTHEAgGF1rAdmR-g  2012-07-12  JL7GXJ9u4YMx7Rzs05NfiQ      4   \n",
       "8  wNUea3IXZWD63bbOQaOH-g  2012-08-17  XtnfnYmnJYi71yIuGsXIUA      4   \n",
       "9  nMHhuYan8e3cONo3PornJA  2010-08-11  jJAIXA46pU1swYyRCdfXtQ      5   \n",
       "\n",
       "                                                text    type  \\\n",
       "0  My wife took me here on my birthday for breakf...  review   \n",
       "1  I have no idea why some people give bad review...  review   \n",
       "2  love the gyro plate. Rice is so good and I als...  review   \n",
       "3  Rosie, Dakota, and I LOVE Chaparral Dog Park!!...  review   \n",
       "4  General Manager Scott Petello is a good egg!!!...  review   \n",
       "5  Quiessence is, simply put, beautiful.  Full wi...  review   \n",
       "6  Drop what you're doing and drive here. After I...  review   \n",
       "7  Luckily, I didn't have to travel far to make m...  review   \n",
       "8  Definitely come for Happy hour! Prices are ama...  review   \n",
       "9  Nobuo shows his unique talents with everything...  review   \n",
       "\n",
       "                  user_id  cool  useful  funny  \n",
       "0  rLtl8ZkDX5vH5nAx9C3q5Q     2       5      0  \n",
       "1  0a2KyEL0d3Yb1V6aivbIuQ     0       0      0  \n",
       "2  0hT2KtfLiobPvh6cDC8JQg     0       1      0  \n",
       "3  uZetl9T0NcROGOyFfughhg     1       2      0  \n",
       "4  vYmM4KTsC8ZfQBg-j5MWkw     0       0      0  \n",
       "5  sqYN3lNgvPbPCTRsMFu27g     4       3      1  \n",
       "6  wFweIWhv2fREZV_dYkz_1g     7       7      4  \n",
       "7  1ieuYcKS7zeAv_U15AB13A     0       1      0  \n",
       "8  Vh_DlizgGhSqQh4qfZ2h6A     0       0      0  \n",
       "9  sUNkXg8-KFtCMQDV6zRzQg     0       1      0  "
      ],
      "text/html": [
       "<div>\n",
       "<style scoped>\n",
       "    .dataframe tbody tr th:only-of-type {\n",
       "        vertical-align: middle;\n",
       "    }\n",
       "\n",
       "    .dataframe tbody tr th {\n",
       "        vertical-align: top;\n",
       "    }\n",
       "\n",
       "    .dataframe thead th {\n",
       "        text-align: right;\n",
       "    }\n",
       "</style>\n",
       "<table border=\"1\" class=\"dataframe\">\n",
       "  <thead>\n",
       "    <tr style=\"text-align: right;\">\n",
       "      <th></th>\n",
       "      <th>business_id</th>\n",
       "      <th>date</th>\n",
       "      <th>review_id</th>\n",
       "      <th>stars</th>\n",
       "      <th>text</th>\n",
       "      <th>type</th>\n",
       "      <th>user_id</th>\n",
       "      <th>cool</th>\n",
       "      <th>useful</th>\n",
       "      <th>funny</th>\n",
       "    </tr>\n",
       "  </thead>\n",
       "  <tbody>\n",
       "    <tr>\n",
       "      <th>0</th>\n",
       "      <td>9yKzy9PApeiPPOUJEtnvkg</td>\n",
       "      <td>2011-01-26</td>\n",
       "      <td>fWKvX83p0-ka4JS3dc6E5A</td>\n",
       "      <td>5</td>\n",
       "      <td>My wife took me here on my birthday for breakf...</td>\n",
       "      <td>review</td>\n",
       "      <td>rLtl8ZkDX5vH5nAx9C3q5Q</td>\n",
       "      <td>2</td>\n",
       "      <td>5</td>\n",
       "      <td>0</td>\n",
       "    </tr>\n",
       "    <tr>\n",
       "      <th>1</th>\n",
       "      <td>ZRJwVLyzEJq1VAihDhYiow</td>\n",
       "      <td>2011-07-27</td>\n",
       "      <td>IjZ33sJrzXqU-0X6U8NwyA</td>\n",
       "      <td>5</td>\n",
       "      <td>I have no idea why some people give bad review...</td>\n",
       "      <td>review</td>\n",
       "      <td>0a2KyEL0d3Yb1V6aivbIuQ</td>\n",
       "      <td>0</td>\n",
       "      <td>0</td>\n",
       "      <td>0</td>\n",
       "    </tr>\n",
       "    <tr>\n",
       "      <th>2</th>\n",
       "      <td>6oRAC4uyJCsJl1X0WZpVSA</td>\n",
       "      <td>2012-06-14</td>\n",
       "      <td>IESLBzqUCLdSzSqm0eCSxQ</td>\n",
       "      <td>4</td>\n",
       "      <td>love the gyro plate. Rice is so good and I als...</td>\n",
       "      <td>review</td>\n",
       "      <td>0hT2KtfLiobPvh6cDC8JQg</td>\n",
       "      <td>0</td>\n",
       "      <td>1</td>\n",
       "      <td>0</td>\n",
       "    </tr>\n",
       "    <tr>\n",
       "      <th>3</th>\n",
       "      <td>_1QQZuf4zZOyFCvXc0o6Vg</td>\n",
       "      <td>2010-05-27</td>\n",
       "      <td>G-WvGaISbqqaMHlNnByodA</td>\n",
       "      <td>5</td>\n",
       "      <td>Rosie, Dakota, and I LOVE Chaparral Dog Park!!...</td>\n",
       "      <td>review</td>\n",
       "      <td>uZetl9T0NcROGOyFfughhg</td>\n",
       "      <td>1</td>\n",
       "      <td>2</td>\n",
       "      <td>0</td>\n",
       "    </tr>\n",
       "    <tr>\n",
       "      <th>4</th>\n",
       "      <td>6ozycU1RpktNG2-1BroVtw</td>\n",
       "      <td>2012-01-05</td>\n",
       "      <td>1uJFq2r5QfJG_6ExMRCaGw</td>\n",
       "      <td>5</td>\n",
       "      <td>General Manager Scott Petello is a good egg!!!...</td>\n",
       "      <td>review</td>\n",
       "      <td>vYmM4KTsC8ZfQBg-j5MWkw</td>\n",
       "      <td>0</td>\n",
       "      <td>0</td>\n",
       "      <td>0</td>\n",
       "    </tr>\n",
       "    <tr>\n",
       "      <th>5</th>\n",
       "      <td>-yxfBYGB6SEqszmxJxd97A</td>\n",
       "      <td>2007-12-13</td>\n",
       "      <td>m2CKSsepBCoRYWxiRUsxAg</td>\n",
       "      <td>4</td>\n",
       "      <td>Quiessence is, simply put, beautiful.  Full wi...</td>\n",
       "      <td>review</td>\n",
       "      <td>sqYN3lNgvPbPCTRsMFu27g</td>\n",
       "      <td>4</td>\n",
       "      <td>3</td>\n",
       "      <td>1</td>\n",
       "    </tr>\n",
       "    <tr>\n",
       "      <th>6</th>\n",
       "      <td>zp713qNhx8d9KCJJnrw1xA</td>\n",
       "      <td>2010-02-12</td>\n",
       "      <td>riFQ3vxNpP4rWLk_CSri2A</td>\n",
       "      <td>5</td>\n",
       "      <td>Drop what you're doing and drive here. After I...</td>\n",
       "      <td>review</td>\n",
       "      <td>wFweIWhv2fREZV_dYkz_1g</td>\n",
       "      <td>7</td>\n",
       "      <td>7</td>\n",
       "      <td>4</td>\n",
       "    </tr>\n",
       "    <tr>\n",
       "      <th>7</th>\n",
       "      <td>hW0Ne_HTHEAgGF1rAdmR-g</td>\n",
       "      <td>2012-07-12</td>\n",
       "      <td>JL7GXJ9u4YMx7Rzs05NfiQ</td>\n",
       "      <td>4</td>\n",
       "      <td>Luckily, I didn't have to travel far to make m...</td>\n",
       "      <td>review</td>\n",
       "      <td>1ieuYcKS7zeAv_U15AB13A</td>\n",
       "      <td>0</td>\n",
       "      <td>1</td>\n",
       "      <td>0</td>\n",
       "    </tr>\n",
       "    <tr>\n",
       "      <th>8</th>\n",
       "      <td>wNUea3IXZWD63bbOQaOH-g</td>\n",
       "      <td>2012-08-17</td>\n",
       "      <td>XtnfnYmnJYi71yIuGsXIUA</td>\n",
       "      <td>4</td>\n",
       "      <td>Definitely come for Happy hour! Prices are ama...</td>\n",
       "      <td>review</td>\n",
       "      <td>Vh_DlizgGhSqQh4qfZ2h6A</td>\n",
       "      <td>0</td>\n",
       "      <td>0</td>\n",
       "      <td>0</td>\n",
       "    </tr>\n",
       "    <tr>\n",
       "      <th>9</th>\n",
       "      <td>nMHhuYan8e3cONo3PornJA</td>\n",
       "      <td>2010-08-11</td>\n",
       "      <td>jJAIXA46pU1swYyRCdfXtQ</td>\n",
       "      <td>5</td>\n",
       "      <td>Nobuo shows his unique talents with everything...</td>\n",
       "      <td>review</td>\n",
       "      <td>sUNkXg8-KFtCMQDV6zRzQg</td>\n",
       "      <td>0</td>\n",
       "      <td>1</td>\n",
       "      <td>0</td>\n",
       "    </tr>\n",
       "  </tbody>\n",
       "</table>\n",
       "</div>"
      ]
     },
     "execution_count": 3,
     "metadata": {},
     "output_type": "execute_result"
    }
   ],
   "execution_count": 3
  },
  {
   "metadata": {},
   "cell_type": "markdown",
   "source": "### Let's look at our columns"
  },
  {
   "metadata": {
    "ExecuteTime": {
     "end_time": "2024-05-25T04:25:14.169355Z",
     "start_time": "2024-05-25T04:25:14.165502Z"
    }
   },
   "cell_type": "code",
   "source": "print(df.columns)",
   "outputs": [
    {
     "name": "stdout",
     "output_type": "stream",
     "text": [
      "Index(['business_id', 'date', 'review_id', 'stars', 'text', 'type', 'user_id',\n",
      "       'cool', 'useful', 'funny'],\n",
      "      dtype='object')\n"
     ]
    }
   ],
   "execution_count": 4
  },
  {
   "metadata": {},
   "cell_type": "markdown",
   "source": "### Dataset summary"
  },
  {
   "metadata": {
    "ExecuteTime": {
     "end_time": "2024-05-25T04:25:14.192362Z",
     "start_time": "2024-05-25T04:25:14.182364Z"
    }
   },
   "cell_type": "code",
   "source": "df.info()",
   "outputs": [
    {
     "name": "stdout",
     "output_type": "stream",
     "text": [
      "<class 'pandas.core.frame.DataFrame'>\n",
      "RangeIndex: 10000 entries, 0 to 9999\n",
      "Data columns (total 10 columns):\n",
      " #   Column       Non-Null Count  Dtype \n",
      "---  ------       --------------  ----- \n",
      " 0   business_id  10000 non-null  object\n",
      " 1   date         10000 non-null  object\n",
      " 2   review_id    10000 non-null  object\n",
      " 3   stars        10000 non-null  int64 \n",
      " 4   text         10000 non-null  object\n",
      " 5   type         10000 non-null  object\n",
      " 6   user_id      10000 non-null  object\n",
      " 7   cool         10000 non-null  int64 \n",
      " 8   useful       10000 non-null  int64 \n",
      " 9   funny        10000 non-null  int64 \n",
      "dtypes: int64(4), object(6)\n",
      "memory usage: 781.4+ KB\n"
     ]
    }
   ],
   "execution_count": 5
  },
  {
   "metadata": {},
   "cell_type": "markdown",
   "source": "### Let's plot a histogram to check the length of the review texts"
  },
  {
   "cell_type": "code",
   "metadata": {
    "ExecuteTime": {
     "end_time": "2024-05-25T04:25:14.522293Z",
     "start_time": "2024-05-25T04:25:14.266369Z"
    }
   },
   "source": [
    "from matplotlib import pyplot as plt\n",
    "df.text.str.len().hist(bins=100)\n",
    "plt.xlabel(\"Length\")\n",
    "plt.ylabel(\"Count\")\n",
    "plt.title(\"Distribution of Review Text Length\")\n",
    "plt.show()"
   ],
   "outputs": [
    {
     "data": {
      "text/plain": [
       "<Figure size 640x480 with 1 Axes>"
      ],
      "image/png": "[encoded data removed]"
     },
     "metadata": {},
     "output_type": "display_data"
    }
   ],
   "execution_count": 6
  },
  {
   "metadata": {},
   "cell_type": "markdown",
   "source": "### Checking random index review rating and its text representation"
  },
  {
   "metadata": {
    "ExecuteTime": {
     "end_time": "2024-05-25T04:25:14.528027Z",
     "start_time": "2024-05-25T04:25:14.523299Z"
    }
   },
   "cell_type": "code",
   "source": [
    "N = 200\n",
    "print(\"Sample review rating:\", df.iloc[N].stars)\n",
    "print(\"Sample review text:\", df.iloc[N].text)"
   ],
   "outputs": [
    {
     "name": "stdout",
     "output_type": "stream",
     "text": [
      "Sample review rating: 5\n",
      "Sample review text: Who dosen't like Cosco, I love this place. The pizza is cheap and good.\n"
     ]
    }
   ],
   "execution_count": 7
  },
  {
   "metadata": {},
   "cell_type": "markdown",
   "source": "### Let's see how many reviews fall into each rating category using seaborn's displot"
  },
  {
   "cell_type": "code",
   "metadata": {
    "ExecuteTime": {
     "end_time": "2024-05-25T04:25:14.940022Z",
     "start_time": "2024-05-25T04:25:14.529035Z"
    }
   },
   "source": [
    "import seaborn as sns\n",
    "sns.displot(df[\"stars\"])\n",
    "plt.title(\"Distribution of Ratings\")\n",
    "plt.show()"
   ],
   "outputs": [
    {
     "data": {
      "text/plain": [
       "<Figure size 500x500 with 1 Axes>"
      ],
      "image/png": "[encoded data removed]"
     },
     "metadata": {},
     "output_type": "display_data"
    }
   ],
   "execution_count": 8
  },
  {
   "metadata": {},
   "cell_type": "markdown",
   "source": [
    "## Text Vectorization using sentence embedding method\n",
    "### Initialize 4 different strings"
   ]
  },
  {
   "metadata": {
    "ExecuteTime": {
     "end_time": "2024-05-25T04:25:14.945757Z",
     "start_time": "2024-05-25T04:25:14.942033Z"
    }
   },
   "cell_type": "code",
   "source": [
    "text_a = \"Nobuo shows his unique talents with everything on the menu. Carefully crafted features with much to drink. Start with the pork belly buns and a stout. Then go on until you can no longer.\"\n",
    "text_b = \"Great food and service! Country food at its best!\"\n",
    "text_c = \"Yes I do rock the hipster joints.  I dig this place.  A little bit of a scene, but the food is solid and the service is great. Hard not like it.  All in all a great spot.  I tend to switch up my favorites but I typically hit this up for breakfast when in the 602.\"\n",
    "text_d = \"It's just fun and I'll be back ! Very chill.\""
   ],
   "outputs": [],
   "execution_count": 9
  },
  {
   "metadata": {},
   "cell_type": "markdown",
   "source": "### Import scikit-learn text feature extraction to get its numeric representation and store it in vectorizer variable"
  },
  {
   "metadata": {
    "ExecuteTime": {
     "end_time": "2024-05-25T04:25:16.621190Z",
     "start_time": "2024-05-25T04:25:14.946766Z"
    }
   },
   "cell_type": "code",
   "source": [
    "import torch\n",
    "from torch.utils.data import DataLoader, TensorDataset\n",
    "from sklearn.feature_extraction.text import CountVectorizer\n",
    "import numpy as np\n",
    "from tqdm import tqdm\n",
    "from torch import nn, optim\n",
    "import pandas as pd\n",
    "vectorizer = CountVectorizer()\n",
    "corpus = [text_a, text_b, text_c, text_d]\n",
    "X = vectorizer.fit_transform(corpus)\n",
    "# vectorizer = CountVectorizer()\n",
    "# X = vectorizer.fit_transform(df['text']).toarray()\n",
    "# y = (df['stars'] > 3).astype(int).values"
   ],
   "outputs": [],
   "execution_count": 10
  },
  {
   "metadata": {
    "ExecuteTime": {
     "end_time": "2024-05-25T04:25:16.629104Z",
     "start_time": "2024-05-25T04:25:16.622196Z"
    }
   },
   "cell_type": "code",
   "source": "X.toarray()",
   "outputs": [
    {
     "data": {
      "text/plain": [
       "array([[0, 0, 1, 0, 0, 0, 1, 0, 0, 0, 1, 0, 1, 1, 0, 0, 1, 0, 0, 1, 1, 0,\n",
       "        1, 0, 0, 0, 1, 0, 0, 0, 1, 0, 0, 0, 0, 0, 0, 0, 0, 0, 0, 1, 1, 1,\n",
       "        0, 1, 1, 0, 0, 2, 0, 1, 0, 0, 0, 1, 0, 0, 1, 1, 0, 1, 0, 2, 1, 0,\n",
       "        1, 0, 1, 1, 0, 0, 0, 3, 0, 1],\n",
       "       [0, 0, 1, 1, 0, 0, 0, 1, 0, 0, 0, 0, 0, 0, 0, 1, 0, 0, 0, 0, 0, 0,\n",
       "        0, 2, 0, 0, 0, 1, 0, 0, 0, 0, 0, 0, 0, 1, 0, 0, 0, 0, 0, 0, 0, 0,\n",
       "        0, 0, 0, 0, 0, 0, 0, 0, 0, 0, 1, 0, 0, 0, 0, 0, 0, 0, 0, 0, 0, 0,\n",
       "        0, 0, 0, 0, 0, 0, 0, 0, 0, 0],\n",
       "       [1, 2, 1, 0, 0, 0, 0, 0, 1, 1, 0, 2, 0, 0, 0, 0, 0, 1, 1, 0, 0, 1,\n",
       "        0, 1, 1, 0, 0, 2, 1, 1, 0, 1, 2, 2, 1, 0, 1, 0, 1, 1, 0, 0, 0, 0,\n",
       "        1, 0, 0, 1, 1, 0, 1, 0, 1, 1, 1, 0, 1, 1, 0, 0, 1, 0, 1, 4, 0, 2,\n",
       "        1, 1, 0, 0, 2, 0, 1, 0, 1, 0],\n",
       "       [0, 0, 1, 0, 1, 1, 0, 0, 0, 0, 0, 0, 0, 0, 1, 0, 0, 0, 0, 0, 0, 0,\n",
       "        0, 0, 0, 1, 0, 0, 0, 0, 0, 0, 0, 0, 1, 0, 0, 1, 0, 0, 1, 0, 0, 0,\n",
       "        0, 0, 0, 0, 0, 0, 0, 0, 0, 0, 0, 0, 0, 0, 0, 0, 0, 0, 0, 0, 0, 0,\n",
       "        0, 0, 0, 0, 0, 1, 0, 0, 0, 0]], dtype=int64)"
      ]
     },
     "execution_count": 11,
     "metadata": {},
     "output_type": "execute_result"
    }
   ],
   "execution_count": 11
  },
  {
   "metadata": {
    "ExecuteTime": {
     "end_time": "2024-05-25T04:25:16.637489Z",
     "start_time": "2024-05-25T04:25:16.630112Z"
    }
   },
   "cell_type": "code",
   "source": "vectorizer.get_feature_names_out()",
   "outputs": [
    {
     "data": {
      "text/plain": [
       "array(['602', 'all', 'and', 'at', 'back', 'be', 'belly', 'best', 'bit',\n",
       "       'breakfast', 'buns', 'but', 'can', 'carefully', 'chill', 'country',\n",
       "       'crafted', 'dig', 'do', 'drink', 'everything', 'favorites',\n",
       "       'features', 'food', 'for', 'fun', 'go', 'great', 'hard', 'hipster',\n",
       "       'his', 'hit', 'in', 'is', 'it', 'its', 'joints', 'just', 'like',\n",
       "       'little', 'll', 'longer', 'menu', 'much', 'my', 'no', 'nobuo',\n",
       "       'not', 'of', 'on', 'place', 'pork', 'rock', 'scene', 'service',\n",
       "       'shows', 'solid', 'spot', 'start', 'stout', 'switch', 'talents',\n",
       "       'tend', 'the', 'then', 'this', 'to', 'typically', 'unique',\n",
       "       'until', 'up', 'very', 'when', 'with', 'yes', 'you'], dtype=object)"
      ]
     },
     "execution_count": 12,
     "metadata": {},
     "output_type": "execute_result"
    }
   ],
   "execution_count": 12
  },
  {
   "metadata": {},
   "cell_type": "markdown",
   "source": [
    "### Converting initialized four strings to matrix token counts;\n",
    " the result is stored in sparse matrix of variable X"
   ]
  },
  {
   "metadata": {
    "ExecuteTime": {
     "end_time": "2024-05-25T04:25:16.643678Z",
     "start_time": "2024-05-25T04:25:16.638498Z"
    }
   },
   "cell_type": "code",
   "source": [
    "# from sklearn.model_selection import train_test_split\n",
    "# X_train, X_val, y_train, y_val = train_test_split(X, y, test_size=0.2, random_state=42)"
   ],
   "outputs": [],
   "execution_count": 13
  },
  {
   "metadata": {
    "ExecuteTime": {
     "end_time": "2024-05-25T04:25:16.651169Z",
     "start_time": "2024-05-25T04:25:16.644685Z"
    }
   },
   "cell_type": "code",
   "source": [
    "# train_dataset = TensorDataset(torch.Tensor(X_train), torch.Tensor(y_train))\n",
    "# val_dataset = TensorDataset(torch.Tensor(X_val), torch.Tensor(y_val))"
   ],
   "outputs": [],
   "execution_count": 14
  },
  {
   "metadata": {
    "ExecuteTime": {
     "end_time": "2024-05-25T04:25:16.658588Z",
     "start_time": "2024-05-25T04:25:16.654177Z"
    }
   },
   "cell_type": "code",
   "source": [
    "# train_loader = DataLoader(train_dataset, batch_size=32, shuffle=True)\n",
    "# val_loader = DataLoader(val_dataset, batch_size=32, shuffle=False)"
   ],
   "outputs": [],
   "execution_count": 15
  },
  {
   "metadata": {},
   "cell_type": "markdown",
   "source": "## Encode our four initial strings into their embeddings using a sentence transformers model"
  },
  {
   "metadata": {
    "ExecuteTime": {
     "end_time": "2024-05-25T04:25:19.029556Z",
     "start_time": "2024-05-25T04:25:16.659599Z"
    }
   },
   "cell_type": "code",
   "source": [
    "from sentence_transformers import SentenceTransformer\n",
    "model = SentenceTransformer(\"all-MiniLM-L6-v2\")"
   ],
   "outputs": [
    {
     "name": "stderr",
     "output_type": "stream",
     "text": [
      "C:\\python\\Lib\\site-packages\\huggingface_hub\\file_download.py:1132: FutureWarning: `resume_download` is deprecated and will be removed in version 1.0.0. Downloads always resume when possible. If you want to force a new download, use `force_download=True`.\n",
      "  warnings.warn(\n"
     ]
    }
   ],
   "execution_count": 16
  },
  {
   "metadata": {
    "ExecuteTime": {
     "end_time": "2024-05-25T04:25:19.793144Z",
     "start_time": "2024-05-25T04:25:19.030560Z"
    }
   },
   "cell_type": "code",
   "source": [
    "embedding_a = model.encode(text_a)\n",
    "embedding_b = model.encode(text_b)\n",
    "embedding_c = model.encode(text_c)\n",
    "embedding_d = model.encode(text_d)"
   ],
   "outputs": [],
   "execution_count": 17
  },
  {
   "metadata": {
    "ExecuteTime": {
     "end_time": "2024-05-25T04:25:19.798723Z",
     "start_time": "2024-05-25T04:25:19.794148Z"
    }
   },
   "cell_type": "code",
   "source": [
    "import numpy as np \n",
    "len(embedding_a)"
   ],
   "outputs": [
    {
     "data": {
      "text/plain": [
       "384"
      ]
     },
     "execution_count": 18,
     "metadata": {},
     "output_type": "execute_result"
    }
   ],
   "execution_count": 18
  },
  {
   "metadata": {
    "ExecuteTime": {
     "end_time": "2024-05-25T04:25:19.806634Z",
     "start_time": "2024-05-25T04:25:19.799731Z"
    }
   },
   "cell_type": "code",
   "source": "np.linalg.norm(embedding_a)",
   "outputs": [
    {
     "data": {
      "text/plain": [
       "0.9999999"
      ]
     },
     "execution_count": 19,
     "metadata": {},
     "output_type": "execute_result"
    }
   ],
   "execution_count": 19
  },
  {
   "metadata": {
    "ExecuteTime": {
     "end_time": "2024-05-25T04:25:20.927374Z",
     "start_time": "2024-05-25T04:25:19.807643Z"
    }
   },
   "cell_type": "code",
   "source": [
    "from typing import List \n",
    "import sentence_transformers\n",
    "from sentence_transformers import SentenceTransformer\n",
    "sentence_transformer = SentenceTransformer(\"all-MiniLM-L6-v2\")\n",
    "\n",
    "\n",
    "def get_text_embeddings(encoder, text: List[str]) -> List[np.ndarray]:\n",
    "    return encoder.encode(text)"
   ],
   "outputs": [
    {
     "name": "stderr",
     "output_type": "stream",
     "text": [
      "C:\\python\\Lib\\site-packages\\huggingface_hub\\file_download.py:1132: FutureWarning: `resume_download` is deprecated and will be removed in version 1.0.0. Downloads always resume when possible. If you want to force a new download, use `force_download=True`.\n",
      "  warnings.warn(\n"
     ]
    }
   ],
   "execution_count": 20
  },
  {
   "metadata": {},
   "cell_type": "markdown",
   "source": "### The function reads the first 100 rows from our Dataframe and asserts if there are exactly 100 rows "
  },
  {
   "metadata": {
    "ExecuteTime": {
     "end_time": "2024-05-25T04:25:21.019630Z",
     "start_time": "2024-05-25T04:25:20.928380Z"
    }
   },
   "cell_type": "code",
   "source": "df = pd.read_csv('yelp.csv')",
   "outputs": [],
   "execution_count": 21
  },
  {
   "metadata": {
    "ExecuteTime": {
     "end_time": "2024-05-25T04:25:21.023423Z",
     "start_time": "2024-05-25T04:25:21.020636Z"
    }
   },
   "cell_type": "code",
   "source": [
    "# df = df[(df[\"stars\"] == 1) | (df[\"stars\"] == 5)]\n",
    "# df[\"label\"] = df[\"stars\"].map({1: 0, 5: 1})\n",
    "# \n",
    "# X_Data = df[\"text\"]\n",
    "# Y_Data = df[\"label\"]"
   ],
   "outputs": [],
   "execution_count": 22
  },
  {
   "metadata": {
    "ExecuteTime": {
     "end_time": "2024-05-25T04:25:21.030559Z",
     "start_time": "2024-05-25T04:25:21.024434Z"
    }
   },
   "cell_type": "code",
   "source": [
    "# vectorizer = CountVectorizer()\n",
    "# X = vectorizer.fit_transform(df['text']).toarray()\n",
    "# y = (df['stars'] > 3).astype(int).values"
   ],
   "outputs": [],
   "execution_count": 23
  },
  {
   "metadata": {
    "ExecuteTime": {
     "end_time": "2024-05-25T04:25:21.043585Z",
     "start_time": "2024-05-25T04:25:21.031564Z"
    }
   },
   "cell_type": "code",
   "source": [
    "import pandas as pd \n",
    "df = pd.read_csv(\"yelp.csv\", nrows=100)\n",
    "assert len(df) == 100"
   ],
   "outputs": [],
   "execution_count": 24
  },
  {
   "metadata": {
    "ExecuteTime": {
     "end_time": "2024-05-25T04:25:21.049806Z",
     "start_time": "2024-05-25T04:25:21.044592Z"
    }
   },
   "cell_type": "code",
   "source": [
    "df = df[(df[\"stars\"] == 1) | (df[\"stars\"] == 5)]\n",
    "df[\"label\"] = df[\"stars\"].map({1: 0, 5: 1})\n",
    "\n",
    "X_Data = df[\"text\"]\n",
    "Y_Data = df[\"label\"]"
   ],
   "outputs": [],
   "execution_count": 25
  },
  {
   "metadata": {
    "ExecuteTime": {
     "end_time": "2024-05-25T04:25:21.061696Z",
     "start_time": "2024-05-25T04:25:21.050813Z"
    }
   },
   "cell_type": "code",
   "source": [
    "vectorizer = CountVectorizer()\n",
    "X = vectorizer.fit_transform(df['text']).toarray()\n",
    "y = (df['stars'] > 3).astype(int).values"
   ],
   "outputs": [],
   "execution_count": 26
  },
  {
   "metadata": {},
   "cell_type": "markdown",
   "source": "### Take **text** column from our data frame and convert it to a list"
  },
  {
   "metadata": {
    "ExecuteTime": {
     "end_time": "2024-05-25T04:25:21.066432Z",
     "start_time": "2024-05-25T04:25:21.062704Z"
    }
   },
   "cell_type": "code",
   "source": "texts = df.text.tolist()",
   "outputs": [],
   "execution_count": 27
  },
  {
   "metadata": {
    "ExecuteTime": {
     "end_time": "2024-05-25T04:25:23.761131Z",
     "start_time": "2024-05-25T04:25:21.067439Z"
    }
   },
   "cell_type": "code",
   "source": "embeddings = get_text_embeddings(sentence_transformer, texts)",
   "outputs": [],
   "execution_count": 28
  },
  {
   "metadata": {},
   "cell_type": "markdown",
   "source": "### Check the shape of embeddings, length of first embedding, and its norm"
  },
  {
   "metadata": {
    "ExecuteTime": {
     "end_time": "2024-05-25T04:25:23.767207Z",
     "start_time": "2024-05-25T04:25:23.762136Z"
    }
   },
   "cell_type": "code",
   "source": "embeddings.shape",
   "outputs": [
    {
     "data": {
      "text/plain": [
       "(43, 384)"
      ]
     },
     "execution_count": 29,
     "metadata": {},
     "output_type": "execute_result"
    }
   ],
   "execution_count": 29
  },
  {
   "metadata": {
    "ExecuteTime": {
     "end_time": "2024-05-25T04:25:23.774969Z",
     "start_time": "2024-05-25T04:25:23.768215Z"
    }
   },
   "cell_type": "code",
   "source": "len(embeddings[0])",
   "outputs": [
    {
     "data": {
      "text/plain": [
       "384"
      ]
     },
     "execution_count": 30,
     "metadata": {},
     "output_type": "execute_result"
    }
   ],
   "execution_count": 30
  },
  {
   "metadata": {
    "ExecuteTime": {
     "end_time": "2024-05-25T04:25:23.782640Z",
     "start_time": "2024-05-25T04:25:23.775974Z"
    }
   },
   "cell_type": "code",
   "source": "np.linalg.norm(embeddings[0])",
   "outputs": [
    {
     "data": {
      "text/plain": [
       "1.0"
      ]
     },
     "execution_count": 31,
     "metadata": {},
     "output_type": "execute_result"
    }
   ],
   "execution_count": 31
  },
  {
   "metadata": {},
   "cell_type": "markdown",
   "source": "### Let's add obtained embeddings and write them into binary file using feather function"
  },
  {
   "metadata": {
    "ExecuteTime": {
     "end_time": "2024-05-25T04:25:23.788718Z",
     "start_time": "2024-05-25T04:25:23.783647Z"
    }
   },
   "cell_type": "code",
   "source": "# df = pd.read_csv(\"yelp.csv\") ",
   "outputs": [],
   "execution_count": 32
  },
  {
   "metadata": {
    "ExecuteTime": {
     "end_time": "2024-05-25T04:25:23.800145Z",
     "start_time": "2024-05-25T04:25:23.792724Z"
    }
   },
   "cell_type": "code",
   "source": [
    "# texts = df.text.tolist()\n",
    "# assert len(texts) == len(df)"
   ],
   "outputs": [],
   "execution_count": 33
  },
  {
   "metadata": {
    "ExecuteTime": {
     "end_time": "2024-05-25T04:25:26.381624Z",
     "start_time": "2024-05-25T04:25:23.802156Z"
    }
   },
   "cell_type": "code",
   "source": "embeddings = get_text_embeddings(sentence_transformer, texts)",
   "outputs": [],
   "execution_count": 34
  },
  {
   "metadata": {
    "ExecuteTime": {
     "end_time": "2024-05-25T04:25:26.387087Z",
     "start_time": "2024-05-25T04:25:26.382630Z"
    }
   },
   "cell_type": "code",
   "source": "df = df.assign(embeddings = [e for e in embeddings])",
   "outputs": [],
   "execution_count": 35
  },
  {
   "metadata": {
    "ExecuteTime": {
     "end_time": "2024-05-25T04:25:26.405019Z",
     "start_time": "2024-05-25T04:25:26.388096Z"
    }
   },
   "cell_type": "code",
   "source": [
    "df.reset_index(inplace=True)\n",
    "df.to_feather(\"yelp_with_embeddings.bin\")"
   ],
   "outputs": [],
   "execution_count": 36
  },
  {
   "metadata": {
    "ExecuteTime": {
     "end_time": "2024-05-25T04:25:26.409797Z",
     "start_time": "2024-05-25T04:25:26.406026Z"
    }
   },
   "cell_type": "code",
   "source": [
    "# import os\n",
    "# \n",
    "# # Ensure OUTPUT_FILE_PATH is correctly defined\n",
    "# OUTPUT_FILE_PATH = '/'  # substitute this with your file path\n",
    "# \n",
    "# directory = os.path.dirname(OUTPUT_FILE_PATH)\n",
    "# \n",
    "# if directory and not os.path.exists(directory):  # Ensure that directory is not an empty string\n",
    "#     os.makedirs(directory)\n",
    "# \n",
    "# df.reset_index(inplace=True)\n",
    "# df.to_feather(OUTPUT_FILE_PATH)"
   ],
   "outputs": [],
   "execution_count": 37
  },
  {
   "metadata": {},
   "cell_type": "markdown",
   "source": "## Train classifier"
  },
  {
   "metadata": {
    "ExecuteTime": {
     "end_time": "2024-05-25T04:25:26.417961Z",
     "start_time": "2024-05-25T04:25:26.410802Z"
    }
   },
   "cell_type": "code",
   "source": [
    "import torch \n",
    "from torch import nn\n",
    "import numpy as np\n",
    "class ReviewClassifier(nn.Module):\n",
    "    def __init__(self):\n",
    "        super().__init__()        \n",
    "        self.mlp = nn.Sequential(\n",
    "            nn.Linear(384, 150),\n",
    "            nn.ReLU(),\n",
    "            nn.Linear(150,15),\n",
    "            nn.ReLU(),\n",
    "            nn.Linear(15, 1),\n",
    "            nn.Sigmoid()\n",
    "        ) \n",
    "        \n",
    "    \n",
    "    def forward(self, x):        \n",
    "        return self.mlp(x)"
   ],
   "outputs": [],
   "execution_count": 38
  },
  {
   "metadata": {
    "ExecuteTime": {
     "end_time": "2024-05-25T04:25:26.428937Z",
     "start_time": "2024-05-25T04:25:26.418968Z"
    }
   },
   "cell_type": "code",
   "source": [
    "import pandas as pd \n",
    "df = pd.read_feather(\"yelp_with_embeddings.bin\")"
   ],
   "outputs": [],
   "execution_count": 39
  },
  {
   "metadata": {
    "ExecuteTime": {
     "end_time": "2024-05-25T04:25:26.434673Z",
     "start_time": "2024-05-25T04:25:26.429945Z"
    }
   },
   "cell_type": "code",
   "source": "print(df.columns)",
   "outputs": [
    {
     "name": "stdout",
     "output_type": "stream",
     "text": [
      "Index(['index', 'business_id', 'date', 'review_id', 'stars', 'text', 'type',\n",
      "       'user_id', 'cool', 'useful', 'funny', 'label', 'embeddings'],\n",
      "      dtype='object')\n"
     ]
    }
   ],
   "execution_count": 40
  },
  {
   "metadata": {
    "ExecuteTime": {
     "end_time": "2024-05-25T04:25:26.447087Z",
     "start_time": "2024-05-25T04:25:26.435679Z"
    }
   },
   "cell_type": "code",
   "source": "df.embeddings[0]",
   "outputs": [
    {
     "data": {
      "text/plain": [
       "array([-2.69870944e-02,  1.21111311e-02,  1.03444271e-01,  5.85587509e-02,\n",
       "       -6.46284074e-02, -1.29983099e-02, -6.94514215e-02, -4.23906147e-02,\n",
       "       -4.72875908e-02, -7.47565925e-02,  2.75890459e-04, -1.09934034e-02,\n",
       "       -2.56671179e-02, -6.28251359e-02, -1.99138578e-02, -7.65452906e-02,\n",
       "        1.74198315e-01, -1.34243011e-01, -1.75687131e-02, -4.12424505e-02,\n",
       "       -1.09441176e-01, -4.82605360e-02,  4.82458919e-02, -1.33555811e-02,\n",
       "        5.59582449e-02,  5.01586571e-02,  2.06091087e-02,  4.79414351e-02,\n",
       "       -4.90631424e-02, -4.00309227e-02, -2.74517331e-02,  6.48624748e-02,\n",
       "       -4.05024327e-02, -4.38724738e-03, -2.46323422e-02,  4.45185713e-02,\n",
       "        9.24157798e-02, -1.14275195e-01,  5.28179966e-02, -3.53382406e-04,\n",
       "        2.43185777e-02, -4.42525484e-02,  5.36391921e-02, -2.23462936e-02,\n",
       "        2.35288665e-02,  4.34744172e-03, -1.30336965e-02,  4.99515757e-02,\n",
       "       -1.54166268e-02, -6.97715627e-03, -2.35754997e-02,  2.09902460e-03,\n",
       "        3.75692472e-02, -8.62444490e-02, -6.85299980e-03,  7.78977275e-02,\n",
       "       -6.73901066e-02, -7.37164542e-02, -1.78264119e-02, -1.08250836e-03,\n",
       "       -4.81574126e-02,  2.11568885e-02,  1.25666456e-02,  2.10619885e-02,\n",
       "        1.33452937e-02, -1.33137733e-01, -7.90682808e-02, -1.23439645e-02,\n",
       "        8.68083350e-03, -4.87616425e-03, -8.34082961e-02,  3.24232541e-02,\n",
       "        8.48386735e-02,  3.38214077e-02, -3.81159969e-02,  2.02525817e-02,\n",
       "        5.58056310e-02, -8.65466967e-02, -1.29947308e-02, -2.25702077e-02,\n",
       "        1.92524698e-02, -5.19389361e-02, -2.12010671e-03,  8.10813904e-02,\n",
       "       -6.65412769e-02, -6.95661828e-02,  7.98043832e-02,  1.16713718e-01,\n",
       "        3.33146825e-02, -4.78454195e-02,  5.78733981e-02,  2.74902582e-02,\n",
       "       -2.92248931e-02, -1.36976670e-02, -1.76375862e-02,  5.38568292e-03,\n",
       "       -8.98408145e-02, -5.90611175e-02, -3.49838622e-02,  3.21381651e-02,\n",
       "       -3.93620431e-02,  8.48296359e-02,  4.43563759e-02, -6.20669536e-02,\n",
       "       -1.30053566e-04,  5.10621723e-03,  2.08826046e-02,  6.01842999e-02,\n",
       "        7.63387047e-03, -3.17821540e-02,  6.22824440e-03,  9.52724144e-02,\n",
       "       -1.64804254e-02, -4.66069691e-02, -3.33437249e-02,  1.49613507e-02,\n",
       "        6.32259473e-02, -7.10855722e-02, -3.43911313e-02, -2.74256505e-02,\n",
       "       -6.71125762e-03,  8.93264115e-02,  1.63294177e-03,  1.61891896e-02,\n",
       "       -6.07838817e-02,  6.01697676e-02,  8.37860405e-02,  1.08792177e-33,\n",
       "       -5.23586795e-02,  9.48508754e-02,  3.99545841e-02,  2.43401043e-02,\n",
       "        1.02559723e-01, -8.24142434e-03, -3.53334169e-03, -5.14878891e-02,\n",
       "        6.05715904e-03,  6.08335137e-02,  1.68851076e-03, -6.24873349e-03,\n",
       "        2.31647007e-02,  2.64757294e-02,  4.08719741e-02, -1.72429427e-04,\n",
       "       -6.91120327e-02,  2.49039978e-02, -5.93044143e-03,  3.31235714e-02,\n",
       "       -3.50613073e-02, -1.83450021e-02, -4.10194555e-03, -2.08918215e-03,\n",
       "       -1.49178104e-02, -2.23000925e-02,  2.40941811e-02,  5.24160489e-02,\n",
       "       -1.51019881e-03, -1.21143144e-02,  4.43210267e-02, -1.91541985e-02,\n",
       "       -1.27714863e-02, -7.34671429e-02, -1.75793320e-02,  3.28858346e-02,\n",
       "       -1.08002145e-02, -7.25252330e-02, -4.67047887e-03,  4.90711220e-02,\n",
       "       -4.67787497e-02, -2.22253073e-02,  5.75227197e-03,  3.90564539e-02,\n",
       "       -1.88768413e-02, -9.38071404e-03,  3.57262604e-02,  4.19932827e-02,\n",
       "       -2.24531088e-02, -2.17912327e-02, -4.18910570e-02, -4.32465151e-02,\n",
       "        1.19772302e-02,  5.02807610e-02, -2.84597166e-02,  4.77353781e-02,\n",
       "        2.06664745e-02,  3.79458745e-03,  1.43183768e-01, -2.64689177e-02,\n",
       "        4.77422699e-02,  4.04454060e-02, -7.64874071e-02, -5.94600327e-02,\n",
       "       -6.22086897e-02, -1.90598667e-02,  2.88134925e-02, -3.67795415e-02,\n",
       "       -1.15083763e-02,  4.27131876e-02,  8.02865475e-02, -2.01732926e-02,\n",
       "        2.76288920e-04, -2.20895261e-02,  4.97051701e-02,  6.66928440e-02,\n",
       "       -5.04577160e-02, -2.26664823e-02,  1.21341616e-01, -3.60040627e-02,\n",
       "        1.53523624e-01,  2.51945518e-02, -5.34851402e-02, -4.90947403e-02,\n",
       "       -1.75985210e-02,  4.56682816e-02, -4.62493710e-02, -5.00788949e-02,\n",
       "        4.55314741e-02,  6.57503828e-02, -2.70160218e-03, -3.66258174e-02,\n",
       "        8.09208006e-02, -2.11646874e-02, -4.50423025e-02, -1.76122188e-33,\n",
       "       -5.11926075e-04, -3.41143366e-03, -8.19503516e-02,  6.53516501e-02,\n",
       "        4.61371569e-03, -5.55519536e-02, -5.73517978e-02,  1.49508808e-02,\n",
       "       -1.04390839e-02, -7.69058093e-02, -1.48242246e-02,  5.28385490e-02,\n",
       "        6.80353269e-02, -6.84601488e-03, -5.40470034e-02,  5.61820269e-02,\n",
       "        6.70744926e-02,  5.70620298e-02,  9.75797698e-02, -1.13525309e-01,\n",
       "       -4.81670797e-02,  7.31434375e-02, -7.21330009e-03,  2.60969102e-02,\n",
       "       -2.57502273e-02,  1.05358884e-01,  4.85395007e-02,  4.23888639e-02,\n",
       "       -1.02623686e-01, -9.14595351e-02, -1.84928458e-02, -3.12113669e-02,\n",
       "        7.05306157e-02, -3.65404296e-03,  2.27574687e-02,  1.29115418e-01,\n",
       "        1.83602609e-02, -1.22089842e-02, -1.93492770e-02,  3.65775898e-02,\n",
       "       -1.71085428e-02, -9.65993479e-03, -9.28641669e-03,  6.32369444e-02,\n",
       "       -1.32902376e-02,  1.47010991e-02, -8.49919301e-03, -6.10401332e-02,\n",
       "       -9.65384208e-03,  4.10977565e-02,  1.02281943e-02,  1.02466214e-02,\n",
       "       -1.32318269e-02, -3.49525884e-02,  2.64835246e-02,  4.26833890e-03,\n",
       "       -3.38669121e-02, -8.55214223e-02, -1.41454837e-03, -3.26240610e-04,\n",
       "       -7.66112953e-02,  1.98751595e-02, -1.86676835e-03,  3.13633196e-02,\n",
       "        1.11508138e-01, -3.28328721e-02, -1.02160415e-02, -7.56185502e-02,\n",
       "       -1.21610118e-02,  8.71014781e-03, -1.43655077e-01, -1.04567651e-02,\n",
       "       -4.77621071e-02, -1.73839405e-02,  2.76217703e-02,  5.86194173e-03,\n",
       "        5.10645024e-02, -3.41733582e-02, -3.51570807e-02,  6.53290888e-03,\n",
       "       -2.28358302e-02, -1.35071930e-02, -5.67932241e-03, -5.22091147e-03,\n",
       "        3.17015909e-02,  2.01923810e-02, -5.33554740e-02, -3.50575224e-02,\n",
       "       -2.07526069e-02,  8.81289095e-02,  1.90306064e-02,  5.38337864e-02,\n",
       "       -2.02797242e-02, -3.04704662e-02,  7.48808607e-02, -4.84263332e-08,\n",
       "        1.17822520e-01,  3.36280912e-02, -2.31636204e-02,  7.11729452e-02,\n",
       "        8.49576592e-02, -1.03741445e-01,  2.63556689e-02, -3.89547423e-02,\n",
       "        3.22070606e-02,  2.40321383e-02, -9.93173867e-02,  9.69236866e-02,\n",
       "       -3.23087908e-02, -1.99861135e-02, -5.35256835e-03,  2.55814940e-02,\n",
       "        6.63374737e-02,  3.58618386e-02, -3.74887250e-02,  1.23788975e-02,\n",
       "        4.59758043e-02,  7.71509632e-02,  1.60807297e-02, -7.58517608e-02,\n",
       "        5.55181243e-02,  4.70231697e-02,  2.45538335e-02, -7.11073820e-03,\n",
       "       -4.37852833e-03,  3.87967080e-02, -4.69578840e-02,  2.03480236e-02,\n",
       "       -2.31245458e-02,  2.31186077e-02, -6.86043128e-02, -4.95295078e-02,\n",
       "       -5.35814539e-02, -2.26034597e-02,  2.91960430e-03, -6.31515384e-02,\n",
       "       -8.98132101e-02, -1.58953015e-02, -7.54072741e-02, -3.02533079e-02,\n",
       "       -6.91728666e-02,  1.25562353e-02, -7.69964084e-02,  1.97452474e-02,\n",
       "       -7.86292255e-02,  5.87889701e-02, -5.94749153e-02, -1.56360082e-02,\n",
       "        4.31361124e-02,  6.69538826e-02,  1.68508627e-02,  1.61678586e-02,\n",
       "        2.93121440e-03, -2.61992998e-02,  8.97893086e-02,  3.39937322e-02,\n",
       "       -1.13160778e-02,  1.02929920e-02, -6.73350096e-02,  5.14032785e-03],\n",
       "      dtype=float32)"
      ]
     },
     "execution_count": 41,
     "metadata": {},
     "output_type": "execute_result"
    }
   ],
   "execution_count": 41
  },
  {
   "metadata": {
    "ExecuteTime": {
     "end_time": "2024-05-25T04:25:26.454761Z",
     "start_time": "2024-05-25T04:25:26.448094Z"
    }
   },
   "cell_type": "code",
   "source": "df.embeddings[0].shape",
   "outputs": [
    {
     "data": {
      "text/plain": [
       "(384,)"
      ]
     },
     "execution_count": 42,
     "metadata": {},
     "output_type": "execute_result"
    }
   ],
   "execution_count": 42
  },
  {
   "metadata": {
    "ExecuteTime": {
     "end_time": "2024-05-25T04:25:26.461714Z",
     "start_time": "2024-05-25T04:25:26.455767Z"
    }
   },
   "cell_type": "code",
   "source": [
    "df = df.sample(frac=1.0)\n",
    "train_df = df[:25000]\n",
    "val_df = df[25000:30000]\n",
    "test_df = df[30000:]"
   ],
   "outputs": [],
   "execution_count": 43
  },
  {
   "metadata": {
    "ExecuteTime": {
     "end_time": "2024-05-25T04:25:30.178567Z",
     "start_time": "2024-05-25T04:25:26.462721Z"
    }
   },
   "cell_type": "code",
   "source": [
    "from torchmetrics import Accuracy\n",
    "from tqdm.notebook import tqdm \n",
    "import numpy as np \n",
    "from torch.utils.tensorboard import SummaryWriter\n",
    "\n",
    "# \"setup\"\n",
    "writer = SummaryWriter()\n",
    "model = ReviewClassifier()\n",
    "bce_loss = torch.nn.BCELoss()\n",
    "\n",
    "batch_size = 128\n",
    "adam_optimizer = torch.optim.Adam(model.parameters(), lr=0.0005)\n",
    "nr_of_epochs = 16\n",
    "losses = []\n",
    "\n",
    "# # Convert DataFrames to numpy arrays first, then to tensors\n",
    "# X_train = np.array(train_df.embeddings.tolist(), dtype=np.float32)\n",
    "# y_train = np.array(train_df.label.tolist(), dtype=np.float32).reshape(-1, 1)\n",
    "# train_dataset = TensorDataset(torch.tensor(X_train), torch.tensor(y_train))\n",
    "# train_loader = DataLoader(train_dataset, batch_size=batch_size, shuffle=True)\n",
    "# \n",
    "# X_val = np.array(val_df.embeddings.tolist(), dtype=np.float32)\n",
    "# y_val = np.array(val_df.label.tolist(), dtype=np.float32).reshape(-1, 1)\n",
    "# val_dataset = TensorDataset(torch.tensor(X_val), torch.tensor(y_val))\n",
    "# val_loader = DataLoader(val_dataset, batch_size=batch_size, shuffle=False)\n",
    "\n",
    "# Training Loop\n",
    "\n",
    "for epoch in tqdm(range(nr_of_epochs)):\n",
    "    # shuffle \n",
    "    train_df = train_df.sample(frac=1.0)\n",
    "    current_index = 0 \n",
    "    while current_index < len(train_df):        \n",
    "        batch_x = np.array(\n",
    "            train_df.embeddings[current_index:(current_index + batch_size)].tolist()\n",
    "        )\n",
    "        batch_y = np.array(\n",
    "            train_df.label[current_index: (current_index + batch_size)].tolist()\n",
    "        )\n",
    "        \n",
    "        tensor_batch_x = torch.Tensor(batch_x)\n",
    "        tensor_batch_y = torch.Tensor(batch_y).reshape(-1, 1)\n",
    "        \n",
    "        pred = model.forward(tensor_batch_x)\n",
    "        loss = bce_loss(pred, tensor_batch_y)\n",
    " \n",
    "        # Backpropagation\n",
    "        loss.backward() \n",
    "        adam_optimizer.step() \n",
    "        adam_optimizer.zero_grad()\n",
    "        \n",
    "        current_index += batch_size\n",
    "        losses.append(float(loss.detach().numpy()))\n",
    "        \n",
    "    # Validation Loop    \n",
    "    model.eval()\n",
    "    metric = Accuracy(task='BINARY')\n",
    "    for _, eval_row in tqdm(val_df.iterrows(), desc='evaluating'):\n",
    "        pred = model.forward(\n",
    "            torch.Tensor(np.array(eval_row.embeddings))\n",
    "        )\n",
    "        metric.update(pred, torch.Tensor([eval_row.label]))\n",
    "    metric_value = metric.compute()\n",
    "    writer.add_scalar('Accuracy/eval', metric_value, epoch)"
   ],
   "outputs": [
    {
     "data": {
      "text/plain": [
       "  0%|          | 0/16 [00:00<?, ?it/s]"
      ],
      "application/vnd.jupyter.widget-view+json": {
       "version_major": 2,
       "version_minor": 0,
       "model_id": "8d5cc019904f416a9dc7afee7d6ca7f2"
      }
     },
     "metadata": {},
     "output_type": "display_data"
    },
    {
     "data": {
      "text/plain": [
       "evaluating: 0it [00:00, ?it/s]"
      ],
      "application/vnd.jupyter.widget-view+json": {
       "version_major": 2,
       "version_minor": 0,
       "model_id": "9e87fee795de4d9bad761678306203c1"
      }
     },
     "metadata": {},
     "output_type": "display_data"
    },
    {
     "name": "stderr",
     "output_type": "stream",
     "text": [
      "C:\\python\\Lib\\site-packages\\torchmetrics\\utilities\\prints.py:43: UserWarning: The ``compute`` method of metric BinaryAccuracy was called before the ``update`` method which may lead to errors, as metric states have not yet been updated.\n",
      "  warnings.warn(*args, **kwargs)  # noqa: B028\n"
     ]
    },
    {
     "data": {
      "text/plain": [
       "evaluating: 0it [00:00, ?it/s]"
      ],
      "application/vnd.jupyter.widget-view+json": {
       "version_major": 2,
       "version_minor": 0,
       "model_id": "57653accc9e94b5abc2c2a903390a481"
      }
     },
     "metadata": {},
     "output_type": "display_data"
    },
    {
     "data": {
      "text/plain": [
       "evaluating: 0it [00:00, ?it/s]"
      ],
      "application/vnd.jupyter.widget-view+json": {
       "version_major": 2,
       "version_minor": 0,
       "model_id": "3933b095c11b4fa9aeb9a6b4f6c76b69"
      }
     },
     "metadata": {},
     "output_type": "display_data"
    },
    {
     "data": {
      "text/plain": [
       "evaluating: 0it [00:00, ?it/s]"
      ],
      "application/vnd.jupyter.widget-view+json": {
       "version_major": 2,
       "version_minor": 0,
       "model_id": "925baf0b549043bbbc289244fa8776af"
      }
     },
     "metadata": {},
     "output_type": "display_data"
    },
    {
     "data": {
      "text/plain": [
       "evaluating: 0it [00:00, ?it/s]"
      ],
      "application/vnd.jupyter.widget-view+json": {
       "version_major": 2,
       "version_minor": 0,
       "model_id": "ad4d31bebb5d4355b238abf3f814ebcd"
      }
     },
     "metadata": {},
     "output_type": "display_data"
    },
    {
     "data": {
      "text/plain": [
       "evaluating: 0it [00:00, ?it/s]"
      ],
      "application/vnd.jupyter.widget-view+json": {
       "version_major": 2,
       "version_minor": 0,
       "model_id": "0068c6e77fde49ceaa0f9dae21e1df0e"
      }
     },
     "metadata": {},
     "output_type": "display_data"
    },
    {
     "data": {
      "text/plain": [
       "evaluating: 0it [00:00, ?it/s]"
      ],
      "application/vnd.jupyter.widget-view+json": {
       "version_major": 2,
       "version_minor": 0,
       "model_id": "f4cb78fa1f324426abaefc69f62818d5"
      }
     },
     "metadata": {},
     "output_type": "display_data"
    },
    {
     "data": {
      "text/plain": [
       "evaluating: 0it [00:00, ?it/s]"
      ],
      "application/vnd.jupyter.widget-view+json": {
       "version_major": 2,
       "version_minor": 0,
       "model_id": "d1bff8a3d47545779b32bfa1995b93c0"
      }
     },
     "metadata": {},
     "output_type": "display_data"
    },
    {
     "data": {
      "text/plain": [
       "evaluating: 0it [00:00, ?it/s]"
      ],
      "application/vnd.jupyter.widget-view+json": {
       "version_major": 2,
       "version_minor": 0,
       "model_id": "db2b26495e4a4c859647cb35fa546613"
      }
     },
     "metadata": {},
     "output_type": "display_data"
    },
    {
     "data": {
      "text/plain": [
       "evaluating: 0it [00:00, ?it/s]"
      ],
      "application/vnd.jupyter.widget-view+json": {
       "version_major": 2,
       "version_minor": 0,
       "model_id": "d6dba71adb7046d69aefa2227a8d13d1"
      }
     },
     "metadata": {},
     "output_type": "display_data"
    },
    {
     "data": {
      "text/plain": [
       "evaluating: 0it [00:00, ?it/s]"
      ],
      "application/vnd.jupyter.widget-view+json": {
       "version_major": 2,
       "version_minor": 0,
       "model_id": "16d24b9ee0504b798f99fd817790afd9"
      }
     },
     "metadata": {},
     "output_type": "display_data"
    },
    {
     "data": {
      "text/plain": [
       "evaluating: 0it [00:00, ?it/s]"
      ],
      "application/vnd.jupyter.widget-view+json": {
       "version_major": 2,
       "version_minor": 0,
       "model_id": "539086195dac4626a3dc0431a7cfed27"
      }
     },
     "metadata": {},
     "output_type": "display_data"
    },
    {
     "data": {
      "text/plain": [
       "evaluating: 0it [00:00, ?it/s]"
      ],
      "application/vnd.jupyter.widget-view+json": {
       "version_major": 2,
       "version_minor": 0,
       "model_id": "ea76897f90924b8cb6fffc4861945585"
      }
     },
     "metadata": {},
     "output_type": "display_data"
    },
    {
     "data": {
      "text/plain": [
       "evaluating: 0it [00:00, ?it/s]"
      ],
      "application/vnd.jupyter.widget-view+json": {
       "version_major": 2,
       "version_minor": 0,
       "model_id": "b477f0e5f99f4be0b2346ca89c4fc3ed"
      }
     },
     "metadata": {},
     "output_type": "display_data"
    },
    {
     "data": {
      "text/plain": [
       "evaluating: 0it [00:00, ?it/s]"
      ],
      "application/vnd.jupyter.widget-view+json": {
       "version_major": 2,
       "version_minor": 0,
       "model_id": "d345afee34f44a0b8554e9fc3967d82a"
      }
     },
     "metadata": {},
     "output_type": "display_data"
    },
    {
     "data": {
      "text/plain": [
       "evaluating: 0it [00:00, ?it/s]"
      ],
      "application/vnd.jupyter.widget-view+json": {
       "version_major": 2,
       "version_minor": 0,
       "model_id": "f47905c418bd4428bd012247b46a70cd"
      }
     },
     "metadata": {},
     "output_type": "display_data"
    }
   ],
   "execution_count": 44
  },
  {
   "metadata": {},
   "cell_type": "code",
   "source": "torch.save(model.state_dict(), \"review_classifier.bin\")",
   "outputs": [],
   "execution_count": 45
  },
  {
   "metadata": {},
   "cell_type": "code",
   "source": "test_df.reset_index().to_feather(\"test_df.bin\")",
   "outputs": [],
   "execution_count": 46
  },
  {
   "metadata": {},
   "cell_type": "code",
   "source": [
    "import torch \n",
    "from torch import nn\n",
    "import numpy as np\n",
    "class ReviewClassifier(nn.Module):\n",
    "    def __init__(self):\n",
    "        super().__init__()        \n",
    "        self.mlp = nn.Sequential(\n",
    "            nn.Linear(384, 150),\n",
    "            nn.ReLU(),\n",
    "            nn.Linear(150,15),\n",
    "            nn.ReLU(),\n",
    "            nn.Linear(15, 1),\n",
    "            nn.Sigmoid()\n",
    "        ) \n",
    "        \n",
    "    \n",
    "    def forward(self, x):        \n",
    "        return self.mlp(x)"
   ],
   "outputs": [],
   "execution_count": 47
  },
  {
   "metadata": {},
   "cell_type": "code",
   "source": "state_dict = torch.load(\"review_classifier.bin\")",
   "outputs": [],
   "execution_count": 48
  },
  {
   "metadata": {},
   "cell_type": "code",
   "source": [
    "model = ReviewClassifier()\n",
    "model.load_state_dict(state_dict)"
   ],
   "outputs": [
    {
     "data": {
      "text/plain": [
       "<All keys matched successfully>"
      ]
     },
     "execution_count": 49,
     "metadata": {},
     "output_type": "execute_result"
    }
   ],
   "execution_count": 49
  },
  {
   "metadata": {
    "ExecuteTime": {
     "end_time": "2024-05-25T04:25:31.386226Z",
     "start_time": "2024-05-25T04:25:30.245890Z"
    }
   },
   "cell_type": "code",
   "source": [
    "N = 48\n",
    "test_example = torch.Tensor(np.array(test_df.embeddings[N]))\n",
    "print(test_df.text[N])\n",
    "print(\"Prawdopodobieństwo pozytywnego sentymentu: \",  round(model.forward(test_example).detach().numpy()[0], 3))"
   ],
   "outputs": [
    {
     "ename": "KeyError",
     "evalue": "48",
     "output_type": "error",
     "traceback": [
      "\u001B[1;31m---------------------------------------------------------------------------\u001B[0m",
      "\u001B[1;31mKeyError\u001B[0m                                  Traceback (most recent call last)",
      "File \u001B[1;32mC:\\python\\Lib\\site-packages\\pandas\\core\\indexes\\base.py:3653\u001B[0m, in \u001B[0;36mIndex.get_loc\u001B[1;34m(self, key)\u001B[0m\n\u001B[0;32m   3652\u001B[0m \u001B[38;5;28;01mtry\u001B[39;00m:\n\u001B[1;32m-> 3653\u001B[0m     \u001B[38;5;28;01mreturn\u001B[39;00m \u001B[38;5;28;43mself\u001B[39;49m\u001B[38;5;241;43m.\u001B[39;49m\u001B[43m_engine\u001B[49m\u001B[38;5;241;43m.\u001B[39;49m\u001B[43mget_loc\u001B[49m\u001B[43m(\u001B[49m\u001B[43mcasted_key\u001B[49m\u001B[43m)\u001B[49m\n\u001B[0;32m   3654\u001B[0m \u001B[38;5;28;01mexcept\u001B[39;00m \u001B[38;5;167;01mKeyError\u001B[39;00m \u001B[38;5;28;01mas\u001B[39;00m err:\n",
      "File \u001B[1;32mC:\\python\\Lib\\site-packages\\pandas\\_libs\\index.pyx:147\u001B[0m, in \u001B[0;36mpandas._libs.index.IndexEngine.get_loc\u001B[1;34m()\u001B[0m\n",
      "File \u001B[1;32mC:\\python\\Lib\\site-packages\\pandas\\_libs\\index.pyx:176\u001B[0m, in \u001B[0;36mpandas._libs.index.IndexEngine.get_loc\u001B[1;34m()\u001B[0m\n",
      "File \u001B[1;32mpandas\\_libs\\hashtable_class_helper.pxi:2606\u001B[0m, in \u001B[0;36mpandas._libs.hashtable.Int64HashTable.get_item\u001B[1;34m()\u001B[0m\n",
      "File \u001B[1;32mpandas\\_libs\\hashtable_class_helper.pxi:2630\u001B[0m, in \u001B[0;36mpandas._libs.hashtable.Int64HashTable.get_item\u001B[1;34m()\u001B[0m\n",
      "\u001B[1;31mKeyError\u001B[0m: 48",
      "\nThe above exception was the direct cause of the following exception:\n",
      "\u001B[1;31mKeyError\u001B[0m                                  Traceback (most recent call last)",
      "Cell \u001B[1;32mIn[50], line 2\u001B[0m\n\u001B[0;32m      1\u001B[0m N \u001B[38;5;241m=\u001B[39m \u001B[38;5;241m48\u001B[39m\n\u001B[1;32m----> 2\u001B[0m test_example \u001B[38;5;241m=\u001B[39m torch\u001B[38;5;241m.\u001B[39mTensor(np\u001B[38;5;241m.\u001B[39marray(\u001B[43mtest_df\u001B[49m\u001B[38;5;241;43m.\u001B[39;49m\u001B[43membeddings\u001B[49m\u001B[43m[\u001B[49m\u001B[43mN\u001B[49m\u001B[43m]\u001B[49m))\n\u001B[0;32m      3\u001B[0m \u001B[38;5;28mprint\u001B[39m(test_df\u001B[38;5;241m.\u001B[39mtext[N])\n\u001B[0;32m      4\u001B[0m \u001B[38;5;28mprint\u001B[39m(\u001B[38;5;124m\"\u001B[39m\u001B[38;5;124mPrawdopodobieństwo pozytywnego sentymentu: \u001B[39m\u001B[38;5;124m\"\u001B[39m,  \u001B[38;5;28mround\u001B[39m(model\u001B[38;5;241m.\u001B[39mforward(test_example)\u001B[38;5;241m.\u001B[39mdetach()\u001B[38;5;241m.\u001B[39mnumpy()[\u001B[38;5;241m0\u001B[39m], \u001B[38;5;241m3\u001B[39m))\n",
      "File \u001B[1;32mC:\\python\\Lib\\site-packages\\pandas\\core\\series.py:1007\u001B[0m, in \u001B[0;36mSeries.__getitem__\u001B[1;34m(self, key)\u001B[0m\n\u001B[0;32m   1004\u001B[0m     \u001B[38;5;28;01mreturn\u001B[39;00m \u001B[38;5;28mself\u001B[39m\u001B[38;5;241m.\u001B[39m_values[key]\n\u001B[0;32m   1006\u001B[0m \u001B[38;5;28;01melif\u001B[39;00m key_is_scalar:\n\u001B[1;32m-> 1007\u001B[0m     \u001B[38;5;28;01mreturn\u001B[39;00m \u001B[38;5;28;43mself\u001B[39;49m\u001B[38;5;241;43m.\u001B[39;49m\u001B[43m_get_value\u001B[49m\u001B[43m(\u001B[49m\u001B[43mkey\u001B[49m\u001B[43m)\u001B[49m\n\u001B[0;32m   1009\u001B[0m \u001B[38;5;28;01mif\u001B[39;00m is_hashable(key):\n\u001B[0;32m   1010\u001B[0m     \u001B[38;5;66;03m# Otherwise index.get_value will raise InvalidIndexError\u001B[39;00m\n\u001B[0;32m   1011\u001B[0m     \u001B[38;5;28;01mtry\u001B[39;00m:\n\u001B[0;32m   1012\u001B[0m         \u001B[38;5;66;03m# For labels that don't resolve as scalars like tuples and frozensets\u001B[39;00m\n",
      "File \u001B[1;32mC:\\python\\Lib\\site-packages\\pandas\\core\\series.py:1116\u001B[0m, in \u001B[0;36mSeries._get_value\u001B[1;34m(self, label, takeable)\u001B[0m\n\u001B[0;32m   1113\u001B[0m     \u001B[38;5;28;01mreturn\u001B[39;00m \u001B[38;5;28mself\u001B[39m\u001B[38;5;241m.\u001B[39m_values[label]\n\u001B[0;32m   1115\u001B[0m \u001B[38;5;66;03m# Similar to Index.get_value, but we do not fall back to positional\u001B[39;00m\n\u001B[1;32m-> 1116\u001B[0m loc \u001B[38;5;241m=\u001B[39m \u001B[38;5;28;43mself\u001B[39;49m\u001B[38;5;241;43m.\u001B[39;49m\u001B[43mindex\u001B[49m\u001B[38;5;241;43m.\u001B[39;49m\u001B[43mget_loc\u001B[49m\u001B[43m(\u001B[49m\u001B[43mlabel\u001B[49m\u001B[43m)\u001B[49m\n\u001B[0;32m   1118\u001B[0m \u001B[38;5;28;01mif\u001B[39;00m is_integer(loc):\n\u001B[0;32m   1119\u001B[0m     \u001B[38;5;28;01mreturn\u001B[39;00m \u001B[38;5;28mself\u001B[39m\u001B[38;5;241m.\u001B[39m_values[loc]\n",
      "File \u001B[1;32mC:\\python\\Lib\\site-packages\\pandas\\core\\indexes\\base.py:3655\u001B[0m, in \u001B[0;36mIndex.get_loc\u001B[1;34m(self, key)\u001B[0m\n\u001B[0;32m   3653\u001B[0m     \u001B[38;5;28;01mreturn\u001B[39;00m \u001B[38;5;28mself\u001B[39m\u001B[38;5;241m.\u001B[39m_engine\u001B[38;5;241m.\u001B[39mget_loc(casted_key)\n\u001B[0;32m   3654\u001B[0m \u001B[38;5;28;01mexcept\u001B[39;00m \u001B[38;5;167;01mKeyError\u001B[39;00m \u001B[38;5;28;01mas\u001B[39;00m err:\n\u001B[1;32m-> 3655\u001B[0m     \u001B[38;5;28;01mraise\u001B[39;00m \u001B[38;5;167;01mKeyError\u001B[39;00m(key) \u001B[38;5;28;01mfrom\u001B[39;00m \u001B[38;5;21;01merr\u001B[39;00m\n\u001B[0;32m   3656\u001B[0m \u001B[38;5;28;01mexcept\u001B[39;00m \u001B[38;5;167;01mTypeError\u001B[39;00m:\n\u001B[0;32m   3657\u001B[0m     \u001B[38;5;66;03m# If we have a listlike key, _check_indexing_error will raise\u001B[39;00m\n\u001B[0;32m   3658\u001B[0m     \u001B[38;5;66;03m#  InvalidIndexError. Otherwise we fall through and re-raise\u001B[39;00m\n\u001B[0;32m   3659\u001B[0m     \u001B[38;5;66;03m#  the TypeError.\u001B[39;00m\n\u001B[0;32m   3660\u001B[0m     \u001B[38;5;28mself\u001B[39m\u001B[38;5;241m.\u001B[39m_check_indexing_error(key)\n",
      "\u001B[1;31mKeyError\u001B[0m: 48"
     ]
    }
   ],
   "execution_count": 50
  },
  {
   "metadata": {},
   "cell_type": "code",
   "source": [
    "from torchmetrics import Accuracy \n",
    "\n",
    "from tqdm import tqdm \n",
    "model.eval()\n",
    "metric = Accuracy(task=\"binary\")\n",
    "for _, test_row in tqdm(test_df.iterrows(), desc='evaluating'):\n",
    "    pred = model.forward(\n",
    "        torch.Tensor(np.array(test_row.embeddings))\n",
    "    )\n",
    "    metric.update(pred, torch.Tensor([test_row.label]))\n",
    "metric_value = metric.compute()"
   ],
   "outputs": [],
   "execution_count": null
  },
  {
   "metadata": {},
   "cell_type": "code",
   "source": "print(metric_value)",
   "outputs": [],
   "execution_count": null
  }
 ],
 "metadata": {
  "kernelspec": {
   "display_name": "Python 3",
   "language": "python",
   "name": "python3"
  },
  "language_info": {
   "codemirror_mode": {
    "name": "ipython",
    "version": 3
   },
   "file_extension": ".py",
   "mimetype": "text/x-python",
   "name": "python",
   "nbconvert_exporter": "python",
   "pygments_lexer": "ipython3",
   "version": "3.7.3"
  }
 },
 "nbformat": 4,
 "nbformat_minor": 2
}
