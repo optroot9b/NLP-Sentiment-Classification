{
 "cells": [
  {
   "cell_type": "markdown",
   "metadata": {},
   "source": "# NLP Sentiment Classification Project"
  },
  {
   "metadata": {},
   "cell_type": "markdown",
   "source": "## Data loading & Exploratory data analysis"
  },
  {
   "cell_type": "code",
   "metadata": {
    "ExecuteTime": {
     "end_time": "2024-05-28T05:22:49.582864Z",
     "start_time": "2024-05-28T05:22:49.490540Z"
    }
   },
   "source": [
    "import pandas as pd\n",
    "import numpy as np\n",
    "df = pd.read_csv('yelp.csv')"
   ],
   "outputs": [],
   "execution_count": 1
  },
  {
   "metadata": {},
   "cell_type": "markdown",
   "source": "### Display the first 10 rows"
  },
  {
   "cell_type": "code",
   "metadata": {
    "ExecuteTime": {
     "end_time": "2024-05-28T05:22:49.598593Z",
     "start_time": "2024-05-28T05:22:49.583870Z"
    }
   },
   "source": "df.head(10)",
   "outputs": [
    {
     "data": {
      "text/plain": [
       "              business_id        date               review_id  stars  \\\n",
       "0  9yKzy9PApeiPPOUJEtnvkg  2011-01-26  fWKvX83p0-ka4JS3dc6E5A      5   \n",
       "1  ZRJwVLyzEJq1VAihDhYiow  2011-07-27  IjZ33sJrzXqU-0X6U8NwyA      5   \n",
       "2  6oRAC4uyJCsJl1X0WZpVSA  2012-06-14  IESLBzqUCLdSzSqm0eCSxQ      4   \n",
       "3  _1QQZuf4zZOyFCvXc0o6Vg  2010-05-27  G-WvGaISbqqaMHlNnByodA      5   \n",
       "4  6ozycU1RpktNG2-1BroVtw  2012-01-05  1uJFq2r5QfJG_6ExMRCaGw      5   \n",
       "5  -yxfBYGB6SEqszmxJxd97A  2007-12-13  m2CKSsepBCoRYWxiRUsxAg      4   \n",
       "6  zp713qNhx8d9KCJJnrw1xA  2010-02-12  riFQ3vxNpP4rWLk_CSri2A      5   \n",
       "7  hW0Ne_HTHEAgGF1rAdmR-g  2012-07-12  JL7GXJ9u4YMx7Rzs05NfiQ      4   \n",
       "8  wNUea3IXZWD63bbOQaOH-g  2012-08-17  XtnfnYmnJYi71yIuGsXIUA      4   \n",
       "9  nMHhuYan8e3cONo3PornJA  2010-08-11  jJAIXA46pU1swYyRCdfXtQ      5   \n",
       "\n",
       "                                                text    type  \\\n",
       "0  My wife took me here on my birthday for breakf...  review   \n",
       "1  I have no idea why some people give bad review...  review   \n",
       "2  love the gyro plate. Rice is so good and I als...  review   \n",
       "3  Rosie, Dakota, and I LOVE Chaparral Dog Park!!...  review   \n",
       "4  General Manager Scott Petello is a good egg!!!...  review   \n",
       "5  Quiessence is, simply put, beautiful.  Full wi...  review   \n",
       "6  Drop what you're doing and drive here. After I...  review   \n",
       "7  Luckily, I didn't have to travel far to make m...  review   \n",
       "8  Definitely come for Happy hour! Prices are ama...  review   \n",
       "9  Nobuo shows his unique talents with everything...  review   \n",
       "\n",
       "                  user_id  cool  useful  funny  \n",
       "0  rLtl8ZkDX5vH5nAx9C3q5Q     2       5      0  \n",
       "1  0a2KyEL0d3Yb1V6aivbIuQ     0       0      0  \n",
       "2  0hT2KtfLiobPvh6cDC8JQg     0       1      0  \n",
       "3  uZetl9T0NcROGOyFfughhg     1       2      0  \n",
       "4  vYmM4KTsC8ZfQBg-j5MWkw     0       0      0  \n",
       "5  sqYN3lNgvPbPCTRsMFu27g     4       3      1  \n",
       "6  wFweIWhv2fREZV_dYkz_1g     7       7      4  \n",
       "7  1ieuYcKS7zeAv_U15AB13A     0       1      0  \n",
       "8  Vh_DlizgGhSqQh4qfZ2h6A     0       0      0  \n",
       "9  sUNkXg8-KFtCMQDV6zRzQg     0       1      0  "
      ],
      "text/html": [
       "<div>\n",
       "<style scoped>\n",
       "    .dataframe tbody tr th:only-of-type {\n",
       "        vertical-align: middle;\n",
       "    }\n",
       "\n",
       "    .dataframe tbody tr th {\n",
       "        vertical-align: top;\n",
       "    }\n",
       "\n",
       "    .dataframe thead th {\n",
       "        text-align: right;\n",
       "    }\n",
       "</style>\n",
       "<table border=\"1\" class=\"dataframe\">\n",
       "  <thead>\n",
       "    <tr style=\"text-align: right;\">\n",
       "      <th></th>\n",
       "      <th>business_id</th>\n",
       "      <th>date</th>\n",
       "      <th>review_id</th>\n",
       "      <th>stars</th>\n",
       "      <th>text</th>\n",
       "      <th>type</th>\n",
       "      <th>user_id</th>\n",
       "      <th>cool</th>\n",
       "      <th>useful</th>\n",
       "      <th>funny</th>\n",
       "    </tr>\n",
       "  </thead>\n",
       "  <tbody>\n",
       "    <tr>\n",
       "      <th>0</th>\n",
       "      <td>9yKzy9PApeiPPOUJEtnvkg</td>\n",
       "      <td>2011-01-26</td>\n",
       "      <td>fWKvX83p0-ka4JS3dc6E5A</td>\n",
       "      <td>5</td>\n",
       "      <td>My wife took me here on my birthday for breakf...</td>\n",
       "      <td>review</td>\n",
       "      <td>rLtl8ZkDX5vH5nAx9C3q5Q</td>\n",
       "      <td>2</td>\n",
       "      <td>5</td>\n",
       "      <td>0</td>\n",
       "    </tr>\n",
       "    <tr>\n",
       "      <th>1</th>\n",
       "      <td>ZRJwVLyzEJq1VAihDhYiow</td>\n",
       "      <td>2011-07-27</td>\n",
       "      <td>IjZ33sJrzXqU-0X6U8NwyA</td>\n",
       "      <td>5</td>\n",
       "      <td>I have no idea why some people give bad review...</td>\n",
       "      <td>review</td>\n",
       "      <td>0a2KyEL0d3Yb1V6aivbIuQ</td>\n",
       "      <td>0</td>\n",
       "      <td>0</td>\n",
       "      <td>0</td>\n",
       "    </tr>\n",
       "    <tr>\n",
       "      <th>2</th>\n",
       "      <td>6oRAC4uyJCsJl1X0WZpVSA</td>\n",
       "      <td>2012-06-14</td>\n",
       "      <td>IESLBzqUCLdSzSqm0eCSxQ</td>\n",
       "      <td>4</td>\n",
       "      <td>love the gyro plate. Rice is so good and I als...</td>\n",
       "      <td>review</td>\n",
       "      <td>0hT2KtfLiobPvh6cDC8JQg</td>\n",
       "      <td>0</td>\n",
       "      <td>1</td>\n",
       "      <td>0</td>\n",
       "    </tr>\n",
       "    <tr>\n",
       "      <th>3</th>\n",
       "      <td>_1QQZuf4zZOyFCvXc0o6Vg</td>\n",
       "      <td>2010-05-27</td>\n",
       "      <td>G-WvGaISbqqaMHlNnByodA</td>\n",
       "      <td>5</td>\n",
       "      <td>Rosie, Dakota, and I LOVE Chaparral Dog Park!!...</td>\n",
       "      <td>review</td>\n",
       "      <td>uZetl9T0NcROGOyFfughhg</td>\n",
       "      <td>1</td>\n",
       "      <td>2</td>\n",
       "      <td>0</td>\n",
       "    </tr>\n",
       "    <tr>\n",
       "      <th>4</th>\n",
       "      <td>6ozycU1RpktNG2-1BroVtw</td>\n",
       "      <td>2012-01-05</td>\n",
       "      <td>1uJFq2r5QfJG_6ExMRCaGw</td>\n",
       "      <td>5</td>\n",
       "      <td>General Manager Scott Petello is a good egg!!!...</td>\n",
       "      <td>review</td>\n",
       "      <td>vYmM4KTsC8ZfQBg-j5MWkw</td>\n",
       "      <td>0</td>\n",
       "      <td>0</td>\n",
       "      <td>0</td>\n",
       "    </tr>\n",
       "    <tr>\n",
       "      <th>5</th>\n",
       "      <td>-yxfBYGB6SEqszmxJxd97A</td>\n",
       "      <td>2007-12-13</td>\n",
       "      <td>m2CKSsepBCoRYWxiRUsxAg</td>\n",
       "      <td>4</td>\n",
       "      <td>Quiessence is, simply put, beautiful.  Full wi...</td>\n",
       "      <td>review</td>\n",
       "      <td>sqYN3lNgvPbPCTRsMFu27g</td>\n",
       "      <td>4</td>\n",
       "      <td>3</td>\n",
       "      <td>1</td>\n",
       "    </tr>\n",
       "    <tr>\n",
       "      <th>6</th>\n",
       "      <td>zp713qNhx8d9KCJJnrw1xA</td>\n",
       "      <td>2010-02-12</td>\n",
       "      <td>riFQ3vxNpP4rWLk_CSri2A</td>\n",
       "      <td>5</td>\n",
       "      <td>Drop what you're doing and drive here. After I...</td>\n",
       "      <td>review</td>\n",
       "      <td>wFweIWhv2fREZV_dYkz_1g</td>\n",
       "      <td>7</td>\n",
       "      <td>7</td>\n",
       "      <td>4</td>\n",
       "    </tr>\n",
       "    <tr>\n",
       "      <th>7</th>\n",
       "      <td>hW0Ne_HTHEAgGF1rAdmR-g</td>\n",
       "      <td>2012-07-12</td>\n",
       "      <td>JL7GXJ9u4YMx7Rzs05NfiQ</td>\n",
       "      <td>4</td>\n",
       "      <td>Luckily, I didn't have to travel far to make m...</td>\n",
       "      <td>review</td>\n",
       "      <td>1ieuYcKS7zeAv_U15AB13A</td>\n",
       "      <td>0</td>\n",
       "      <td>1</td>\n",
       "      <td>0</td>\n",
       "    </tr>\n",
       "    <tr>\n",
       "      <th>8</th>\n",
       "      <td>wNUea3IXZWD63bbOQaOH-g</td>\n",
       "      <td>2012-08-17</td>\n",
       "      <td>XtnfnYmnJYi71yIuGsXIUA</td>\n",
       "      <td>4</td>\n",
       "      <td>Definitely come for Happy hour! Prices are ama...</td>\n",
       "      <td>review</td>\n",
       "      <td>Vh_DlizgGhSqQh4qfZ2h6A</td>\n",
       "      <td>0</td>\n",
       "      <td>0</td>\n",
       "      <td>0</td>\n",
       "    </tr>\n",
       "    <tr>\n",
       "      <th>9</th>\n",
       "      <td>nMHhuYan8e3cONo3PornJA</td>\n",
       "      <td>2010-08-11</td>\n",
       "      <td>jJAIXA46pU1swYyRCdfXtQ</td>\n",
       "      <td>5</td>\n",
       "      <td>Nobuo shows his unique talents with everything...</td>\n",
       "      <td>review</td>\n",
       "      <td>sUNkXg8-KFtCMQDV6zRzQg</td>\n",
       "      <td>0</td>\n",
       "      <td>1</td>\n",
       "      <td>0</td>\n",
       "    </tr>\n",
       "  </tbody>\n",
       "</table>\n",
       "</div>"
      ]
     },
     "execution_count": 2,
     "metadata": {},
     "output_type": "execute_result"
    }
   ],
   "execution_count": 2
  },
  {
   "metadata": {},
   "cell_type": "markdown",
   "source": "### Print out our columns"
  },
  {
   "metadata": {
    "ExecuteTime": {
     "end_time": "2024-05-28T05:22:49.603973Z",
     "start_time": "2024-05-28T05:22:49.599604Z"
    }
   },
   "cell_type": "code",
   "source": "print(df.columns)",
   "outputs": [
    {
     "name": "stdout",
     "output_type": "stream",
     "text": [
      "Index(['business_id', 'date', 'review_id', 'stars', 'text', 'type', 'user_id',\n",
      "       'cool', 'useful', 'funny'],\n",
      "      dtype='object')\n"
     ]
    }
   ],
   "execution_count": 3
  },
  {
   "metadata": {},
   "cell_type": "markdown",
   "source": "### Dataset summary"
  },
  {
   "metadata": {
    "ExecuteTime": {
     "end_time": "2024-05-28T05:22:49.619296Z",
     "start_time": "2024-05-28T05:22:49.604982Z"
    }
   },
   "cell_type": "code",
   "source": "df.info()",
   "outputs": [
    {
     "name": "stdout",
     "output_type": "stream",
     "text": [
      "<class 'pandas.core.frame.DataFrame'>\n",
      "RangeIndex: 10000 entries, 0 to 9999\n",
      "Data columns (total 10 columns):\n",
      " #   Column       Non-Null Count  Dtype \n",
      "---  ------       --------------  ----- \n",
      " 0   business_id  10000 non-null  object\n",
      " 1   date         10000 non-null  object\n",
      " 2   review_id    10000 non-null  object\n",
      " 3   stars        10000 non-null  int64 \n",
      " 4   text         10000 non-null  object\n",
      " 5   type         10000 non-null  object\n",
      " 6   user_id      10000 non-null  object\n",
      " 7   cool         10000 non-null  int64 \n",
      " 8   useful       10000 non-null  int64 \n",
      " 9   funny        10000 non-null  int64 \n",
      "dtypes: int64(4), object(6)\n",
      "memory usage: 781.4+ KB\n"
     ]
    }
   ],
   "execution_count": 4
  },
  {
   "metadata": {},
   "cell_type": "markdown",
   "source": "### Plot a histogram to check the reviews text length"
  },
  {
   "cell_type": "code",
   "metadata": {
    "ExecuteTime": {
     "end_time": "2024-05-28T05:22:49.930890Z",
     "start_time": "2024-05-28T05:22:49.620303Z"
    }
   },
   "source": [
    "from matplotlib import pyplot as plt\n",
    "df.text.str.len().hist(bins=100)\n",
    "plt.xlabel(\"Length\")\n",
    "plt.ylabel(\"Count\")\n",
    "plt.title(\"Distribution of Review Text Length\")\n",
    "plt.show()"
   ],
   "outputs": [
    {
     "data": {
      "text/plain": [
       "<Figure size 640x480 with 1 Axes>"
      ],
      "image/png": "[encoded data removed]"
     },
     "metadata": {},
     "output_type": "display_data"
    }
   ],
   "execution_count": 5
  },
  {
   "metadata": {},
   "cell_type": "markdown",
   "source": "### Check random index review rating and its text representation"
  },
  {
   "metadata": {
    "ExecuteTime": {
     "end_time": "2024-05-28T05:22:49.936822Z",
     "start_time": "2024-05-28T05:22:49.931899Z"
    }
   },
   "cell_type": "code",
   "source": [
    "N = 200\n",
    "print(\"Sample review rating:\", df.iloc[N].stars)\n",
    "print(\"Sample review text:\", df.iloc[N].text)"
   ],
   "outputs": [
    {
     "name": "stdout",
     "output_type": "stream",
     "text": [
      "Sample review rating: 5\n",
      "Sample review text: Who dosen't like Cosco, I love this place. The pizza is cheap and good.\n"
     ]
    }
   ],
   "execution_count": 6
  },
  {
   "metadata": {},
   "cell_type": "markdown",
   "source": "### Let's look at how many reviews fall into each rating category using seaborn's displot"
  },
  {
   "cell_type": "code",
   "metadata": {
    "ExecuteTime": {
     "end_time": "2024-05-28T05:22:50.255599Z",
     "start_time": "2024-05-28T05:22:49.939830Z"
    }
   },
   "source": [
    "import seaborn as sns\n",
    "sns.displot(df[\"stars\"])\n",
    "plt.title(\"Distribution of Ratings\")\n",
    "plt.show()"
   ],
   "outputs": [
    {
     "data": {
      "text/plain": [
       "<Figure size 500x500 with 1 Axes>"
      ],
      "image/png": "[encoded data removed]"
     },
     "metadata": {},
     "output_type": "display_data"
    }
   ],
   "execution_count": 7
  },
  {
   "metadata": {},
   "cell_type": "markdown",
   "source": "### Data Preprocessing"
  },
  {
   "metadata": {
    "ExecuteTime": {
     "end_time": "2024-05-28T05:22:50.348583Z",
     "start_time": "2024-05-28T05:22:50.256605Z"
    }
   },
   "cell_type": "code",
   "source": "df = pd.read_csv('yelp.csv')",
   "outputs": [],
   "execution_count": 8
  },
  {
   "metadata": {},
   "cell_type": "markdown",
   "source": "### Mapping 1-star reviews to represent negative sentiment 0 and 5-star reviews to represent positive sentiment 1"
  },
  {
   "metadata": {
    "ExecuteTime": {
     "end_time": "2024-05-28T05:22:50.358440Z",
     "start_time": "2024-05-28T05:22:50.349593Z"
    }
   },
   "cell_type": "code",
   "source": [
    "df = df[(df[\"stars\"] == 1) | (df[\"stars\"] == 5)]\n",
    "df[\"label\"] = df[\"stars\"].map({1: 0, 5: 1})\n",
    "\n",
    "X_Data = df[\"text\"]\n",
    "Y_Data = df[\"label\"]"
   ],
   "outputs": [],
   "execution_count": 9
  },
  {
   "metadata": {},
   "cell_type": "markdown",
   "source": "## Converting text data into its numerical representations using the sentence transformer model"
  },
  {
   "metadata": {
    "ExecuteTime": {
     "end_time": "2024-05-28T05:22:56.299052Z",
     "start_time": "2024-05-28T05:22:50.359447Z"
    }
   },
   "cell_type": "code",
   "source": [
    "from typing import List \n",
    "import sentence_transformers\n",
    "from sentence_transformers import SentenceTransformer\n",
    "sentence_transformer = SentenceTransformer(\"all-MiniLM-L6-v2\")\n",
    "\n",
    "\n",
    "def get_text_embeddings(encoder, text: List[str]) -> List[np.ndarray]:\n",
    "    return encoder.encode(text)"
   ],
   "outputs": [
    {
     "name": "stderr",
     "output_type": "stream",
     "text": [
      "C:\\python\\Lib\\site-packages\\huggingface_hub\\file_download.py:1132: FutureWarning: `resume_download` is deprecated and will be removed in version 1.0.0. Downloads always resume when possible. If you want to force a new download, use `force_download=True`.\n",
      "  warnings.warn(\n"
     ]
    }
   ],
   "execution_count": 10
  },
  {
   "metadata": {
    "ExecuteTime": {
     "end_time": "2024-05-28T05:22:56.303594Z",
     "start_time": "2024-05-28T05:22:56.300058Z"
    }
   },
   "cell_type": "code",
   "source": "texts = df.text.tolist()",
   "outputs": [],
   "execution_count": 11
  },
  {
   "metadata": {
    "ExecuteTime": {
     "end_time": "2024-05-28T05:24:38.996818Z",
     "start_time": "2024-05-28T05:22:56.304602Z"
    }
   },
   "cell_type": "code",
   "source": "embeddings = get_text_embeddings(sentence_transformer, texts)",
   "outputs": [],
   "execution_count": 12
  },
  {
   "metadata": {},
   "cell_type": "markdown",
   "source": "### Check its shape, first embedding length and its norm"
  },
  {
   "metadata": {
    "ExecuteTime": {
     "end_time": "2024-05-28T05:24:39.003149Z",
     "start_time": "2024-05-28T05:24:38.997824Z"
    }
   },
   "cell_type": "code",
   "source": "embeddings.shape",
   "outputs": [
    {
     "data": {
      "text/plain": [
       "(4086, 384)"
      ]
     },
     "execution_count": 13,
     "metadata": {},
     "output_type": "execute_result"
    }
   ],
   "execution_count": 13
  },
  {
   "metadata": {
    "ExecuteTime": {
     "end_time": "2024-05-28T05:24:39.011774Z",
     "start_time": "2024-05-28T05:24:39.004158Z"
    }
   },
   "cell_type": "code",
   "source": "len(embeddings[0])",
   "outputs": [
    {
     "data": {
      "text/plain": [
       "384"
      ]
     },
     "execution_count": 14,
     "metadata": {},
     "output_type": "execute_result"
    }
   ],
   "execution_count": 14
  },
  {
   "metadata": {
    "ExecuteTime": {
     "end_time": "2024-05-28T05:24:39.019740Z",
     "start_time": "2024-05-28T05:24:39.012782Z"
    }
   },
   "cell_type": "code",
   "source": "np.linalg.norm(embeddings[0])",
   "outputs": [
    {
     "data": {
      "text/plain": [
       "0.99999994"
      ]
     },
     "execution_count": 15,
     "metadata": {},
     "output_type": "execute_result"
    }
   ],
   "execution_count": 15
  },
  {
   "metadata": {
    "ExecuteTime": {
     "end_time": "2024-05-28T05:24:39.029138Z",
     "start_time": "2024-05-28T05:24:39.020746Z"
    }
   },
   "cell_type": "code",
   "source": "df = df.assign(embeddings = [e for e in embeddings])",
   "outputs": [],
   "execution_count": 16
  },
  {
   "metadata": {},
   "cell_type": "markdown",
   "source": "### Use feather function to write it into a binary file"
  },
  {
   "metadata": {
    "ExecuteTime": {
     "end_time": "2024-05-28T05:24:39.174230Z",
     "start_time": "2024-05-28T05:24:39.030148Z"
    }
   },
   "cell_type": "code",
   "source": [
    "df.reset_index(inplace=True)\n",
    "df.to_feather(\"yelp_with_embeddings.bin\")"
   ],
   "outputs": [],
   "execution_count": 17
  },
  {
   "metadata": {},
   "cell_type": "markdown",
   "source": "## Model building"
  },
  {
   "metadata": {
    "ExecuteTime": {
     "end_time": "2024-05-28T05:24:39.180693Z",
     "start_time": "2024-05-28T05:24:39.175237Z"
    }
   },
   "cell_type": "code",
   "source": [
    "import torch\n",
    "from torch import nn\n",
    "\n",
    "class ReviewClassifier(nn.Module):\n",
    "    def __init__(self, input_dim=384, hidden_dim1=150, hidden_dim2=15, output_dim=1):\n",
    "        super(ReviewClassifier, self).__init__()\n",
    "        self.mlp = nn.Sequential(\n",
    "            nn.Linear(input_dim, hidden_dim1),\n",
    "            nn.ReLU(),\n",
    "            nn.Linear(hidden_dim1, hidden_dim2),\n",
    "            nn.ReLU(),\n",
    "            nn.Linear(hidden_dim2, output_dim),\n",
    "            nn.Sigmoid()\n",
    "        )\n",
    "\n",
    "    def forward(self, x):\n",
    "        return self.mlp(x)"
   ],
   "outputs": [],
   "execution_count": 18
  },
  {
   "metadata": {
    "ExecuteTime": {
     "end_time": "2024-05-28T05:24:39.208710Z",
     "start_time": "2024-05-28T05:24:39.181701Z"
    }
   },
   "cell_type": "code",
   "source": "df = pd.read_feather(\"yelp_with_embeddings.bin\")",
   "outputs": [],
   "execution_count": 19
  },
  {
   "metadata": {},
   "cell_type": "markdown",
   "source": "### Numerical representations of text reviews"
  },
  {
   "metadata": {
    "ExecuteTime": {
     "end_time": "2024-05-28T05:24:39.217676Z",
     "start_time": "2024-05-28T05:24:39.209716Z"
    }
   },
   "cell_type": "code",
   "source": "df.embeddings[0]",
   "outputs": [
    {
     "data": {
      "text/plain": [
       "array([-2.69870870e-02,  1.21111218e-02,  1.03444263e-01,  5.85587248e-02,\n",
       "       -6.46284223e-02, -1.29983127e-02, -6.94513842e-02, -4.23906259e-02,\n",
       "       -4.72875647e-02, -7.47565776e-02,  2.75893311e-04, -1.09934276e-02,\n",
       "       -2.56671179e-02, -6.28251210e-02, -1.99138708e-02, -7.65453056e-02,\n",
       "        1.74198315e-01, -1.34243011e-01, -1.75687019e-02, -4.12424356e-02,\n",
       "       -1.09441169e-01, -4.82605211e-02,  4.82458770e-02, -1.33555774e-02,\n",
       "        5.59582375e-02,  5.01586609e-02,  2.06091125e-02,  4.79414314e-02,\n",
       "       -4.90631424e-02, -4.00309227e-02, -2.74517313e-02,  6.48624748e-02,\n",
       "       -4.05024402e-02, -4.38724458e-03, -2.46323515e-02,  4.45185751e-02,\n",
       "        9.24157351e-02, -1.14275217e-01,  5.28180040e-02, -3.53384792e-04,\n",
       "        2.43185665e-02, -4.42525595e-02,  5.36391996e-02, -2.23462954e-02,\n",
       "        2.35288702e-02,  4.34743753e-03, -1.30336974e-02,  4.99515906e-02,\n",
       "       -1.54166203e-02, -6.97716419e-03, -2.35754829e-02,  2.09900853e-03,\n",
       "        3.75692360e-02, -8.62444565e-02, -6.85300771e-03,  7.78977126e-02,\n",
       "       -6.73900694e-02, -7.37164393e-02, -1.78264380e-02, -1.08248647e-03,\n",
       "       -4.81574126e-02,  2.11569108e-02,  1.25666568e-02,  2.10619848e-02,\n",
       "        1.33452937e-02, -1.33137733e-01, -7.90682733e-02, -1.23439701e-02,\n",
       "        8.68085027e-03, -4.87615494e-03, -8.34083036e-02,  3.24232206e-02,\n",
       "        8.48386660e-02,  3.38213928e-02, -3.81159633e-02,  2.02525612e-02,\n",
       "        5.58056086e-02, -8.65466818e-02, -1.29947504e-02, -2.25701965e-02,\n",
       "        1.92524791e-02, -5.19389547e-02, -2.12009507e-03,  8.10813829e-02,\n",
       "       -6.65412769e-02, -6.95661902e-02,  7.98043758e-02,  1.16713673e-01,\n",
       "        3.33146639e-02, -4.78454232e-02,  5.78733981e-02,  2.74902601e-02,\n",
       "       -2.92248745e-02, -1.36976968e-02, -1.76375806e-02,  5.38569456e-03,\n",
       "       -8.98408145e-02, -5.90610988e-02, -3.49838324e-02,  3.21381539e-02,\n",
       "       -3.93620543e-02,  8.48296285e-02,  4.43563350e-02, -6.20669462e-02,\n",
       "       -1.30068511e-04,  5.10621350e-03,  2.08826419e-02,  6.01842999e-02,\n",
       "        7.63391377e-03, -3.17821912e-02,  6.22825418e-03,  9.52724367e-02,\n",
       "       -1.64803974e-02, -4.66069281e-02, -3.33437286e-02,  1.49613386e-02,\n",
       "        6.32259473e-02, -7.10855797e-02, -3.43911201e-02, -2.74256337e-02,\n",
       "       -6.71126321e-03,  8.93264115e-02,  1.63291162e-03,  1.61891636e-02,\n",
       "       -6.07838742e-02,  6.01697750e-02,  8.37860554e-02,  1.08792122e-33,\n",
       "       -5.23586534e-02,  9.48508680e-02,  3.99545766e-02,  2.43400913e-02,\n",
       "        1.02559730e-01, -8.24143086e-03, -3.53336148e-03, -5.14878854e-02,\n",
       "        6.05714321e-03,  6.08335249e-02,  1.68852508e-03, -6.24875119e-03,\n",
       "        2.31646951e-02,  2.64757313e-02,  4.08719778e-02, -1.72427026e-04,\n",
       "       -6.91120103e-02,  2.49039922e-02, -5.93046891e-03,  3.31235267e-02,\n",
       "       -3.50613035e-02, -1.83450021e-02, -4.10192972e-03, -2.08919146e-03,\n",
       "       -1.49178226e-02, -2.23000664e-02,  2.40941662e-02,  5.24160676e-02,\n",
       "       -1.51020824e-03, -1.21143172e-02,  4.43210006e-02, -1.91542022e-02,\n",
       "       -1.27714658e-02, -7.34671503e-02, -1.75793543e-02,  3.28858346e-02,\n",
       "       -1.08002257e-02, -7.25252032e-02, -4.67049703e-03,  4.90710847e-02,\n",
       "       -4.67787459e-02, -2.22252831e-02,  5.75229200e-03,  3.90564688e-02,\n",
       "       -1.88768376e-02, -9.38069448e-03,  3.57262529e-02,  4.19932827e-02,\n",
       "       -2.24531032e-02, -2.17912421e-02, -4.18910310e-02, -4.32465188e-02,\n",
       "        1.19772162e-02,  5.02807945e-02, -2.84597259e-02,  4.77354079e-02,\n",
       "        2.06664838e-02,  3.79457930e-03,  1.43183768e-01, -2.64689196e-02,\n",
       "        4.77422550e-02,  4.04453762e-02, -7.64873847e-02, -5.94600216e-02,\n",
       "       -6.22086525e-02, -1.90598704e-02,  2.88135149e-02, -3.67795378e-02,\n",
       "       -1.15083558e-02,  4.27131690e-02,  8.02865401e-02, -2.01732665e-02,\n",
       "        2.76312086e-04, -2.20895465e-02,  4.97051664e-02,  6.66928440e-02,\n",
       "       -5.04576899e-02, -2.26664841e-02,  1.21341586e-01, -3.60040553e-02,\n",
       "        1.53523594e-01,  2.51945462e-02, -5.34851104e-02, -4.90947478e-02,\n",
       "       -1.75985247e-02,  4.56682444e-02, -4.62493636e-02, -5.00789247e-02,\n",
       "        4.55314778e-02,  6.57503605e-02, -2.70161335e-03, -3.66258249e-02,\n",
       "        8.09207559e-02, -2.11647153e-02, -4.50422987e-02, -1.76122096e-33,\n",
       "       -5.11902152e-04, -3.41145485e-03, -8.19503367e-02,  6.53516576e-02,\n",
       "        4.61371103e-03, -5.55519424e-02, -5.73518090e-02,  1.49508687e-02,\n",
       "       -1.04390951e-02, -7.69057795e-02, -1.48242284e-02,  5.28385378e-02,\n",
       "        6.80353269e-02, -6.84601348e-03, -5.40470034e-02,  5.61820380e-02,\n",
       "        6.70744851e-02,  5.70619889e-02,  9.75797921e-02, -1.13525338e-01,\n",
       "       -4.81670760e-02,  7.31434301e-02, -7.21328845e-03,  2.60968935e-02,\n",
       "       -2.57502180e-02,  1.05358876e-01,  4.85394523e-02,  4.23888601e-02,\n",
       "       -1.02623656e-01, -9.14595276e-02, -1.84928495e-02, -3.12113483e-02,\n",
       "        7.05306232e-02, -3.65404715e-03,  2.27574762e-02,  1.29115418e-01,\n",
       "        1.83602665e-02, -1.22089656e-02, -1.93492845e-02,  3.65776159e-02,\n",
       "       -1.71085410e-02, -9.65994596e-03, -9.28642508e-03,  6.32369071e-02,\n",
       "       -1.32902162e-02,  1.47010870e-02, -8.49920046e-03, -6.10401221e-02,\n",
       "       -9.65383369e-03,  4.10977304e-02,  1.02282083e-02,  1.02466485e-02,\n",
       "       -1.32318409e-02, -3.49525735e-02,  2.64835227e-02,  4.26833518e-03,\n",
       "       -3.38668823e-02, -8.55213925e-02, -1.41457282e-03, -3.26240232e-04,\n",
       "       -7.66112953e-02,  1.98751595e-02, -1.86676648e-03,  3.13633643e-02,\n",
       "        1.11508153e-01, -3.28328907e-02, -1.02160424e-02, -7.56185278e-02,\n",
       "       -1.21610062e-02,  8.71014968e-03, -1.43655106e-01, -1.04567586e-02,\n",
       "       -4.77621034e-02, -1.73839275e-02,  2.76217982e-02,  5.86192310e-03,\n",
       "        5.10645136e-02, -3.41733396e-02, -3.51570770e-02,  6.53292704e-03,\n",
       "       -2.28358135e-02, -1.35072144e-02, -5.67931728e-03, -5.22089144e-03,\n",
       "        3.17015946e-02,  2.01924108e-02, -5.33554740e-02, -3.50575000e-02,\n",
       "       -2.07526125e-02,  8.81289169e-02,  1.90305971e-02,  5.38337976e-02,\n",
       "       -2.02797409e-02, -3.04705091e-02,  7.48808682e-02, -4.84263225e-08,\n",
       "        1.17822483e-01,  3.36281098e-02, -2.31636204e-02,  7.11729378e-02,\n",
       "        8.49576443e-02, -1.03741437e-01,  2.63556838e-02, -3.89546975e-02,\n",
       "        3.22070383e-02,  2.40321290e-02, -9.93174091e-02,  9.69236344e-02,\n",
       "       -3.23087610e-02, -1.99861228e-02, -5.35256788e-03,  2.55814847e-02,\n",
       "        6.63374662e-02,  3.58618274e-02, -3.74887325e-02,  1.23788873e-02,\n",
       "        4.59758118e-02,  7.71509558e-02,  1.60807390e-02, -7.58518055e-02,\n",
       "        5.55181243e-02,  4.70231697e-02,  2.45538224e-02, -7.11072329e-03,\n",
       "       -4.37854603e-03,  3.87967303e-02, -4.69578765e-02,  2.03480311e-02,\n",
       "       -2.31245495e-02,  2.31186226e-02, -6.86042905e-02, -4.95294891e-02,\n",
       "       -5.35814464e-02, -2.26034727e-02,  2.91960803e-03, -6.31514937e-02,\n",
       "       -8.98132399e-02, -1.58953015e-02, -7.54073039e-02, -3.02532967e-02,\n",
       "       -6.91728592e-02,  1.25562372e-02, -7.69963712e-02,  1.97452772e-02,\n",
       "       -7.86292180e-02,  5.87889701e-02, -5.94749078e-02, -1.56359915e-02,\n",
       "        4.31361087e-02,  6.69538826e-02,  1.68508831e-02,  1.61678568e-02,\n",
       "        2.93122930e-03, -2.61992905e-02,  8.97893086e-02,  3.39937471e-02,\n",
       "       -1.13160480e-02,  1.02929855e-02, -6.73349872e-02,  5.14033949e-03],\n",
       "      dtype=float32)"
      ]
     },
     "execution_count": 20,
     "metadata": {},
     "output_type": "execute_result"
    }
   ],
   "execution_count": 20
  },
  {
   "metadata": {
    "ExecuteTime": {
     "end_time": "2024-05-28T05:24:39.224989Z",
     "start_time": "2024-05-28T05:24:39.218686Z"
    }
   },
   "cell_type": "code",
   "source": "df.embeddings[0].shape",
   "outputs": [
    {
     "data": {
      "text/plain": [
       "(384,)"
      ]
     },
     "execution_count": 21,
     "metadata": {},
     "output_type": "execute_result"
    }
   ],
   "execution_count": 21
  },
  {
   "metadata": {
    "ExecuteTime": {
     "end_time": "2024-05-28T05:24:39.233227Z",
     "start_time": "2024-05-28T05:24:39.227999Z"
    }
   },
   "cell_type": "code",
   "source": "df.shape",
   "outputs": [
    {
     "data": {
      "text/plain": [
       "(4086, 13)"
      ]
     },
     "execution_count": 22,
     "metadata": {},
     "output_type": "execute_result"
    }
   ],
   "execution_count": 22
  },
  {
   "metadata": {},
   "cell_type": "markdown",
   "source": "### Shuffling and splitting our data into training, validation and test data frames"
  },
  {
   "metadata": {
    "ExecuteTime": {
     "end_time": "2024-05-28T05:24:39.241746Z",
     "start_time": "2024-05-28T05:24:39.234236Z"
    }
   },
   "cell_type": "code",
   "source": [
    "df = df.sample(frac=1.0)\n",
    "train_df = df[:2500]\n",
    "val_df = df[2500:4000]\n",
    "test_df = df[4000:]"
   ],
   "outputs": [],
   "execution_count": 23
  },
  {
   "metadata": {},
   "cell_type": "markdown",
   "source": "## Model Evaluation"
  },
  {
   "metadata": {
    "ExecuteTime": {
     "end_time": "2024-05-28T05:25:42.673508Z",
     "start_time": "2024-05-28T05:24:39.242754Z"
    }
   },
   "cell_type": "code",
   "source": [
    "import torch\n",
    "from torchmetrics import Accuracy\n",
    "from tqdm.notebook import tqdm \n",
    "from torch.utils.tensorboard import SummaryWriter\n",
    "\n",
    "# setup\n",
    "writer = SummaryWriter()\n",
    "model = ReviewClassifier()\n",
    "bce_loss = torch.nn.BCELoss()\n",
    "\n",
    "batch_size = 128\n",
    "adam_optimizer = torch.optim.Adam(model.parameters(), lr=0.0005)\n",
    "nr_of_epochs = 60\n",
    "losses = []\n",
    "\n",
    "# Training Loop\n",
    "for epoch in tqdm(range(nr_of_epochs)):\n",
    "    # shuffle \n",
    "    train_df = train_df.sample(frac=1.0)\n",
    "    current_index = 0 \n",
    "    while current_index < len(train_df):        \n",
    "        batch_x = np.array(\n",
    "            train_df.embeddings[current_index:(current_index + batch_size)].tolist()\n",
    "        )\n",
    "        batch_y = np.array(\n",
    "            train_df.label[current_index: (current_index + batch_size)].tolist()\n",
    "        )\n",
    "        \n",
    "        tensor_batch_x = torch.Tensor(batch_x)\n",
    "        tensor_batch_y = torch.Tensor(batch_y).reshape(-1, 1)\n",
    "        pred = model.forward(tensor_batch_x)\n",
    "        loss = bce_loss(pred, tensor_batch_y)\n",
    " \n",
    "        # Backpropagation\n",
    "        loss.backward() \n",
    "        adam_optimizer.step() \n",
    "        adam_optimizer.zero_grad()\n",
    "        \n",
    "        current_index += batch_size\n",
    "        losses.append(float(loss.detach().numpy()))\n",
    "    \n",
    "    # Validation Loop    \n",
    "    model.eval()\n",
    "    metric = Accuracy(task='BINARY')\n",
    "    for _, eval_row in tqdm(val_df.iterrows(), desc='evaluating'):\n",
    "        pred = model.forward(\n",
    "            torch.Tensor(np.array(eval_row.embeddings))\n",
    "        )\n",
    "        metric.update(pred, torch.Tensor([eval_row.label]))\n",
    "    metric_value = metric.compute()\n",
    "\n",
    "    writer.add_scalar('Accuracy/eval', metric_value, epoch)"
   ],
   "outputs": [
    {
     "data": {
      "text/plain": [
       "  0%|          | 0/60 [00:00<?, ?it/s]"
      ],
      "application/vnd.jupyter.widget-view+json": {
       "version_major": 2,
       "version_minor": 0,
       "model_id": "5cd3353d602747758d59bf2c3ff63a80"
      }
     },
     "metadata": {},
     "output_type": "display_data"
    },
    {
     "data": {
      "text/plain": [
       "evaluating: 0it [00:00, ?it/s]"
      ],
      "application/vnd.jupyter.widget-view+json": {
       "version_major": 2,
       "version_minor": 0,
       "model_id": "6a942af1215c4f40a656216d306bc760"
      }
     },
     "metadata": {},
     "output_type": "display_data"
    },
    {
     "data": {
      "text/plain": [
       "evaluating: 0it [00:00, ?it/s]"
      ],
      "application/vnd.jupyter.widget-view+json": {
       "version_major": 2,
       "version_minor": 0,
       "model_id": "3869a748bc94444f8674704f3b4365ad"
      }
     },
     "metadata": {},
     "output_type": "display_data"
    },
    {
     "data": {
      "text/plain": [
       "evaluating: 0it [00:00, ?it/s]"
      ],
      "application/vnd.jupyter.widget-view+json": {
       "version_major": 2,
       "version_minor": 0,
       "model_id": "d516d1890219441ba6a64f3571200fde"
      }
     },
     "metadata": {},
     "output_type": "display_data"
    },
    {
     "data": {
      "text/plain": [
       "evaluating: 0it [00:00, ?it/s]"
      ],
      "application/vnd.jupyter.widget-view+json": {
       "version_major": 2,
       "version_minor": 0,
       "model_id": "d5e28c3a47a34cdeaafdfe34b0e16874"
      }
     },
     "metadata": {},
     "output_type": "display_data"
    },
    {
     "data": {
      "text/plain": [
       "evaluating: 0it [00:00, ?it/s]"
      ],
      "application/vnd.jupyter.widget-view+json": {
       "version_major": 2,
       "version_minor": 0,
       "model_id": "d5ae3ff742ca468ba967184972c52f2a"
      }
     },
     "metadata": {},
     "output_type": "display_data"
    },
    {
     "data": {
      "text/plain": [
       "evaluating: 0it [00:00, ?it/s]"
      ],
      "application/vnd.jupyter.widget-view+json": {
       "version_major": 2,
       "version_minor": 0,
       "model_id": "114a8403046a47949c5ebc433dad856f"
      }
     },
     "metadata": {},
     "output_type": "display_data"
    },
    {
     "data": {
      "text/plain": [
       "evaluating: 0it [00:00, ?it/s]"
      ],
      "application/vnd.jupyter.widget-view+json": {
       "version_major": 2,
       "version_minor": 0,
       "model_id": "6ee53e37d2e946a4be31ce5d22f32d7c"
      }
     },
     "metadata": {},
     "output_type": "display_data"
    },
    {
     "data": {
      "text/plain": [
       "evaluating: 0it [00:00, ?it/s]"
      ],
      "application/vnd.jupyter.widget-view+json": {
       "version_major": 2,
       "version_minor": 0,
       "model_id": "2eedce0379914ee8b21201ba84ddeb1b"
      }
     },
     "metadata": {},
     "output_type": "display_data"
    },
    {
     "data": {
      "text/plain": [
       "evaluating: 0it [00:00, ?it/s]"
      ],
      "application/vnd.jupyter.widget-view+json": {
       "version_major": 2,
       "version_minor": 0,
       "model_id": "5f5afa9453024709ab377c2076880454"
      }
     },
     "metadata": {},
     "output_type": "display_data"
    },
    {
     "data": {
      "text/plain": [
       "evaluating: 0it [00:00, ?it/s]"
      ],
      "application/vnd.jupyter.widget-view+json": {
       "version_major": 2,
       "version_minor": 0,
       "model_id": "9aceae4c69b5449cbe7d97f8f1800048"
      }
     },
     "metadata": {},
     "output_type": "display_data"
    },
    {
     "data": {
      "text/plain": [
       "evaluating: 0it [00:00, ?it/s]"
      ],
      "application/vnd.jupyter.widget-view+json": {
       "version_major": 2,
       "version_minor": 0,
       "model_id": "09443086700d46428bdb78e27e55f68d"
      }
     },
     "metadata": {},
     "output_type": "display_data"
    },
    {
     "data": {
      "text/plain": [
       "evaluating: 0it [00:00, ?it/s]"
      ],
      "application/vnd.jupyter.widget-view+json": {
       "version_major": 2,
       "version_minor": 0,
       "model_id": "d4be2d8ed8e14101ac366cf1d8a811c1"
      }
     },
     "metadata": {},
     "output_type": "display_data"
    },
    {
     "data": {
      "text/plain": [
       "evaluating: 0it [00:00, ?it/s]"
      ],
      "application/vnd.jupyter.widget-view+json": {
       "version_major": 2,
       "version_minor": 0,
       "model_id": "343eb35deed84d23bd3072ea0da5891f"
      }
     },
     "metadata": {},
     "output_type": "display_data"
    },
    {
     "data": {
      "text/plain": [
       "evaluating: 0it [00:00, ?it/s]"
      ],
      "application/vnd.jupyter.widget-view+json": {
       "version_major": 2,
       "version_minor": 0,
       "model_id": "b8f1f675a8234610a72a728cb960cf13"
      }
     },
     "metadata": {},
     "output_type": "display_data"
    },
    {
     "data": {
      "text/plain": [
       "evaluating: 0it [00:00, ?it/s]"
      ],
      "application/vnd.jupyter.widget-view+json": {
       "version_major": 2,
       "version_minor": 0,
       "model_id": "60fba55241804fcb99da9487ebc4e608"
      }
     },
     "metadata": {},
     "output_type": "display_data"
    },
    {
     "data": {
      "text/plain": [
       "evaluating: 0it [00:00, ?it/s]"
      ],
      "application/vnd.jupyter.widget-view+json": {
       "version_major": 2,
       "version_minor": 0,
       "model_id": "b3c0f3ba80714d97a6785ca7836c5f8b"
      }
     },
     "metadata": {},
     "output_type": "display_data"
    },
    {
     "data": {
      "text/plain": [
       "evaluating: 0it [00:00, ?it/s]"
      ],
      "application/vnd.jupyter.widget-view+json": {
       "version_major": 2,
       "version_minor": 0,
       "model_id": "0a613d49e9854cf885ae049647a5ffce"
      }
     },
     "metadata": {},
     "output_type": "display_data"
    },
    {
     "data": {
      "text/plain": [
       "evaluating: 0it [00:00, ?it/s]"
      ],
      "application/vnd.jupyter.widget-view+json": {
       "version_major": 2,
       "version_minor": 0,
       "model_id": "63dd1152618d4e4a8571547240dba6e9"
      }
     },
     "metadata": {},
     "output_type": "display_data"
    },
    {
     "data": {
      "text/plain": [
       "evaluating: 0it [00:00, ?it/s]"
      ],
      "application/vnd.jupyter.widget-view+json": {
       "version_major": 2,
       "version_minor": 0,
       "model_id": "a71076c5c0824ffbab8e7fe93610c0ac"
      }
     },
     "metadata": {},
     "output_type": "display_data"
    },
    {
     "data": {
      "text/plain": [
       "evaluating: 0it [00:00, ?it/s]"
      ],
      "application/vnd.jupyter.widget-view+json": {
       "version_major": 2,
       "version_minor": 0,
       "model_id": "0fc78d92cf904eac83415b4afd11b25b"
      }
     },
     "metadata": {},
     "output_type": "display_data"
    },
    {
     "data": {
      "text/plain": [
       "evaluating: 0it [00:00, ?it/s]"
      ],
      "application/vnd.jupyter.widget-view+json": {
       "version_major": 2,
       "version_minor": 0,
       "model_id": "6f4a7a08978a45e1ae3a2b659a227d05"
      }
     },
     "metadata": {},
     "output_type": "display_data"
    },
    {
     "data": {
      "text/plain": [
       "evaluating: 0it [00:00, ?it/s]"
      ],
      "application/vnd.jupyter.widget-view+json": {
       "version_major": 2,
       "version_minor": 0,
       "model_id": "36f310694043433d9cc0481bd9d053d5"
      }
     },
     "metadata": {},
     "output_type": "display_data"
    },
    {
     "data": {
      "text/plain": [
       "evaluating: 0it [00:00, ?it/s]"
      ],
      "application/vnd.jupyter.widget-view+json": {
       "version_major": 2,
       "version_minor": 0,
       "model_id": "0eb9d6b822634dbebdb495f66acf2617"
      }
     },
     "metadata": {},
     "output_type": "display_data"
    },
    {
     "data": {
      "text/plain": [
       "evaluating: 0it [00:00, ?it/s]"
      ],
      "application/vnd.jupyter.widget-view+json": {
       "version_major": 2,
       "version_minor": 0,
       "model_id": "874ca2a8d1c54235a5abf2cfac289710"
      }
     },
     "metadata": {},
     "output_type": "display_data"
    },
    {
     "data": {
      "text/plain": [
       "evaluating: 0it [00:00, ?it/s]"
      ],
      "application/vnd.jupyter.widget-view+json": {
       "version_major": 2,
       "version_minor": 0,
       "model_id": "86b8708142e24ede93371798f4baae77"
      }
     },
     "metadata": {},
     "output_type": "display_data"
    },
    {
     "data": {
      "text/plain": [
       "evaluating: 0it [00:00, ?it/s]"
      ],
      "application/vnd.jupyter.widget-view+json": {
       "version_major": 2,
       "version_minor": 0,
       "model_id": "72ff352ff4d74918862f404bafe48020"
      }
     },
     "metadata": {},
     "output_type": "display_data"
    },
    {
     "data": {
      "text/plain": [
       "evaluating: 0it [00:00, ?it/s]"
      ],
      "application/vnd.jupyter.widget-view+json": {
       "version_major": 2,
       "version_minor": 0,
       "model_id": "c5bbd156fe79471b807893aa13592867"
      }
     },
     "metadata": {},
     "output_type": "display_data"
    },
    {
     "data": {
      "text/plain": [
       "evaluating: 0it [00:00, ?it/s]"
      ],
      "application/vnd.jupyter.widget-view+json": {
       "version_major": 2,
       "version_minor": 0,
       "model_id": "01b4c0ad4f9d461498555c1d220f9f85"
      }
     },
     "metadata": {},
     "output_type": "display_data"
    },
    {
     "data": {
      "text/plain": [
       "evaluating: 0it [00:00, ?it/s]"
      ],
      "application/vnd.jupyter.widget-view+json": {
       "version_major": 2,
       "version_minor": 0,
       "model_id": "fec018f233004eb781e988a95b1b506a"
      }
     },
     "metadata": {},
     "output_type": "display_data"
    },
    {
     "data": {
      "text/plain": [
       "evaluating: 0it [00:00, ?it/s]"
      ],
      "application/vnd.jupyter.widget-view+json": {
       "version_major": 2,
       "version_minor": 0,
       "model_id": "3b8b218e8fd240b8b99b18b713474bf9"
      }
     },
     "metadata": {},
     "output_type": "display_data"
    },
    {
     "data": {
      "text/plain": [
       "evaluating: 0it [00:00, ?it/s]"
      ],
      "application/vnd.jupyter.widget-view+json": {
       "version_major": 2,
       "version_minor": 0,
       "model_id": "d29deaba2ee24692b04055bee54dad93"
      }
     },
     "metadata": {},
     "output_type": "display_data"
    },
    {
     "data": {
      "text/plain": [
       "evaluating: 0it [00:00, ?it/s]"
      ],
      "application/vnd.jupyter.widget-view+json": {
       "version_major": 2,
       "version_minor": 0,
       "model_id": "15f035c45e5e4a8d8efe564453316c36"
      }
     },
     "metadata": {},
     "output_type": "display_data"
    },
    {
     "data": {
      "text/plain": [
       "evaluating: 0it [00:00, ?it/s]"
      ],
      "application/vnd.jupyter.widget-view+json": {
       "version_major": 2,
       "version_minor": 0,
       "model_id": "44bf5d21968f49e897a337311f0b4d5e"
      }
     },
     "metadata": {},
     "output_type": "display_data"
    },
    {
     "data": {
      "text/plain": [
       "evaluating: 0it [00:00, ?it/s]"
      ],
      "application/vnd.jupyter.widget-view+json": {
       "version_major": 2,
       "version_minor": 0,
       "model_id": "f9dd5e66ee864571b46bcb02f14ba2a8"
      }
     },
     "metadata": {},
     "output_type": "display_data"
    },
    {
     "data": {
      "text/plain": [
       "evaluating: 0it [00:00, ?it/s]"
      ],
      "application/vnd.jupyter.widget-view+json": {
       "version_major": 2,
       "version_minor": 0,
       "model_id": "0a4e06be440e4acba3f030a01e196238"
      }
     },
     "metadata": {},
     "output_type": "display_data"
    },
    {
     "data": {
      "text/plain": [
       "evaluating: 0it [00:00, ?it/s]"
      ],
      "application/vnd.jupyter.widget-view+json": {
       "version_major": 2,
       "version_minor": 0,
       "model_id": "e9e88de2f793415d91ad0c3da7532205"
      }
     },
     "metadata": {},
     "output_type": "display_data"
    },
    {
     "data": {
      "text/plain": [
       "evaluating: 0it [00:00, ?it/s]"
      ],
      "application/vnd.jupyter.widget-view+json": {
       "version_major": 2,
       "version_minor": 0,
       "model_id": "5e33c68380f449eaaac3afaaae3bf4d1"
      }
     },
     "metadata": {},
     "output_type": "display_data"
    },
    {
     "data": {
      "text/plain": [
       "evaluating: 0it [00:00, ?it/s]"
      ],
      "application/vnd.jupyter.widget-view+json": {
       "version_major": 2,
       "version_minor": 0,
       "model_id": "206cc0ad398241e7a3a2f6f29def37b1"
      }
     },
     "metadata": {},
     "output_type": "display_data"
    },
    {
     "data": {
      "text/plain": [
       "evaluating: 0it [00:00, ?it/s]"
      ],
      "application/vnd.jupyter.widget-view+json": {
       "version_major": 2,
       "version_minor": 0,
       "model_id": "a42915877f8e45f3ae06d3014d0f8bb4"
      }
     },
     "metadata": {},
     "output_type": "display_data"
    },
    {
     "data": {
      "text/plain": [
       "evaluating: 0it [00:00, ?it/s]"
      ],
      "application/vnd.jupyter.widget-view+json": {
       "version_major": 2,
       "version_minor": 0,
       "model_id": "00d2756a364d4fc38ffb776776130128"
      }
     },
     "metadata": {},
     "output_type": "display_data"
    },
    {
     "data": {
      "text/plain": [
       "evaluating: 0it [00:00, ?it/s]"
      ],
      "application/vnd.jupyter.widget-view+json": {
       "version_major": 2,
       "version_minor": 0,
       "model_id": "70d756808d6441e2a37dfdc69cb6bc7e"
      }
     },
     "metadata": {},
     "output_type": "display_data"
    },
    {
     "data": {
      "text/plain": [
       "evaluating: 0it [00:00, ?it/s]"
      ],
      "application/vnd.jupyter.widget-view+json": {
       "version_major": 2,
       "version_minor": 0,
       "model_id": "5c8c3e7baf614400a92be67f03d7231e"
      }
     },
     "metadata": {},
     "output_type": "display_data"
    },
    {
     "data": {
      "text/plain": [
       "evaluating: 0it [00:00, ?it/s]"
      ],
      "application/vnd.jupyter.widget-view+json": {
       "version_major": 2,
       "version_minor": 0,
       "model_id": "c433d6280a794374bf6d865e25e60d60"
      }
     },
     "metadata": {},
     "output_type": "display_data"
    },
    {
     "data": {
      "text/plain": [
       "evaluating: 0it [00:00, ?it/s]"
      ],
      "application/vnd.jupyter.widget-view+json": {
       "version_major": 2,
       "version_minor": 0,
       "model_id": "0be8a740737b4cc5b4f93bc648ddf279"
      }
     },
     "metadata": {},
     "output_type": "display_data"
    },
    {
     "data": {
      "text/plain": [
       "evaluating: 0it [00:00, ?it/s]"
      ],
      "application/vnd.jupyter.widget-view+json": {
       "version_major": 2,
       "version_minor": 0,
       "model_id": "87a661cb4cab4cfcb1486fd7f457ffc8"
      }
     },
     "metadata": {},
     "output_type": "display_data"
    },
    {
     "data": {
      "text/plain": [
       "evaluating: 0it [00:00, ?it/s]"
      ],
      "application/vnd.jupyter.widget-view+json": {
       "version_major": 2,
       "version_minor": 0,
       "model_id": "f00d1245f07f456486d788925f3cfd52"
      }
     },
     "metadata": {},
     "output_type": "display_data"
    },
    {
     "data": {
      "text/plain": [
       "evaluating: 0it [00:00, ?it/s]"
      ],
      "application/vnd.jupyter.widget-view+json": {
       "version_major": 2,
       "version_minor": 0,
       "model_id": "2e587446f1654ffa882b68cff45d4b83"
      }
     },
     "metadata": {},
     "output_type": "display_data"
    },
    {
     "data": {
      "text/plain": [
       "evaluating: 0it [00:00, ?it/s]"
      ],
      "application/vnd.jupyter.widget-view+json": {
       "version_major": 2,
       "version_minor": 0,
       "model_id": "dc6b0f69dcc44b2f8517e88d93a12d8b"
      }
     },
     "metadata": {},
     "output_type": "display_data"
    },
    {
     "data": {
      "text/plain": [
       "evaluating: 0it [00:00, ?it/s]"
      ],
      "application/vnd.jupyter.widget-view+json": {
       "version_major": 2,
       "version_minor": 0,
       "model_id": "f937e51254234e33bbac84882910723d"
      }
     },
     "metadata": {},
     "output_type": "display_data"
    },
    {
     "data": {
      "text/plain": [
       "evaluating: 0it [00:00, ?it/s]"
      ],
      "application/vnd.jupyter.widget-view+json": {
       "version_major": 2,
       "version_minor": 0,
       "model_id": "981e875fe6ee457880103a03ab6a15be"
      }
     },
     "metadata": {},
     "output_type": "display_data"
    },
    {
     "data": {
      "text/plain": [
       "evaluating: 0it [00:00, ?it/s]"
      ],
      "application/vnd.jupyter.widget-view+json": {
       "version_major": 2,
       "version_minor": 0,
       "model_id": "d006591abb104b8d818811c8b3ac3921"
      }
     },
     "metadata": {},
     "output_type": "display_data"
    },
    {
     "data": {
      "text/plain": [
       "evaluating: 0it [00:00, ?it/s]"
      ],
      "application/vnd.jupyter.widget-view+json": {
       "version_major": 2,
       "version_minor": 0,
       "model_id": "a3ed4577787f455fbcef63582fdb0f10"
      }
     },
     "metadata": {},
     "output_type": "display_data"
    },
    {
     "data": {
      "text/plain": [
       "evaluating: 0it [00:00, ?it/s]"
      ],
      "application/vnd.jupyter.widget-view+json": {
       "version_major": 2,
       "version_minor": 0,
       "model_id": "bbeabd6769e64687ad2e96c2bd5a27af"
      }
     },
     "metadata": {},
     "output_type": "display_data"
    },
    {
     "data": {
      "text/plain": [
       "evaluating: 0it [00:00, ?it/s]"
      ],
      "application/vnd.jupyter.widget-view+json": {
       "version_major": 2,
       "version_minor": 0,
       "model_id": "97f0413079914b2daa3381994d898670"
      }
     },
     "metadata": {},
     "output_type": "display_data"
    },
    {
     "data": {
      "text/plain": [
       "evaluating: 0it [00:00, ?it/s]"
      ],
      "application/vnd.jupyter.widget-view+json": {
       "version_major": 2,
       "version_minor": 0,
       "model_id": "24a43c2916b341b9a8a2be79868ee32c"
      }
     },
     "metadata": {},
     "output_type": "display_data"
    },
    {
     "data": {
      "text/plain": [
       "evaluating: 0it [00:00, ?it/s]"
      ],
      "application/vnd.jupyter.widget-view+json": {
       "version_major": 2,
       "version_minor": 0,
       "model_id": "24f101b230ee478b864c59e41981324d"
      }
     },
     "metadata": {},
     "output_type": "display_data"
    },
    {
     "data": {
      "text/plain": [
       "evaluating: 0it [00:00, ?it/s]"
      ],
      "application/vnd.jupyter.widget-view+json": {
       "version_major": 2,
       "version_minor": 0,
       "model_id": "77c08337c59c42e6b472f4f2a73bcf82"
      }
     },
     "metadata": {},
     "output_type": "display_data"
    },
    {
     "data": {
      "text/plain": [
       "evaluating: 0it [00:00, ?it/s]"
      ],
      "application/vnd.jupyter.widget-view+json": {
       "version_major": 2,
       "version_minor": 0,
       "model_id": "c5b2172530344282b0186e7cc422e814"
      }
     },
     "metadata": {},
     "output_type": "display_data"
    },
    {
     "data": {
      "text/plain": [
       "evaluating: 0it [00:00, ?it/s]"
      ],
      "application/vnd.jupyter.widget-view+json": {
       "version_major": 2,
       "version_minor": 0,
       "model_id": "2f57fa600d614a5cad13025be6b1052a"
      }
     },
     "metadata": {},
     "output_type": "display_data"
    },
    {
     "data": {
      "text/plain": [
       "evaluating: 0it [00:00, ?it/s]"
      ],
      "application/vnd.jupyter.widget-view+json": {
       "version_major": 2,
       "version_minor": 0,
       "model_id": "452658d55cb4476792b0fadffc70987e"
      }
     },
     "metadata": {},
     "output_type": "display_data"
    }
   ],
   "execution_count": 24
  },
  {
   "metadata": {},
   "cell_type": "markdown",
   "source": "## Plotting results and important metrics to visualize model performance"
  },
  {
   "metadata": {
    "ExecuteTime": {
     "end_time": "2024-05-28T05:25:42.901321Z",
     "start_time": "2024-05-28T05:25:42.675515Z"
    }
   },
   "cell_type": "code",
   "source": "pd.Series(losses).plot()",
   "outputs": [
    {
     "data": {
      "text/plain": [
       "<Axes: >"
      ]
     },
     "execution_count": 25,
     "metadata": {},
     "output_type": "execute_result"
    },
    {
     "data": {
      "text/plain": [
       "<Figure size 640x480 with 1 Axes>"
      ],
      "image/png": "[encoded data removed]"
     },
     "metadata": {},
     "output_type": "display_data"
    }
   ],
   "execution_count": 25
  },
  {
   "metadata": {
    "ExecuteTime": {
     "end_time": "2024-05-28T05:25:42.908947Z",
     "start_time": "2024-05-28T05:25:42.902327Z"
    }
   },
   "cell_type": "code",
   "source": "torch.save(model.state_dict(), \"review_classifier.bin\")",
   "outputs": [],
   "execution_count": 26
  },
  {
   "metadata": {
    "ExecuteTime": {
     "end_time": "2024-05-28T05:25:42.925959Z",
     "start_time": "2024-05-28T05:25:42.909956Z"
    }
   },
   "cell_type": "code",
   "source": "state_dict = torch.load(\"review_classifier.bin\")",
   "outputs": [],
   "execution_count": 27
  },
  {
   "metadata": {
    "ExecuteTime": {
     "end_time": "2024-05-28T05:25:42.936447Z",
     "start_time": "2024-05-28T05:25:42.927968Z"
    }
   },
   "cell_type": "code",
   "source": [
    "model = ReviewClassifier()\n",
    "model.load_state_dict(state_dict)"
   ],
   "outputs": [
    {
     "data": {
      "text/plain": [
       "<All keys matched successfully>"
      ]
     },
     "execution_count": 28,
     "metadata": {},
     "output_type": "execute_result"
    }
   ],
   "execution_count": 28
  },
  {
   "metadata": {},
   "cell_type": "markdown",
   "source": "### Metric value of our model performance"
  },
  {
   "metadata": {
    "ExecuteTime": {
     "end_time": "2024-05-28T05:25:42.952746Z",
     "start_time": "2024-05-28T05:25:42.937454Z"
    }
   },
   "cell_type": "code",
   "source": "print(metric_value)",
   "outputs": [
    {
     "name": "stdout",
     "output_type": "stream",
     "text": [
      "tensor(0.9300)\n"
     ]
    }
   ],
   "execution_count": 29
  }
 ],
 "metadata": {
  "kernelspec": {
   "display_name": "Python 3",
   "language": "python",
   "name": "python3"
  },
  "language_info": {
   "codemirror_mode": {
    "name": "ipython",
    "version": 3
   },
   "file_extension": ".py",
   "mimetype": "text/x-python",
   "name": "python",
   "nbconvert_exporter": "python",
   "pygments_lexer": "ipython3",
   "version": "3.7.3"
  }
 },
 "nbformat": 4,
 "nbformat_minor": 2
}
